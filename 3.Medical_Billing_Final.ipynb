{
 "cells": [
  {
   "cell_type": "markdown",
   "metadata": {},
   "source": [
    "# 1a. Reading\n",
    "This article \"Predicting Healthcare Fraud in Medicaid: A Multidimensional\n",
    "Data Model and Analysis Techniques for Fraud Detection\" articulates the big picture of healthcare fraud and scientific techniques in analyzing these frauds. The paper disused the environment, the types of frauds, and the techniques to address these frauds. As a person who is not very well-versed with the industry, I find this paper very laymen friendly. It starts off with a discussion of the different parties within the healthcare system and their roles (patient, provider, insurer, and Federal CMS). Then, a detailed seven levels of fraud were depicted. Level 1 fraud starts off at a single transaction level, and level 7 is at a broad municipality level. Then for each subdivided level of fraud, a scientific solution using data analytic was discussed and explained. I really like this paper, as it produced a great pavement to start off this week's class. "
   ]
  },
  {
   "cell_type": "code",
   "execution_count": 1,
   "metadata": {},
   "outputs": [
    {
     "data": {
      "application/javascript": [
       "IPython.notebook.set_autosave_interval(180000)"
      ]
     },
     "metadata": {},
     "output_type": "display_data"
    },
    {
     "name": "stdout",
     "output_type": "stream",
     "text": [
      "Autosaving every 180 seconds\n"
     ]
    }
   ],
   "source": [
    "import numpy as np\n",
    "import pandas as pd\n",
    "import os\n",
    "import seaborn as sns\n",
    "import matplotlib.pyplot as plt\n",
    "%autosave 180\n",
    "%matplotlib inline"
   ]
  },
  {
   "cell_type": "code",
   "execution_count": 2,
   "metadata": {},
   "outputs": [],
   "source": [
    "data = pd.read_csv(\"/Users/aston/Desktop/CU2020Summer/M3/HW3/inpatientCharges.csv\")"
   ]
  },
  {
   "cell_type": "code",
   "execution_count": 3,
   "metadata": {},
   "outputs": [],
   "source": [
    "#recrod the definition of each column\n",
    "definition = {'DRG':'Classification system that groups similar clinical conditions (diagnoses) and the procedures furnished by the hospital during the stay.',\n",
    "             'Total Discharges': 'The number of discharges billed by all providers for inpatient hospital services.',\n",
    "             'AverageCovered':\"The average charge of all provider's services covered by Medicare for discharges in the DRG. These will vary from hospital to hospital because of differences in hospital charge structures.\",\n",
    "             'AverageTotal':'The average total payments to all providers for the DRG including the MS-DRG amount, teaching,  disproportionate share, capital, and outlier payments for all cases. Also included in average total payments are co-payment and deductible amounts that the patient is responsible for and any additional payments by third parties for coordination of benefits.',\n",
    "             'AverageMedicare':'The average amount that Medicare pays to the provider for Medicares share of the MS-DRG. Medicare payment amounts include the MS-DRG amount, teaching,  disproportionate share, capital, and outlier payments for all cases. Medicare payments DO NOT include beneficiary co-payments and deductible amounts nor any additional payments from third parties for coordination of benefits.',\n",
    "             'AverageCopay': 'AverageTotal - AverageMedicare'}"
   ]
  },
  {
   "cell_type": "code",
   "execution_count": 4,
   "metadata": {},
   "outputs": [],
   "source": [
    "#gets rid of the white space on both the left and right of each column\n",
    "data.columns = data.columns.str.lstrip()\n",
    "data.columns = data.columns.str.rstrip()"
   ]
  },
  {
   "cell_type": "code",
   "execution_count": 5,
   "metadata": {},
   "outputs": [],
   "source": [
    "#changes the dtype of some columns into floats\n",
    "data['Average Covered Charges']= data['Average Covered Charges'].replace('[\\$,]', '', regex=True).astype(float)\n",
    "data['Average Total Payments']= data['Average Total Payments'].replace('[\\$,]', '', regex=True).astype(float)\n",
    "data['Average Medicare Payments']= data['Average Medicare Payments'].replace('[\\$,]', '', regex=True).astype(float)"
   ]
  },
  {
   "cell_type": "code",
   "execution_count": 6,
   "metadata": {},
   "outputs": [],
   "source": [
    "# calculate the amount of copy or 'out of pocket' cost to individual\n",
    "data['Average Copay']= data['Average Total Payments'] - data['Average Medicare Payments']"
   ]
  },
  {
   "cell_type": "code",
   "execution_count": 7,
   "metadata": {},
   "outputs": [
    {
     "name": "stdout",
     "output_type": "stream",
     "text": [
      "(163065, 13)\n"
     ]
    },
    {
     "data": {
      "text/html": [
       "<div>\n",
       "<style scoped>\n",
       "    .dataframe tbody tr th:only-of-type {\n",
       "        vertical-align: middle;\n",
       "    }\n",
       "\n",
       "    .dataframe tbody tr th {\n",
       "        vertical-align: top;\n",
       "    }\n",
       "\n",
       "    .dataframe thead th {\n",
       "        text-align: right;\n",
       "    }\n",
       "</style>\n",
       "<table border=\"1\" class=\"dataframe\">\n",
       "  <thead>\n",
       "    <tr style=\"text-align: right;\">\n",
       "      <th></th>\n",
       "      <th>DRG Definition</th>\n",
       "      <th>Provider Id</th>\n",
       "      <th>Provider Name</th>\n",
       "      <th>Provider Street Address</th>\n",
       "      <th>Provider City</th>\n",
       "      <th>Provider State</th>\n",
       "      <th>Provider Zip Code</th>\n",
       "      <th>Hospital Referral Region Description</th>\n",
       "      <th>Total Discharges</th>\n",
       "      <th>Average Covered Charges</th>\n",
       "      <th>Average Total Payments</th>\n",
       "      <th>Average Medicare Payments</th>\n",
       "      <th>Average Copay</th>\n",
       "    </tr>\n",
       "  </thead>\n",
       "  <tbody>\n",
       "    <tr>\n",
       "      <th>0</th>\n",
       "      <td>039 - EXTRACRANIAL PROCEDURES W/O CC/MCC</td>\n",
       "      <td>10001</td>\n",
       "      <td>SOUTHEAST ALABAMA MEDICAL CENTER</td>\n",
       "      <td>1108 ROSS CLARK CIRCLE</td>\n",
       "      <td>DOTHAN</td>\n",
       "      <td>AL</td>\n",
       "      <td>36301</td>\n",
       "      <td>AL - Dothan</td>\n",
       "      <td>91</td>\n",
       "      <td>32963.07</td>\n",
       "      <td>5777.24</td>\n",
       "      <td>4763.73</td>\n",
       "      <td>1013.51</td>\n",
       "    </tr>\n",
       "    <tr>\n",
       "      <th>1</th>\n",
       "      <td>039 - EXTRACRANIAL PROCEDURES W/O CC/MCC</td>\n",
       "      <td>10005</td>\n",
       "      <td>MARSHALL MEDICAL CENTER SOUTH</td>\n",
       "      <td>2505 U S HIGHWAY 431 NORTH</td>\n",
       "      <td>BOAZ</td>\n",
       "      <td>AL</td>\n",
       "      <td>35957</td>\n",
       "      <td>AL - Birmingham</td>\n",
       "      <td>14</td>\n",
       "      <td>15131.85</td>\n",
       "      <td>5787.57</td>\n",
       "      <td>4976.71</td>\n",
       "      <td>810.86</td>\n",
       "    </tr>\n",
       "    <tr>\n",
       "      <th>2</th>\n",
       "      <td>039 - EXTRACRANIAL PROCEDURES W/O CC/MCC</td>\n",
       "      <td>10006</td>\n",
       "      <td>ELIZA COFFEE MEMORIAL HOSPITAL</td>\n",
       "      <td>205 MARENGO STREET</td>\n",
       "      <td>FLORENCE</td>\n",
       "      <td>AL</td>\n",
       "      <td>35631</td>\n",
       "      <td>AL - Birmingham</td>\n",
       "      <td>24</td>\n",
       "      <td>37560.37</td>\n",
       "      <td>5434.95</td>\n",
       "      <td>4453.79</td>\n",
       "      <td>981.16</td>\n",
       "    </tr>\n",
       "    <tr>\n",
       "      <th>3</th>\n",
       "      <td>039 - EXTRACRANIAL PROCEDURES W/O CC/MCC</td>\n",
       "      <td>10011</td>\n",
       "      <td>ST VINCENT'S EAST</td>\n",
       "      <td>50 MEDICAL PARK EAST DRIVE</td>\n",
       "      <td>BIRMINGHAM</td>\n",
       "      <td>AL</td>\n",
       "      <td>35235</td>\n",
       "      <td>AL - Birmingham</td>\n",
       "      <td>25</td>\n",
       "      <td>13998.28</td>\n",
       "      <td>5417.56</td>\n",
       "      <td>4129.16</td>\n",
       "      <td>1288.40</td>\n",
       "    </tr>\n",
       "    <tr>\n",
       "      <th>4</th>\n",
       "      <td>039 - EXTRACRANIAL PROCEDURES W/O CC/MCC</td>\n",
       "      <td>10016</td>\n",
       "      <td>SHELBY BAPTIST MEDICAL CENTER</td>\n",
       "      <td>1000 FIRST STREET NORTH</td>\n",
       "      <td>ALABASTER</td>\n",
       "      <td>AL</td>\n",
       "      <td>35007</td>\n",
       "      <td>AL - Birmingham</td>\n",
       "      <td>18</td>\n",
       "      <td>31633.27</td>\n",
       "      <td>5658.33</td>\n",
       "      <td>4851.44</td>\n",
       "      <td>806.89</td>\n",
       "    </tr>\n",
       "  </tbody>\n",
       "</table>\n",
       "</div>"
      ],
      "text/plain": [
       "                             DRG Definition  Provider Id  \\\n",
       "0  039 - EXTRACRANIAL PROCEDURES W/O CC/MCC        10001   \n",
       "1  039 - EXTRACRANIAL PROCEDURES W/O CC/MCC        10005   \n",
       "2  039 - EXTRACRANIAL PROCEDURES W/O CC/MCC        10006   \n",
       "3  039 - EXTRACRANIAL PROCEDURES W/O CC/MCC        10011   \n",
       "4  039 - EXTRACRANIAL PROCEDURES W/O CC/MCC        10016   \n",
       "\n",
       "                      Provider Name     Provider Street Address Provider City  \\\n",
       "0  SOUTHEAST ALABAMA MEDICAL CENTER      1108 ROSS CLARK CIRCLE        DOTHAN   \n",
       "1     MARSHALL MEDICAL CENTER SOUTH  2505 U S HIGHWAY 431 NORTH          BOAZ   \n",
       "2    ELIZA COFFEE MEMORIAL HOSPITAL          205 MARENGO STREET      FLORENCE   \n",
       "3                 ST VINCENT'S EAST  50 MEDICAL PARK EAST DRIVE    BIRMINGHAM   \n",
       "4     SHELBY BAPTIST MEDICAL CENTER     1000 FIRST STREET NORTH     ALABASTER   \n",
       "\n",
       "  Provider State  Provider Zip Code Hospital Referral Region Description  \\\n",
       "0             AL              36301                          AL - Dothan   \n",
       "1             AL              35957                      AL - Birmingham   \n",
       "2             AL              35631                      AL - Birmingham   \n",
       "3             AL              35235                      AL - Birmingham   \n",
       "4             AL              35007                      AL - Birmingham   \n",
       "\n",
       "   Total Discharges  Average Covered Charges  Average Total Payments  \\\n",
       "0                91                 32963.07                 5777.24   \n",
       "1                14                 15131.85                 5787.57   \n",
       "2                24                 37560.37                 5434.95   \n",
       "3                25                 13998.28                 5417.56   \n",
       "4                18                 31633.27                 5658.33   \n",
       "\n",
       "   Average Medicare Payments  Average Copay  \n",
       "0                    4763.73        1013.51  \n",
       "1                    4976.71         810.86  \n",
       "2                    4453.79         981.16  \n",
       "3                    4129.16        1288.40  \n",
       "4                    4851.44         806.89  "
      ]
     },
     "execution_count": 7,
     "metadata": {},
     "output_type": "execute_result"
    }
   ],
   "source": [
    "#understand the size of the dataset and each variable\n",
    "print(data.shape)\n",
    "data.head()"
   ]
  },
  {
   "cell_type": "code",
   "execution_count": 8,
   "metadata": {},
   "outputs": [
    {
     "data": {
      "text/html": [
       "<div>\n",
       "<style scoped>\n",
       "    .dataframe tbody tr th:only-of-type {\n",
       "        vertical-align: middle;\n",
       "    }\n",
       "\n",
       "    .dataframe tbody tr th {\n",
       "        vertical-align: top;\n",
       "    }\n",
       "\n",
       "    .dataframe thead th {\n",
       "        text-align: right;\n",
       "    }\n",
       "</style>\n",
       "<table border=\"1\" class=\"dataframe\">\n",
       "  <thead>\n",
       "    <tr style=\"text-align: right;\">\n",
       "      <th></th>\n",
       "      <th>Column</th>\n",
       "      <th>UniqueCount</th>\n",
       "    </tr>\n",
       "  </thead>\n",
       "  <tbody>\n",
       "    <tr>\n",
       "      <th>0</th>\n",
       "      <td>DRG Definition</td>\n",
       "      <td>100</td>\n",
       "    </tr>\n",
       "    <tr>\n",
       "      <th>1</th>\n",
       "      <td>Provider Id</td>\n",
       "      <td>3337</td>\n",
       "    </tr>\n",
       "    <tr>\n",
       "      <th>2</th>\n",
       "      <td>Provider Name</td>\n",
       "      <td>3201</td>\n",
       "    </tr>\n",
       "    <tr>\n",
       "      <th>3</th>\n",
       "      <td>Provider Street Address</td>\n",
       "      <td>3326</td>\n",
       "    </tr>\n",
       "    <tr>\n",
       "      <th>4</th>\n",
       "      <td>Provider City</td>\n",
       "      <td>1977</td>\n",
       "    </tr>\n",
       "  </tbody>\n",
       "</table>\n",
       "</div>"
      ],
      "text/plain": [
       "                    Column  UniqueCount\n",
       "0           DRG Definition          100\n",
       "1              Provider Id         3337\n",
       "2            Provider Name         3201\n",
       "3  Provider Street Address         3326\n",
       "4            Provider City         1977"
      ]
     },
     "execution_count": 8,
     "metadata": {},
     "output_type": "execute_result"
    }
   ],
   "source": [
    "# see the number of unique values in each column \n",
    "l1 = []\n",
    "for col in data.columns:\n",
    "    l1.append(data[col].unique().shape[0])\n",
    "l2 = data.columns.tolist()\n",
    "uniquedf = pd.DataFrame({'Column' : l2,\n",
    "                                'UniqueCount' : l1 }, \n",
    "                                columns=['Column','UniqueCount'])\n",
    "uniquedf.head()"
   ]
  },
  {
   "cell_type": "code",
   "execution_count": 9,
   "metadata": {},
   "outputs": [
    {
     "data": {
      "text/html": [
       "<div>\n",
       "<style scoped>\n",
       "    .dataframe tbody tr th:only-of-type {\n",
       "        vertical-align: middle;\n",
       "    }\n",
       "\n",
       "    .dataframe tbody tr th {\n",
       "        vertical-align: top;\n",
       "    }\n",
       "\n",
       "    .dataframe thead th {\n",
       "        text-align: right;\n",
       "    }\n",
       "</style>\n",
       "<table border=\"1\" class=\"dataframe\">\n",
       "  <thead>\n",
       "    <tr style=\"text-align: right;\">\n",
       "      <th></th>\n",
       "      <th>Provider Id</th>\n",
       "      <th>Provider Zip Code</th>\n",
       "      <th>Total Discharges</th>\n",
       "      <th>Average Covered Charges</th>\n",
       "      <th>Average Total Payments</th>\n",
       "      <th>Average Medicare Payments</th>\n",
       "      <th>Average Copay</th>\n",
       "    </tr>\n",
       "  </thead>\n",
       "  <tbody>\n",
       "    <tr>\n",
       "      <th>count</th>\n",
       "      <td>163065.000000</td>\n",
       "      <td>163065.000000</td>\n",
       "      <td>163065.000000</td>\n",
       "      <td>163065.000000</td>\n",
       "      <td>163065.000000</td>\n",
       "      <td>163065.000000</td>\n",
       "      <td>163065.000000</td>\n",
       "    </tr>\n",
       "    <tr>\n",
       "      <th>mean</th>\n",
       "      <td>255569.865428</td>\n",
       "      <td>47938.121908</td>\n",
       "      <td>42.776304</td>\n",
       "      <td>36133.954224</td>\n",
       "      <td>9707.473804</td>\n",
       "      <td>8494.490964</td>\n",
       "      <td>1212.982840</td>\n",
       "    </tr>\n",
       "    <tr>\n",
       "      <th>std</th>\n",
       "      <td>151563.671767</td>\n",
       "      <td>27854.323080</td>\n",
       "      <td>51.104042</td>\n",
       "      <td>35065.365931</td>\n",
       "      <td>7664.642598</td>\n",
       "      <td>7309.467261</td>\n",
       "      <td>1148.097584</td>\n",
       "    </tr>\n",
       "    <tr>\n",
       "      <th>min</th>\n",
       "      <td>10001.000000</td>\n",
       "      <td>1040.000000</td>\n",
       "      <td>11.000000</td>\n",
       "      <td>2459.400000</td>\n",
       "      <td>2673.000000</td>\n",
       "      <td>1148.900000</td>\n",
       "      <td>0.000000</td>\n",
       "    </tr>\n",
       "    <tr>\n",
       "      <th>25%</th>\n",
       "      <td>110092.000000</td>\n",
       "      <td>27261.000000</td>\n",
       "      <td>17.000000</td>\n",
       "      <td>15947.160000</td>\n",
       "      <td>5234.500000</td>\n",
       "      <td>4192.350000</td>\n",
       "      <td>776.310000</td>\n",
       "    </tr>\n",
       "  </tbody>\n",
       "</table>\n",
       "</div>"
      ],
      "text/plain": [
       "         Provider Id  Provider Zip Code  Total Discharges  \\\n",
       "count  163065.000000      163065.000000     163065.000000   \n",
       "mean   255569.865428       47938.121908         42.776304   \n",
       "std    151563.671767       27854.323080         51.104042   \n",
       "min     10001.000000        1040.000000         11.000000   \n",
       "25%    110092.000000       27261.000000         17.000000   \n",
       "\n",
       "       Average Covered Charges  Average Total Payments  \\\n",
       "count            163065.000000           163065.000000   \n",
       "mean              36133.954224             9707.473804   \n",
       "std               35065.365931             7664.642598   \n",
       "min                2459.400000             2673.000000   \n",
       "25%               15947.160000             5234.500000   \n",
       "\n",
       "       Average Medicare Payments  Average Copay  \n",
       "count              163065.000000  163065.000000  \n",
       "mean                 8494.490964    1212.982840  \n",
       "std                  7309.467261    1148.097584  \n",
       "min                  1148.900000       0.000000  \n",
       "25%                  4192.350000     776.310000  "
      ]
     },
     "execution_count": 9,
     "metadata": {},
     "output_type": "execute_result"
    }
   ],
   "source": [
    "data.describe().head()"
   ]
  },
  {
   "cell_type": "code",
   "execution_count": 10,
   "metadata": {},
   "outputs": [
    {
     "data": {
      "text/html": [
       "<div>\n",
       "<style scoped>\n",
       "    .dataframe tbody tr th:only-of-type {\n",
       "        vertical-align: middle;\n",
       "    }\n",
       "\n",
       "    .dataframe tbody tr th {\n",
       "        vertical-align: top;\n",
       "    }\n",
       "\n",
       "    .dataframe thead th {\n",
       "        text-align: right;\n",
       "    }\n",
       "</style>\n",
       "<table border=\"1\" class=\"dataframe\">\n",
       "  <thead>\n",
       "    <tr style=\"text-align: right;\">\n",
       "      <th></th>\n",
       "      <th>DRG Definition</th>\n",
       "      <th>Provider Id</th>\n",
       "      <th>Provider Name</th>\n",
       "      <th>Provider Street Address</th>\n",
       "      <th>Provider City</th>\n",
       "      <th>Provider State</th>\n",
       "      <th>Provider Zip Code</th>\n",
       "      <th>Hospital Referral Region Description</th>\n",
       "      <th>Total Discharges</th>\n",
       "      <th>Average Covered Charges</th>\n",
       "      <th>Average Total Payments</th>\n",
       "      <th>Average Medicare Payments</th>\n",
       "      <th>Average Copay</th>\n",
       "    </tr>\n",
       "  </thead>\n",
       "  <tbody>\n",
       "  </tbody>\n",
       "</table>\n",
       "</div>"
      ],
      "text/plain": [
       "Empty DataFrame\n",
       "Columns: [DRG Definition, Provider Id, Provider Name, Provider Street Address, Provider City, Provider State, Provider Zip Code, Hospital Referral Region Description, Total Discharges, Average Covered Charges, Average Total Payments, Average Medicare Payments, Average Copay]\n",
       "Index: []"
      ]
     },
     "execution_count": 10,
     "metadata": {},
     "output_type": "execute_result"
    }
   ],
   "source": [
    "#no duplicate rows in this dataset\n",
    "duplicateData = data[data.duplicated()]\n",
    "duplicateData"
   ]
  },
  {
   "cell_type": "markdown",
   "metadata": {},
   "source": [
    "# Exploratory Data Analysis"
   ]
  },
  {
   "cell_type": "markdown",
   "metadata": {},
   "source": [
    "# Groupby Provider IDs\n",
    "***"
   ]
  },
  {
   "cell_type": "markdown",
   "metadata": {},
   "source": [
    "## F1 Explore the mismatch between the number of Providers and Provider IDs\n",
    "Lead: I want to examine the reasons for one provider name having multiple provider ID.\n",
    "I will groupby 'Provider Name' and count the number of values in each group.\n"
   ]
  },
  {
   "cell_type": "code",
   "execution_count": 11,
   "metadata": {},
   "outputs": [
    {
     "data": {
      "text/html": [
       "<div>\n",
       "<style scoped>\n",
       "    .dataframe tbody tr th:only-of-type {\n",
       "        vertical-align: middle;\n",
       "    }\n",
       "\n",
       "    .dataframe tbody tr th {\n",
       "        vertical-align: top;\n",
       "    }\n",
       "\n",
       "    .dataframe thead th {\n",
       "        text-align: right;\n",
       "    }\n",
       "</style>\n",
       "<table border=\"1\" class=\"dataframe\">\n",
       "  <thead>\n",
       "    <tr style=\"text-align: right;\">\n",
       "      <th></th>\n",
       "      <th>Provider Name</th>\n",
       "      <th>Provider Id Count</th>\n",
       "    </tr>\n",
       "  </thead>\n",
       "  <tbody>\n",
       "    <tr>\n",
       "      <th>924</th>\n",
       "      <td>GOOD SAMARITAN HOSPITAL</td>\n",
       "      <td>9</td>\n",
       "    </tr>\n",
       "    <tr>\n",
       "      <th>2642</th>\n",
       "      <td>ST JOSEPH HOSPITAL</td>\n",
       "      <td>7</td>\n",
       "    </tr>\n",
       "    <tr>\n",
       "      <th>2644</th>\n",
       "      <td>ST JOSEPH MEDICAL CENTER</td>\n",
       "      <td>6</td>\n",
       "    </tr>\n",
       "    <tr>\n",
       "      <th>2614</th>\n",
       "      <td>ST FRANCIS HOSPITAL</td>\n",
       "      <td>6</td>\n",
       "    </tr>\n",
       "    <tr>\n",
       "      <th>1645</th>\n",
       "      <td>MERCY HOSPITAL</td>\n",
       "      <td>6</td>\n",
       "    </tr>\n",
       "    <tr>\n",
       "      <th>...</th>\n",
       "      <td>...</td>\n",
       "      <td>...</td>\n",
       "    </tr>\n",
       "    <tr>\n",
       "      <th>1082</th>\n",
       "      <td>HILLCREST MEMORIAL HOSPITAL</td>\n",
       "      <td>1</td>\n",
       "    </tr>\n",
       "    <tr>\n",
       "      <th>1083</th>\n",
       "      <td>HILLSDALE COMMUNITY HEALTH CENTER</td>\n",
       "      <td>1</td>\n",
       "    </tr>\n",
       "    <tr>\n",
       "      <th>1084</th>\n",
       "      <td>HILLSIDE HOSPITAL</td>\n",
       "      <td>1</td>\n",
       "    </tr>\n",
       "    <tr>\n",
       "      <th>1085</th>\n",
       "      <td>HILO MEDICAL CENTER</td>\n",
       "      <td>1</td>\n",
       "    </tr>\n",
       "    <tr>\n",
       "      <th>3200</th>\n",
       "      <td>ZUNI COMPREHENSIVE COMMUNITY HEALTH CENTER</td>\n",
       "      <td>1</td>\n",
       "    </tr>\n",
       "  </tbody>\n",
       "</table>\n",
       "<p>3201 rows × 2 columns</p>\n",
       "</div>"
      ],
      "text/plain": [
       "                                   Provider Name  Provider Id Count\n",
       "924                      GOOD SAMARITAN HOSPITAL                  9\n",
       "2642                          ST JOSEPH HOSPITAL                  7\n",
       "2644                    ST JOSEPH MEDICAL CENTER                  6\n",
       "2614                         ST FRANCIS HOSPITAL                  6\n",
       "1645                              MERCY HOSPITAL                  6\n",
       "...                                          ...                ...\n",
       "1082                 HILLCREST MEMORIAL HOSPITAL                  1\n",
       "1083           HILLSDALE COMMUNITY HEALTH CENTER                  1\n",
       "1084                           HILLSIDE HOSPITAL                  1\n",
       "1085                         HILO MEDICAL CENTER                  1\n",
       "3200  ZUNI COMPREHENSIVE COMMUNITY HEALTH CENTER                  1\n",
       "\n",
       "[3201 rows x 2 columns]"
      ]
     },
     "execution_count": 11,
     "metadata": {},
     "output_type": "execute_result"
    }
   ],
   "source": [
    "f1 = data.groupby(['Provider Name']).nunique().copy()\n",
    "f1.sort_values(by='Provider Id',ascending=False)\n",
    "f1 = pd.DataFrame(f1)\n",
    "f1.rename(columns= {'Provider Id':'Provider Id Count'},inplace = True)\n",
    "f1 = f1.drop(columns='Provider Name')\n",
    "f1.reset_index(inplace = True)\n",
    "f1[['Provider Name','Provider Id Count']].sort_values(by = 'Provider Id Count', ascending = False)"
   ]
  },
  {
   "cell_type": "code",
   "execution_count": 12,
   "metadata": {
    "scrolled": true
   },
   "outputs": [
    {
     "data": {
      "text/html": [
       "<div>\n",
       "<style scoped>\n",
       "    .dataframe tbody tr th:only-of-type {\n",
       "        vertical-align: middle;\n",
       "    }\n",
       "\n",
       "    .dataframe tbody tr th {\n",
       "        vertical-align: top;\n",
       "    }\n",
       "\n",
       "    .dataframe thead th {\n",
       "        text-align: right;\n",
       "    }\n",
       "</style>\n",
       "<table border=\"1\" class=\"dataframe\">\n",
       "  <thead>\n",
       "    <tr style=\"text-align: right;\">\n",
       "      <th></th>\n",
       "      <th>Provider Name</th>\n",
       "      <th>DRG Definition</th>\n",
       "      <th>Provider Id Count</th>\n",
       "      <th>Provider Street Address</th>\n",
       "      <th>Provider City</th>\n",
       "      <th>Provider State</th>\n",
       "      <th>Provider Zip Code</th>\n",
       "      <th>Hospital Referral Region Description</th>\n",
       "      <th>Total Discharges</th>\n",
       "      <th>Average Covered Charges</th>\n",
       "      <th>Average Total Payments</th>\n",
       "      <th>Average Medicare Payments</th>\n",
       "      <th>Average Copay</th>\n",
       "    </tr>\n",
       "  </thead>\n",
       "  <tbody>\n",
       "    <tr>\n",
       "      <th>12</th>\n",
       "      <td>ADVENTIST MEDICAL CENTER</td>\n",
       "      <td>78</td>\n",
       "      <td>2</td>\n",
       "      <td>2</td>\n",
       "      <td>2</td>\n",
       "      <td>2</td>\n",
       "      <td>2</td>\n",
       "      <td>2</td>\n",
       "      <td>56</td>\n",
       "      <td>113</td>\n",
       "      <td>113</td>\n",
       "      <td>113</td>\n",
       "      <td>113</td>\n",
       "    </tr>\n",
       "    <tr>\n",
       "      <th>96</th>\n",
       "      <td>ATHENS REGIONAL MEDICAL CENTER</td>\n",
       "      <td>96</td>\n",
       "      <td>2</td>\n",
       "      <td>2</td>\n",
       "      <td>1</td>\n",
       "      <td>2</td>\n",
       "      <td>2</td>\n",
       "      <td>2</td>\n",
       "      <td>64</td>\n",
       "      <td>122</td>\n",
       "      <td>122</td>\n",
       "      <td>122</td>\n",
       "      <td>122</td>\n",
       "    </tr>\n",
       "    <tr>\n",
       "      <th>116</th>\n",
       "      <td>AURORA MEDICAL CENTER</td>\n",
       "      <td>24</td>\n",
       "      <td>2</td>\n",
       "      <td>2</td>\n",
       "      <td>2</td>\n",
       "      <td>1</td>\n",
       "      <td>2</td>\n",
       "      <td>1</td>\n",
       "      <td>15</td>\n",
       "      <td>32</td>\n",
       "      <td>31</td>\n",
       "      <td>32</td>\n",
       "      <td>32</td>\n",
       "    </tr>\n",
       "    <tr>\n",
       "      <th>148</th>\n",
       "      <td>BAPTIST HOSPITAL</td>\n",
       "      <td>92</td>\n",
       "      <td>2</td>\n",
       "      <td>2</td>\n",
       "      <td>2</td>\n",
       "      <td>2</td>\n",
       "      <td>2</td>\n",
       "      <td>2</td>\n",
       "      <td>68</td>\n",
       "      <td>170</td>\n",
       "      <td>170</td>\n",
       "      <td>170</td>\n",
       "      <td>169</td>\n",
       "    </tr>\n",
       "    <tr>\n",
       "      <th>152</th>\n",
       "      <td>BAPTIST MEDICAL CENTER</td>\n",
       "      <td>100</td>\n",
       "      <td>2</td>\n",
       "      <td>2</td>\n",
       "      <td>2</td>\n",
       "      <td>2</td>\n",
       "      <td>2</td>\n",
       "      <td>2</td>\n",
       "      <td>118</td>\n",
       "      <td>200</td>\n",
       "      <td>200</td>\n",
       "      <td>199</td>\n",
       "      <td>199</td>\n",
       "    </tr>\n",
       "  </tbody>\n",
       "</table>\n",
       "</div>"
      ],
      "text/plain": [
       "                      Provider Name  DRG Definition  Provider Id Count  \\\n",
       "12         ADVENTIST MEDICAL CENTER              78                  2   \n",
       "96   ATHENS REGIONAL MEDICAL CENTER              96                  2   \n",
       "116           AURORA MEDICAL CENTER              24                  2   \n",
       "148                BAPTIST HOSPITAL              92                  2   \n",
       "152          BAPTIST MEDICAL CENTER             100                  2   \n",
       "\n",
       "     Provider Street Address  Provider City  Provider State  \\\n",
       "12                         2              2               2   \n",
       "96                         2              1               2   \n",
       "116                        2              2               1   \n",
       "148                        2              2               2   \n",
       "152                        2              2               2   \n",
       "\n",
       "     Provider Zip Code  Hospital Referral Region Description  \\\n",
       "12                   2                                     2   \n",
       "96                   2                                     2   \n",
       "116                  2                                     1   \n",
       "148                  2                                     2   \n",
       "152                  2                                     2   \n",
       "\n",
       "     Total Discharges  Average Covered Charges  Average Total Payments  \\\n",
       "12                 56                      113                     113   \n",
       "96                 64                      122                     122   \n",
       "116                15                       32                      31   \n",
       "148                68                      170                     170   \n",
       "152               118                      200                     200   \n",
       "\n",
       "     Average Medicare Payments  Average Copay  \n",
       "12                         113            113  \n",
       "96                         122            122  \n",
       "116                         32             32  \n",
       "148                        170            169  \n",
       "152                        199            199  "
      ]
     },
     "execution_count": 12,
     "metadata": {},
     "output_type": "execute_result"
    }
   ],
   "source": [
    "f1= f1[f1['Provider Id Count']>=2]\n",
    "f1.head()"
   ]
  },
  {
   "cell_type": "code",
   "execution_count": 13,
   "metadata": {},
   "outputs": [
    {
     "data": {
      "text/plain": [
       "<matplotlib.axes._subplots.AxesSubplot at 0x7fc8eaf9ec50>"
      ]
     },
     "execution_count": 13,
     "metadata": {},
     "output_type": "execute_result"
    },
    {
     "data": {
      "image/png": "[encoded data removed]",
      "text/plain": [
       "<Figure size 432x288 with 1 Axes>"
      ]
     },
     "metadata": {
      "needs_background": "light"
     },
     "output_type": "display_data"
    }
   ],
   "source": [
    "#There are some outliers where some provider names have over 100 provider IDs.\n",
    "sns.barplot(x='Provider Name', y='Provider Id Count', data=f1, order=None)"
   ]
  },
  {
   "cell_type": "code",
   "execution_count": 14,
   "metadata": {
    "scrolled": false
   },
   "outputs": [
    {
     "data": {
      "text/plain": [
       "DRG Definition                          9\n",
       "Provider Id                             9\n",
       "Provider Name                           9\n",
       "Provider Street Address                 9\n",
       "Provider City                           9\n",
       "Provider State                          9\n",
       "Provider Zip Code                       9\n",
       "Hospital Referral Region Description    9\n",
       "Total Discharges                        9\n",
       "Average Covered Charges                 9\n",
       "Average Total Payments                  9\n",
       "Average Medicare Payments               9\n",
       "Average Copay                           9\n",
       "dtype: int64"
      ]
     },
     "execution_count": 14,
     "metadata": {},
     "output_type": "execute_result"
    }
   ],
   "source": [
    "#I see that this provider has multiple location and thus have many different provider IDs\n",
    "d1 = data[data['Provider Name']=='GOOD SAMARITAN HOSPITAL'].copy()\n",
    "d1.groupby(['Provider City','Provider State']).nunique().count()"
   ]
  },
  {
   "cell_type": "markdown",
   "metadata": {},
   "source": [
    "## This is not an anomaly. This would also explain the mismatch between addresses, zipcodes, provider names, and provider ids. Since provider IDs are the largest of them all, I will use Provider IDs as a unique identifier from now on\n"
   ]
  },
  {
   "cell_type": "markdown",
   "metadata": {},
   "source": [
    "# F2 For Good Samaritan Hospital, and groupby the DRG code, I am looking for the largest discrepency in payment between state by calculating the standardized distance for the max Average Medicare Payment to the mean."
   ]
  },
  {
   "cell_type": "code",
   "execution_count": 15,
   "metadata": {},
   "outputs": [
    {
     "data": {
      "text/html": [
       "<div>\n",
       "<style scoped>\n",
       "    .dataframe tbody tr th:only-of-type {\n",
       "        vertical-align: middle;\n",
       "    }\n",
       "\n",
       "    .dataframe tbody tr th {\n",
       "        vertical-align: top;\n",
       "    }\n",
       "\n",
       "    .dataframe thead th {\n",
       "        text-align: right;\n",
       "    }\n",
       "</style>\n",
       "<table border=\"1\" class=\"dataframe\">\n",
       "  <thead>\n",
       "    <tr style=\"text-align: right;\">\n",
       "      <th></th>\n",
       "      <th>DRG Definition</th>\n",
       "      <th>count</th>\n",
       "      <th>mean</th>\n",
       "      <th>std</th>\n",
       "      <th>min</th>\n",
       "      <th>25%</th>\n",
       "      <th>50%</th>\n",
       "      <th>75%</th>\n",
       "      <th>max</th>\n",
       "      <th>STD</th>\n",
       "    </tr>\n",
       "  </thead>\n",
       "  <tbody>\n",
       "    <tr>\n",
       "      <th>0</th>\n",
       "      <td>039 - EXTRACRANIAL PROCEDURES W/O CC/MCC</td>\n",
       "      <td>6.0</td>\n",
       "      <td>6089.281667</td>\n",
       "      <td>869.606672</td>\n",
       "      <td>4716.21</td>\n",
       "      <td>5686.7800</td>\n",
       "      <td>6162.340</td>\n",
       "      <td>6665.8750</td>\n",
       "      <td>7132.82</td>\n",
       "      <td>1.200012</td>\n",
       "    </tr>\n",
       "    <tr>\n",
       "      <th>1</th>\n",
       "      <td>057 - DEGENERATIVE NERVOUS SYSTEM DISORDERS W/...</td>\n",
       "      <td>5.0</td>\n",
       "      <td>5634.302000</td>\n",
       "      <td>1122.756138</td>\n",
       "      <td>4376.57</td>\n",
       "      <td>5051.5600</td>\n",
       "      <td>5100.750</td>\n",
       "      <td>6726.0000</td>\n",
       "      <td>6916.63</td>\n",
       "      <td>1.142125</td>\n",
       "    </tr>\n",
       "    <tr>\n",
       "      <th>2</th>\n",
       "      <td>064 - INTRACRANIAL HEMORRHAGE OR CEREBRAL INFA...</td>\n",
       "      <td>7.0</td>\n",
       "      <td>12992.725714</td>\n",
       "      <td>2997.435859</td>\n",
       "      <td>8619.41</td>\n",
       "      <td>11238.8750</td>\n",
       "      <td>12954.930</td>\n",
       "      <td>14509.2550</td>\n",
       "      <td>17878.48</td>\n",
       "      <td>1.629978</td>\n",
       "    </tr>\n",
       "    <tr>\n",
       "      <th>3</th>\n",
       "      <td>065 - INTRACRANIAL HEMORRHAGE OR CEREBRAL INFA...</td>\n",
       "      <td>8.0</td>\n",
       "      <td>7132.507500</td>\n",
       "      <td>1578.703895</td>\n",
       "      <td>5129.28</td>\n",
       "      <td>6331.4725</td>\n",
       "      <td>6848.755</td>\n",
       "      <td>7686.3625</td>\n",
       "      <td>9934.25</td>\n",
       "      <td>1.774711</td>\n",
       "    </tr>\n",
       "    <tr>\n",
       "      <th>4</th>\n",
       "      <td>066 - INTRACRANIAL HEMORRHAGE OR CEREBRAL INFA...</td>\n",
       "      <td>8.0</td>\n",
       "      <td>4774.676250</td>\n",
       "      <td>1126.824277</td>\n",
       "      <td>3290.29</td>\n",
       "      <td>4086.1250</td>\n",
       "      <td>4682.325</td>\n",
       "      <td>5309.9125</td>\n",
       "      <td>6749.22</td>\n",
       "      <td>1.752308</td>\n",
       "    </tr>\n",
       "  </tbody>\n",
       "</table>\n",
       "</div>"
      ],
      "text/plain": [
       "                                      DRG Definition  count          mean  \\\n",
       "0           039 - EXTRACRANIAL PROCEDURES W/O CC/MCC    6.0   6089.281667   \n",
       "1  057 - DEGENERATIVE NERVOUS SYSTEM DISORDERS W/...    5.0   5634.302000   \n",
       "2  064 - INTRACRANIAL HEMORRHAGE OR CEREBRAL INFA...    7.0  12992.725714   \n",
       "3  065 - INTRACRANIAL HEMORRHAGE OR CEREBRAL INFA...    8.0   7132.507500   \n",
       "4  066 - INTRACRANIAL HEMORRHAGE OR CEREBRAL INFA...    8.0   4774.676250   \n",
       "\n",
       "           std      min         25%        50%         75%       max       STD  \n",
       "0   869.606672  4716.21   5686.7800   6162.340   6665.8750   7132.82  1.200012  \n",
       "1  1122.756138  4376.57   5051.5600   5100.750   6726.0000   6916.63  1.142125  \n",
       "2  2997.435859  8619.41  11238.8750  12954.930  14509.2550  17878.48  1.629978  \n",
       "3  1578.703895  5129.28   6331.4725   6848.755   7686.3625   9934.25  1.774711  \n",
       "4  1126.824277  3290.29   4086.1250   4682.325   5309.9125   6749.22  1.752308  "
      ]
     },
     "execution_count": 15,
     "metadata": {},
     "output_type": "execute_result"
    }
   ],
   "source": [
    "f22= d1.groupby('DRG Definition')['Average Medicare Payments'].describe().copy()\n",
    "f22['STD'] = (f22['max']-f22['mean'])/f22['std']\n",
    "f22.reset_index(inplace = True)\n",
    "f22.head()"
   ]
  },
  {
   "cell_type": "code",
   "execution_count": 16,
   "metadata": {},
   "outputs": [
    {
     "data": {
      "image/png": "[encoded data removed]",
      "text/plain": [
       "<Figure size 720x504 with 1 Axes>"
      ]
     },
     "metadata": {
      "needs_background": "light"
     },
     "output_type": "display_data"
    }
   ],
   "source": [
    "# looking for the largest standard deviation by disseas, based on Average Medicare Payments\n",
    "plt.figure(figsize=(10, 7))\n",
    "plt.rcParams[\"axes.labelsize\"] = 20\n",
    "b = sns.barplot(x='DRG Definition', y='STD', hue= 'count', data=f22, order=None)"
   ]
  },
  {
   "cell_type": "code",
   "execution_count": 17,
   "metadata": {
    "scrolled": true
   },
   "outputs": [
    {
     "data": {
      "text/html": [
       "<div>\n",
       "<style scoped>\n",
       "    .dataframe tbody tr th:only-of-type {\n",
       "        vertical-align: middle;\n",
       "    }\n",
       "\n",
       "    .dataframe tbody tr th {\n",
       "        vertical-align: top;\n",
       "    }\n",
       "\n",
       "    .dataframe thead th {\n",
       "        text-align: right;\n",
       "    }\n",
       "</style>\n",
       "<table border=\"1\" class=\"dataframe\">\n",
       "  <thead>\n",
       "    <tr style=\"text-align: right;\">\n",
       "      <th></th>\n",
       "      <th>DRG Definition</th>\n",
       "      <th>count</th>\n",
       "      <th>mean</th>\n",
       "      <th>std</th>\n",
       "      <th>min</th>\n",
       "      <th>25%</th>\n",
       "      <th>50%</th>\n",
       "      <th>75%</th>\n",
       "      <th>max</th>\n",
       "      <th>STD</th>\n",
       "    </tr>\n",
       "  </thead>\n",
       "  <tbody>\n",
       "    <tr>\n",
       "      <th>68</th>\n",
       "      <td>470 - MAJOR JOINT REPLACEMENT OR REATTACHMENT ...</td>\n",
       "      <td>8.0</td>\n",
       "      <td>14043.58125</td>\n",
       "      <td>4466.177288</td>\n",
       "      <td>9675.93</td>\n",
       "      <td>11127.91</td>\n",
       "      <td>12526.12</td>\n",
       "      <td>15740.1575</td>\n",
       "      <td>23191.55</td>\n",
       "      <td>2.048277</td>\n",
       "    </tr>\n",
       "  </tbody>\n",
       "</table>\n",
       "</div>"
      ],
      "text/plain": [
       "                                       DRG Definition  count         mean  \\\n",
       "68  470 - MAJOR JOINT REPLACEMENT OR REATTACHMENT ...    8.0  14043.58125   \n",
       "\n",
       "            std      min       25%       50%         75%       max       STD  \n",
       "68  4466.177288  9675.93  11127.91  12526.12  15740.1575  23191.55  2.048277  "
      ]
     },
     "execution_count": 17,
     "metadata": {},
     "output_type": "execute_result"
    }
   ],
   "source": [
    "f22[f22['STD']>2]"
   ]
  },
  {
   "cell_type": "code",
   "execution_count": 18,
   "metadata": {
    "scrolled": true
   },
   "outputs": [
    {
     "data": {
      "image/png": "[encoded data removed]",
      "text/plain": [
       "<Figure size 432x288 with 1 Axes>"
      ]
     },
     "metadata": {
      "needs_background": "light"
     },
     "output_type": "display_data"
    }
   ],
   "source": [
    "#the chart shows the distribution of Average Medical Payments. \n",
    "#One hospital charges, on average 6400 in medical payment for 293 illness, \n",
    "#whereas another hospital for the same chain charges 2800 on average. \n",
    "f222 = data[(data['DRG Definition']=='293 - HEART FAILURE & SHOCK W/O CC/MCC') &(data['Provider Name']=='GOOD SAMARITAN HOSPITAL')].copy()\n",
    "sns.distplot(f222['Average Medicare Payments'], kde=False, rug=True, bins= 20);"
   ]
  },
  {
   "cell_type": "code",
   "execution_count": 19,
   "metadata": {},
   "outputs": [
    {
     "data": {
      "image/png": "[encoded data removed]",
      "text/plain": [
       "<Figure size 504x288 with 1 Axes>"
      ]
     },
     "metadata": {
      "needs_background": "light"
     },
     "output_type": "display_data"
    }
   ],
   "source": [
    "#the purple and blue dots are close to each other in terms of horizontal distance, \n",
    "#meaning the price they charge does not vary a lot\n",
    "#sample size for these charges are large enough, most of them are greater than 30.\n",
    "plt.figure(figsize=(7, 4))\n",
    "ax = sns.scatterplot(x = 'Average Medicare Payments', y = 'Total Discharges', hue='Provider State' , s = 100,  data = f222)"
   ]
  },
  {
   "cell_type": "code",
   "execution_count": 20,
   "metadata": {},
   "outputs": [
    {
     "data": {
      "text/html": [
       "<div>\n",
       "<style scoped>\n",
       "    .dataframe tbody tr th:only-of-type {\n",
       "        vertical-align: middle;\n",
       "    }\n",
       "\n",
       "    .dataframe tbody tr th {\n",
       "        vertical-align: top;\n",
       "    }\n",
       "\n",
       "    .dataframe thead th {\n",
       "        text-align: right;\n",
       "    }\n",
       "</style>\n",
       "<table border=\"1\" class=\"dataframe\">\n",
       "  <thead>\n",
       "    <tr style=\"text-align: right;\">\n",
       "      <th></th>\n",
       "      <th>DRG Definition</th>\n",
       "      <th>count</th>\n",
       "      <th>mean</th>\n",
       "      <th>std</th>\n",
       "      <th>min</th>\n",
       "      <th>25%</th>\n",
       "      <th>50%</th>\n",
       "      <th>75%</th>\n",
       "      <th>max</th>\n",
       "      <th>STD</th>\n",
       "    </tr>\n",
       "  </thead>\n",
       "  <tbody>\n",
       "    <tr>\n",
       "      <th>5</th>\n",
       "      <td>069 - TRANSIENT ISCHEMIA</td>\n",
       "      <td>8.0</td>\n",
       "      <td>4080.86625</td>\n",
       "      <td>993.908236</td>\n",
       "      <td>3015.96</td>\n",
       "      <td>3339.1450</td>\n",
       "      <td>3942.16</td>\n",
       "      <td>4463.9250</td>\n",
       "      <td>6029.25</td>\n",
       "      <td>1.960326</td>\n",
       "    </tr>\n",
       "    <tr>\n",
       "      <th>58</th>\n",
       "      <td>389 - G.I. OBSTRUCTION W CC</td>\n",
       "      <td>8.0</td>\n",
       "      <td>5605.94625</td>\n",
       "      <td>1171.417556</td>\n",
       "      <td>4194.71</td>\n",
       "      <td>4909.5975</td>\n",
       "      <td>5545.35</td>\n",
       "      <td>5838.3550</td>\n",
       "      <td>7940.33</td>\n",
       "      <td>1.992785</td>\n",
       "    </tr>\n",
       "    <tr>\n",
       "      <th>68</th>\n",
       "      <td>470 - MAJOR JOINT REPLACEMENT OR REATTACHMENT ...</td>\n",
       "      <td>8.0</td>\n",
       "      <td>14043.58125</td>\n",
       "      <td>4466.177288</td>\n",
       "      <td>9675.93</td>\n",
       "      <td>11127.9100</td>\n",
       "      <td>12526.12</td>\n",
       "      <td>15740.1575</td>\n",
       "      <td>23191.55</td>\n",
       "      <td>2.048277</td>\n",
       "    </tr>\n",
       "  </tbody>\n",
       "</table>\n",
       "</div>"
      ],
      "text/plain": [
       "                                       DRG Definition  count         mean  \\\n",
       "5                            069 - TRANSIENT ISCHEMIA    8.0   4080.86625   \n",
       "58                        389 - G.I. OBSTRUCTION W CC    8.0   5605.94625   \n",
       "68  470 - MAJOR JOINT REPLACEMENT OR REATTACHMENT ...    8.0  14043.58125   \n",
       "\n",
       "            std      min         25%       50%         75%       max       STD  \n",
       "5    993.908236  3015.96   3339.1450   3942.16   4463.9250   6029.25  1.960326  \n",
       "58  1171.417556  4194.71   4909.5975   5545.35   5838.3550   7940.33  1.992785  \n",
       "68  4466.177288  9675.93  11127.9100  12526.12  15740.1575  23191.55  2.048277  "
      ]
     },
     "execution_count": 20,
     "metadata": {},
     "output_type": "execute_result"
    }
   ],
   "source": [
    "f22[f22['STD']>1.9]"
   ]
  },
  {
   "cell_type": "markdown",
   "metadata": {},
   "source": [
    "## There should be some investigation into the Good Samaritan Hospital Chain, and see why is there an over charge for the hospital in Maryland for 293, Heart Failure. Likewise for other two diseases in other branches."
   ]
  },
  {
   "cell_type": "markdown",
   "metadata": {},
   "source": [
    "# F3 See if there is situation where there is no 'out of pocket' cost, which might entice fraudsters to take advantage of this."
   ]
  },
  {
   "cell_type": "code",
   "execution_count": 21,
   "metadata": {},
   "outputs": [
    {
     "data": {
      "text/html": [
       "<div>\n",
       "<style scoped>\n",
       "    .dataframe tbody tr th:only-of-type {\n",
       "        vertical-align: middle;\n",
       "    }\n",
       "\n",
       "    .dataframe tbody tr th {\n",
       "        vertical-align: top;\n",
       "    }\n",
       "\n",
       "    .dataframe thead th {\n",
       "        text-align: right;\n",
       "    }\n",
       "</style>\n",
       "<table border=\"1\" class=\"dataframe\">\n",
       "  <thead>\n",
       "    <tr style=\"text-align: right;\">\n",
       "      <th></th>\n",
       "      <th>DRG Definition</th>\n",
       "      <th>Provider Id</th>\n",
       "      <th>Provider Name</th>\n",
       "      <th>Provider Street Address</th>\n",
       "      <th>Provider City</th>\n",
       "      <th>Provider State</th>\n",
       "      <th>Provider Zip Code</th>\n",
       "      <th>Hospital Referral Region Description</th>\n",
       "      <th>Total Discharges</th>\n",
       "      <th>Average Covered Charges</th>\n",
       "      <th>Average Total Payments</th>\n",
       "      <th>Average Medicare Payments</th>\n",
       "      <th>Average Copay</th>\n",
       "    </tr>\n",
       "  </thead>\n",
       "  <tbody>\n",
       "    <tr>\n",
       "      <th>90877</th>\n",
       "      <td>372 - MAJOR GASTROINTESTINAL DISORDERS &amp; PERIT...</td>\n",
       "      <td>340173</td>\n",
       "      <td>WAKEMED, CARY HOSPITAL</td>\n",
       "      <td>1900 KILDARE FARM ROAD</td>\n",
       "      <td>CARY</td>\n",
       "      <td>NC</td>\n",
       "      <td>27511</td>\n",
       "      <td>NC - Raleigh</td>\n",
       "      <td>13</td>\n",
       "      <td>22776.61</td>\n",
       "      <td>7299.07</td>\n",
       "      <td>7299.07</td>\n",
       "      <td>0.0</td>\n",
       "    </tr>\n",
       "  </tbody>\n",
       "</table>\n",
       "</div>"
      ],
      "text/plain": [
       "                                          DRG Definition  Provider Id  \\\n",
       "90877  372 - MAJOR GASTROINTESTINAL DISORDERS & PERIT...       340173   \n",
       "\n",
       "                Provider Name Provider Street Address Provider City  \\\n",
       "90877  WAKEMED, CARY HOSPITAL  1900 KILDARE FARM ROAD          CARY   \n",
       "\n",
       "      Provider State  Provider Zip Code Hospital Referral Region Description  \\\n",
       "90877             NC              27511                         NC - Raleigh   \n",
       "\n",
       "       Total Discharges  Average Covered Charges  Average Total Payments  \\\n",
       "90877                13                 22776.61                 7299.07   \n",
       "\n",
       "       Average Medicare Payments  Average Copay  \n",
       "90877                    7299.07            0.0  "
      ]
     },
     "execution_count": 21,
     "metadata": {},
     "output_type": "execute_result"
    }
   ],
   "source": [
    "data[data['Average Copay']==0]"
   ]
  },
  {
   "cell_type": "code",
   "execution_count": 22,
   "metadata": {},
   "outputs": [
    {
     "data": {
      "text/html": [
       "<div>\n",
       "<style scoped>\n",
       "    .dataframe tbody tr th:only-of-type {\n",
       "        vertical-align: middle;\n",
       "    }\n",
       "\n",
       "    .dataframe tbody tr th {\n",
       "        vertical-align: top;\n",
       "    }\n",
       "\n",
       "    .dataframe thead th {\n",
       "        text-align: right;\n",
       "    }\n",
       "</style>\n",
       "<table border=\"1\" class=\"dataframe\">\n",
       "  <thead>\n",
       "    <tr style=\"text-align: right;\">\n",
       "      <th></th>\n",
       "      <th>count</th>\n",
       "      <th>mean</th>\n",
       "      <th>std</th>\n",
       "      <th>min</th>\n",
       "      <th>25%</th>\n",
       "      <th>50%</th>\n",
       "      <th>75%</th>\n",
       "      <th>max</th>\n",
       "    </tr>\n",
       "    <tr>\n",
       "      <th>DRG Definition</th>\n",
       "      <th></th>\n",
       "      <th></th>\n",
       "      <th></th>\n",
       "      <th></th>\n",
       "      <th></th>\n",
       "      <th></th>\n",
       "      <th></th>\n",
       "      <th></th>\n",
       "    </tr>\n",
       "  </thead>\n",
       "  <tbody>\n",
       "    <tr>\n",
       "      <th>372 - MAJOR GASTROINTESTINAL DISORDERS &amp; PERITONEAL INFECTIONS W CC</th>\n",
       "      <td>1.0</td>\n",
       "      <td>0.00</td>\n",
       "      <td>NaN</td>\n",
       "      <td>0.00</td>\n",
       "      <td>0.00</td>\n",
       "      <td>0.00</td>\n",
       "      <td>0.00</td>\n",
       "      <td>0.00</td>\n",
       "    </tr>\n",
       "    <tr>\n",
       "      <th>314 - OTHER CIRCULATORY SYSTEM DIAGNOSES W MCC</th>\n",
       "      <td>1.0</td>\n",
       "      <td>460.18</td>\n",
       "      <td>NaN</td>\n",
       "      <td>460.18</td>\n",
       "      <td>460.18</td>\n",
       "      <td>460.18</td>\n",
       "      <td>460.18</td>\n",
       "      <td>460.18</td>\n",
       "    </tr>\n",
       "    <tr>\n",
       "      <th>948 - SIGNS &amp; SYMPTOMS W/O MCC</th>\n",
       "      <td>1.0</td>\n",
       "      <td>601.60</td>\n",
       "      <td>NaN</td>\n",
       "      <td>601.60</td>\n",
       "      <td>601.60</td>\n",
       "      <td>601.60</td>\n",
       "      <td>601.60</td>\n",
       "      <td>601.60</td>\n",
       "    </tr>\n",
       "    <tr>\n",
       "      <th>177 - RESPIRATORY INFECTIONS &amp; INFLAMMATIONS W MCC</th>\n",
       "      <td>1.0</td>\n",
       "      <td>609.17</td>\n",
       "      <td>NaN</td>\n",
       "      <td>609.17</td>\n",
       "      <td>609.17</td>\n",
       "      <td>609.17</td>\n",
       "      <td>609.17</td>\n",
       "      <td>609.17</td>\n",
       "    </tr>\n",
       "    <tr>\n",
       "      <th>682 - RENAL FAILURE W MCC</th>\n",
       "      <td>1.0</td>\n",
       "      <td>609.94</td>\n",
       "      <td>NaN</td>\n",
       "      <td>609.94</td>\n",
       "      <td>609.94</td>\n",
       "      <td>609.94</td>\n",
       "      <td>609.94</td>\n",
       "      <td>609.94</td>\n",
       "    </tr>\n",
       "  </tbody>\n",
       "</table>\n",
       "</div>"
      ],
      "text/plain": [
       "                                                    count    mean  std  \\\n",
       "DRG Definition                                                           \n",
       "372 - MAJOR GASTROINTESTINAL DISORDERS & PERITO...    1.0    0.00  NaN   \n",
       "314 - OTHER CIRCULATORY SYSTEM DIAGNOSES W MCC        1.0  460.18  NaN   \n",
       "948 - SIGNS & SYMPTOMS W/O MCC                        1.0  601.60  NaN   \n",
       "177 - RESPIRATORY INFECTIONS & INFLAMMATIONS W MCC    1.0  609.17  NaN   \n",
       "682 - RENAL FAILURE W MCC                             1.0  609.94  NaN   \n",
       "\n",
       "                                                       min     25%     50%  \\\n",
       "DRG Definition                                                               \n",
       "372 - MAJOR GASTROINTESTINAL DISORDERS & PERITO...    0.00    0.00    0.00   \n",
       "314 - OTHER CIRCULATORY SYSTEM DIAGNOSES W MCC      460.18  460.18  460.18   \n",
       "948 - SIGNS & SYMPTOMS W/O MCC                      601.60  601.60  601.60   \n",
       "177 - RESPIRATORY INFECTIONS & INFLAMMATIONS W MCC  609.17  609.17  609.17   \n",
       "682 - RENAL FAILURE W MCC                           609.94  609.94  609.94   \n",
       "\n",
       "                                                       75%     max  \n",
       "DRG Definition                                                      \n",
       "372 - MAJOR GASTROINTESTINAL DISORDERS & PERITO...    0.00    0.00  \n",
       "314 - OTHER CIRCULATORY SYSTEM DIAGNOSES W MCC      460.18  460.18  \n",
       "948 - SIGNS & SYMPTOMS W/O MCC                      601.60  601.60  \n",
       "177 - RESPIRATORY INFECTIONS & INFLAMMATIONS W MCC  609.17  609.17  \n",
       "682 - RENAL FAILURE W MCC                           609.94  609.94  "
      ]
     },
     "execution_count": 22,
     "metadata": {},
     "output_type": "execute_result"
    }
   ],
   "source": [
    "# find out why there is no out of pocket cost\n",
    "f3 = data[data['Provider Name']=='WAKEMED, CARY HOSPITAL'].copy()\n",
    "f3.groupby('DRG Definition')['Average Copay'].describe().sort_values(by='max',ascending=True).head()"
   ]
  },
  {
   "cell_type": "code",
   "execution_count": 23,
   "metadata": {
    "scrolled": true
   },
   "outputs": [],
   "source": [
    "#calculate the percentage medicare ratio and take only the numeric values to create a corrplot\n",
    "f3['PercentageMedicare'] = f3['Average Medicare Payments']/f3['Average Total Payments']\n",
    "f3.sort_values(by='PercentageMedicare', ascending=False,inplace=True)\n",
    "cor1 = f3[['Provider Id','Provider Zip Code','Total Discharges','Average Covered Charges','Average Total Payments',\n",
    "          'Average Medicare Payments','Average Copay','PercentageMedicare']]"
   ]
  },
  {
   "cell_type": "code",
   "execution_count": 24,
   "metadata": {},
   "outputs": [
    {
     "data": {
      "text/html": [
       "<div>\n",
       "<style scoped>\n",
       "    .dataframe tbody tr th:only-of-type {\n",
       "        vertical-align: middle;\n",
       "    }\n",
       "\n",
       "    .dataframe tbody tr th {\n",
       "        vertical-align: top;\n",
       "    }\n",
       "\n",
       "    .dataframe thead th {\n",
       "        text-align: right;\n",
       "    }\n",
       "</style>\n",
       "<table border=\"1\" class=\"dataframe\">\n",
       "  <thead>\n",
       "    <tr style=\"text-align: right;\">\n",
       "      <th></th>\n",
       "      <th>Provider Id</th>\n",
       "      <th>Provider Zip Code</th>\n",
       "      <th>Total Discharges</th>\n",
       "      <th>Average Covered Charges</th>\n",
       "      <th>Average Total Payments</th>\n",
       "      <th>Average Medicare Payments</th>\n",
       "      <th>Average Copay</th>\n",
       "      <th>PercentageMedicare</th>\n",
       "    </tr>\n",
       "  </thead>\n",
       "  <tbody>\n",
       "    <tr>\n",
       "      <th>Provider Id</th>\n",
       "      <td>NaN</td>\n",
       "      <td>NaN</td>\n",
       "      <td>NaN</td>\n",
       "      <td>NaN</td>\n",
       "      <td>NaN</td>\n",
       "      <td>NaN</td>\n",
       "      <td>NaN</td>\n",
       "      <td>NaN</td>\n",
       "    </tr>\n",
       "    <tr>\n",
       "      <th>Provider Zip Code</th>\n",
       "      <td>NaN</td>\n",
       "      <td>NaN</td>\n",
       "      <td>NaN</td>\n",
       "      <td>NaN</td>\n",
       "      <td>NaN</td>\n",
       "      <td>NaN</td>\n",
       "      <td>NaN</td>\n",
       "      <td>NaN</td>\n",
       "    </tr>\n",
       "    <tr>\n",
       "      <th>Total Discharges</th>\n",
       "      <td>NaN</td>\n",
       "      <td>NaN</td>\n",
       "      <td>1.000000</td>\n",
       "      <td>-0.13741</td>\n",
       "      <td>-0.134108</td>\n",
       "      <td>-0.129101</td>\n",
       "      <td>-0.085164</td>\n",
       "      <td>0.030859</td>\n",
       "    </tr>\n",
       "    <tr>\n",
       "      <th>Average Covered Charges</th>\n",
       "      <td>NaN</td>\n",
       "      <td>NaN</td>\n",
       "      <td>-0.137410</td>\n",
       "      <td>1.00000</td>\n",
       "      <td>0.924640</td>\n",
       "      <td>0.914102</td>\n",
       "      <td>0.325162</td>\n",
       "      <td>0.564656</td>\n",
       "    </tr>\n",
       "    <tr>\n",
       "      <th>Average Total Payments</th>\n",
       "      <td>NaN</td>\n",
       "      <td>NaN</td>\n",
       "      <td>-0.134108</td>\n",
       "      <td>0.92464</td>\n",
       "      <td>1.000000</td>\n",
       "      <td>0.996107</td>\n",
       "      <td>0.269684</td>\n",
       "      <td>0.612532</td>\n",
       "    </tr>\n",
       "  </tbody>\n",
       "</table>\n",
       "</div>"
      ],
      "text/plain": [
       "                         Provider Id  Provider Zip Code  Total Discharges  \\\n",
       "Provider Id                      NaN                NaN               NaN   \n",
       "Provider Zip Code                NaN                NaN               NaN   \n",
       "Total Discharges                 NaN                NaN          1.000000   \n",
       "Average Covered Charges          NaN                NaN         -0.137410   \n",
       "Average Total Payments           NaN                NaN         -0.134108   \n",
       "\n",
       "                         Average Covered Charges  Average Total Payments  \\\n",
       "Provider Id                                  NaN                     NaN   \n",
       "Provider Zip Code                            NaN                     NaN   \n",
       "Total Discharges                        -0.13741               -0.134108   \n",
       "Average Covered Charges                  1.00000                0.924640   \n",
       "Average Total Payments                   0.92464                1.000000   \n",
       "\n",
       "                         Average Medicare Payments  Average Copay  \\\n",
       "Provider Id                                    NaN            NaN   \n",
       "Provider Zip Code                              NaN            NaN   \n",
       "Total Discharges                         -0.129101      -0.085164   \n",
       "Average Covered Charges                   0.914102       0.325162   \n",
       "Average Total Payments                    0.996107       0.269684   \n",
       "\n",
       "                         PercentageMedicare  \n",
       "Provider Id                             NaN  \n",
       "Provider Zip Code                       NaN  \n",
       "Total Discharges                   0.030859  \n",
       "Average Covered Charges            0.564656  \n",
       "Average Total Payments             0.612532  "
      ]
     },
     "execution_count": 24,
     "metadata": {},
     "output_type": "execute_result"
    }
   ],
   "source": [
    "# the CoveredCharges are positively related with TotalPayments, MedicarePayments, Average Copay, and Percentage.\n",
    "# CoveredCharges is negatively related to Totaldischarges.\n",
    "corr = cor1.corr()\n",
    "corr.head()"
   ]
  },
  {
   "cell_type": "code",
   "execution_count": 25,
   "metadata": {},
   "outputs": [
    {
     "data": {
      "text/plain": [
       "0.8465447820733937"
      ]
     },
     "execution_count": 25,
     "metadata": {},
     "output_type": "execute_result"
    }
   ],
   "source": [
    "#calculate the national PercentageMedicare\n",
    "d3 = data.copy()\n",
    "d3['PercentageMedicare'] = d3['Average Medicare Payments']/d3['Average Total Payments']\n",
    "d3['PercentageMedicare'].mean()"
   ]
  },
  {
   "cell_type": "code",
   "execution_count": 26,
   "metadata": {},
   "outputs": [
    {
     "data": {
      "text/plain": [
       "0.8254797164720173"
      ]
     },
     "execution_count": 26,
     "metadata": {},
     "output_type": "execute_result"
    }
   ],
   "source": [
    "#this hospital's PercentageMedicare is close to national average\n",
    "f3['PercentageMedicare'].mean()"
   ]
  },
  {
   "cell_type": "markdown",
   "metadata": {},
   "source": [
    "## Insight: Though there was one instance in the whole dataset where the Average Copay was 0. The average Medicare payment for this provider is similar to that of the national average. "
   ]
  },
  {
   "cell_type": "markdown",
   "metadata": {},
   "source": [
    "# F4 Explore the PercentageMedicare when applied to the whole dataset"
   ]
  },
  {
   "cell_type": "code",
   "execution_count": 27,
   "metadata": {
    "scrolled": true
   },
   "outputs": [
    {
     "data": {
      "text/html": [
       "<div>\n",
       "<style scoped>\n",
       "    .dataframe tbody tr th:only-of-type {\n",
       "        vertical-align: middle;\n",
       "    }\n",
       "\n",
       "    .dataframe tbody tr th {\n",
       "        vertical-align: top;\n",
       "    }\n",
       "\n",
       "    .dataframe thead th {\n",
       "        text-align: right;\n",
       "    }\n",
       "</style>\n",
       "<table border=\"1\" class=\"dataframe\">\n",
       "  <thead>\n",
       "    <tr style=\"text-align: right;\">\n",
       "      <th></th>\n",
       "      <th>Provider Id</th>\n",
       "      <th>count</th>\n",
       "      <th>mean</th>\n",
       "      <th>std</th>\n",
       "      <th>min</th>\n",
       "      <th>25%</th>\n",
       "      <th>50%</th>\n",
       "      <th>75%</th>\n",
       "      <th>max</th>\n",
       "    </tr>\n",
       "  </thead>\n",
       "  <tbody>\n",
       "    <tr>\n",
       "      <th>0</th>\n",
       "      <td>50528</td>\n",
       "      <td>8.0</td>\n",
       "      <td>0.964869</td>\n",
       "      <td>0.012237</td>\n",
       "      <td>0.943903</td>\n",
       "      <td>0.959029</td>\n",
       "      <td>0.968831</td>\n",
       "      <td>0.973815</td>\n",
       "      <td>0.977627</td>\n",
       "    </tr>\n",
       "    <tr>\n",
       "      <th>1</th>\n",
       "      <td>50677</td>\n",
       "      <td>1.0</td>\n",
       "      <td>0.962815</td>\n",
       "      <td>NaN</td>\n",
       "      <td>0.962815</td>\n",
       "      <td>0.962815</td>\n",
       "      <td>0.962815</td>\n",
       "      <td>0.962815</td>\n",
       "      <td>0.962815</td>\n",
       "    </tr>\n",
       "    <tr>\n",
       "      <th>2</th>\n",
       "      <td>50376</td>\n",
       "      <td>19.0</td>\n",
       "      <td>0.951555</td>\n",
       "      <td>0.026877</td>\n",
       "      <td>0.887451</td>\n",
       "      <td>0.937371</td>\n",
       "      <td>0.955771</td>\n",
       "      <td>0.972676</td>\n",
       "      <td>0.991397</td>\n",
       "    </tr>\n",
       "    <tr>\n",
       "      <th>3</th>\n",
       "      <td>530015</td>\n",
       "      <td>3.0</td>\n",
       "      <td>0.950449</td>\n",
       "      <td>0.026812</td>\n",
       "      <td>0.922253</td>\n",
       "      <td>0.937862</td>\n",
       "      <td>0.953471</td>\n",
       "      <td>0.964547</td>\n",
       "      <td>0.975622</td>\n",
       "    </tr>\n",
       "    <tr>\n",
       "      <th>4</th>\n",
       "      <td>370220</td>\n",
       "      <td>2.0</td>\n",
       "      <td>0.950217</td>\n",
       "      <td>0.018002</td>\n",
       "      <td>0.937488</td>\n",
       "      <td>0.943852</td>\n",
       "      <td>0.950217</td>\n",
       "      <td>0.956581</td>\n",
       "      <td>0.962946</td>\n",
       "    </tr>\n",
       "  </tbody>\n",
       "</table>\n",
       "</div>"
      ],
      "text/plain": [
       "   Provider Id  count      mean       std       min       25%       50%  \\\n",
       "0        50528    8.0  0.964869  0.012237  0.943903  0.959029  0.968831   \n",
       "1        50677    1.0  0.962815       NaN  0.962815  0.962815  0.962815   \n",
       "2        50376   19.0  0.951555  0.026877  0.887451  0.937371  0.955771   \n",
       "3       530015    3.0  0.950449  0.026812  0.922253  0.937862  0.953471   \n",
       "4       370220    2.0  0.950217  0.018002  0.937488  0.943852  0.950217   \n",
       "\n",
       "        75%       max  \n",
       "0  0.973815  0.977627  \n",
       "1  0.962815  0.962815  \n",
       "2  0.972676  0.991397  \n",
       "3  0.964547  0.975622  \n",
       "4  0.956581  0.962946  "
      ]
     },
     "execution_count": 27,
     "metadata": {},
     "output_type": "execute_result"
    }
   ],
   "source": [
    "f4 = d3.groupby('Provider Id')['PercentageMedicare'].describe()\n",
    "f4.sort_values(by='mean', ascending=False, inplace =True)\n",
    "f4.reset_index(inplace=True)\n",
    "f4.head()"
   ]
  },
  {
   "cell_type": "code",
   "execution_count": 28,
   "metadata": {
    "scrolled": true
   },
   "outputs": [
    {
     "data": {
      "text/plain": [
       "<matplotlib.axes._subplots.AxesSubplot at 0x7fc8e7c67f90>"
      ]
     },
     "execution_count": 28,
     "metadata": {},
     "output_type": "execute_result"
    },
    {
     "data": {
      "image/png": "[encoded data removed]",
      "text/plain": [
       "<Figure size 432x288 with 1 Axes>"
      ]
     },
     "metadata": {
      "needs_background": "light"
     },
     "output_type": "display_data"
    }
   ],
   "source": [
    "sns.barplot(x='Provider Id', y='mean', data=f4, order=None)"
   ]
  },
  {
   "cell_type": "code",
   "execution_count": 29,
   "metadata": {
    "scrolled": true
   },
   "outputs": [
    {
     "data": {
      "text/plain": [
       "<matplotlib.axes._subplots.AxesSubplot at 0x7fc8fa196450>"
      ]
     },
     "execution_count": 29,
     "metadata": {},
     "output_type": "execute_result"
    },
    {
     "data": {
      "image/png": "[encoded data removed]",
      "text/plain": [
       "<Figure size 432x288 with 1 Axes>"
      ]
     },
     "metadata": {
      "needs_background": "light"
     },
     "output_type": "display_data"
    }
   ],
   "source": [
    "#outliers below 0.4\n",
    "sns.boxplot(x=f4[\"mean\"])"
   ]
  },
  {
   "cell_type": "code",
   "execution_count": 30,
   "metadata": {},
   "outputs": [
    {
     "data": {
      "text/plain": [
       "[450880, 190245, 120011, 390312, 450874, 140100]"
      ]
     },
     "execution_count": 30,
     "metadata": {},
     "output_type": "execute_result"
    }
   ],
   "source": [
    "f4[f4['mean']<0.6]['Provider Id'].tolist()"
   ]
  },
  {
   "cell_type": "markdown",
   "metadata": {},
   "source": [
    "## The above list contains the Provider Ids that have extremely low Percentage Medicare payment ratio."
   ]
  },
  {
   "cell_type": "markdown",
   "metadata": {},
   "source": [
    "# F5 Explore which provider ID has the greatest number of ONETIME discharges."
   ]
  },
  {
   "cell_type": "code",
   "execution_count": 31,
   "metadata": {},
   "outputs": [
    {
     "data": {
      "text/html": [
       "<div>\n",
       "<style scoped>\n",
       "    .dataframe tbody tr th:only-of-type {\n",
       "        vertical-align: middle;\n",
       "    }\n",
       "\n",
       "    .dataframe tbody tr th {\n",
       "        vertical-align: top;\n",
       "    }\n",
       "\n",
       "    .dataframe thead th {\n",
       "        text-align: right;\n",
       "    }\n",
       "</style>\n",
       "<table border=\"1\" class=\"dataframe\">\n",
       "  <thead>\n",
       "    <tr style=\"text-align: right;\">\n",
       "      <th></th>\n",
       "      <th>count</th>\n",
       "      <th>mean</th>\n",
       "      <th>std</th>\n",
       "      <th>min</th>\n",
       "      <th>25%</th>\n",
       "      <th>50%</th>\n",
       "      <th>75%</th>\n",
       "      <th>max</th>\n",
       "    </tr>\n",
       "    <tr>\n",
       "      <th>Provider Id</th>\n",
       "      <th></th>\n",
       "      <th></th>\n",
       "      <th></th>\n",
       "      <th></th>\n",
       "      <th></th>\n",
       "      <th></th>\n",
       "      <th></th>\n",
       "      <th></th>\n",
       "    </tr>\n",
       "  </thead>\n",
       "  <tbody>\n",
       "    <tr>\n",
       "      <th>330270</th>\n",
       "      <td>8.0</td>\n",
       "      <td>494.500000</td>\n",
       "      <td>1169.607871</td>\n",
       "      <td>14.0</td>\n",
       "      <td>25.5</td>\n",
       "      <td>62.5</td>\n",
       "      <td>168.50</td>\n",
       "      <td>3383.0</td>\n",
       "    </tr>\n",
       "    <tr>\n",
       "      <th>50024</th>\n",
       "      <td>46.0</td>\n",
       "      <td>68.478261</td>\n",
       "      <td>247.234188</td>\n",
       "      <td>11.0</td>\n",
       "      <td>16.0</td>\n",
       "      <td>23.5</td>\n",
       "      <td>37.75</td>\n",
       "      <td>1696.0</td>\n",
       "    </tr>\n",
       "    <tr>\n",
       "      <th>220062</th>\n",
       "      <td>1.0</td>\n",
       "      <td>1571.000000</td>\n",
       "      <td>NaN</td>\n",
       "      <td>1571.0</td>\n",
       "      <td>1571.0</td>\n",
       "      <td>1571.0</td>\n",
       "      <td>1571.00</td>\n",
       "      <td>1571.0</td>\n",
       "    </tr>\n",
       "    <tr>\n",
       "      <th>140180</th>\n",
       "      <td>82.0</td>\n",
       "      <td>59.560976</td>\n",
       "      <td>167.776166</td>\n",
       "      <td>11.0</td>\n",
       "      <td>21.0</td>\n",
       "      <td>29.5</td>\n",
       "      <td>47.00</td>\n",
       "      <td>1487.0</td>\n",
       "    </tr>\n",
       "    <tr>\n",
       "      <th>220088</th>\n",
       "      <td>9.0</td>\n",
       "      <td>199.111111</td>\n",
       "      <td>477.118812</td>\n",
       "      <td>11.0</td>\n",
       "      <td>13.0</td>\n",
       "      <td>30.0</td>\n",
       "      <td>37.00</td>\n",
       "      <td>1464.0</td>\n",
       "    </tr>\n",
       "  </tbody>\n",
       "</table>\n",
       "</div>"
      ],
      "text/plain": [
       "             count         mean          std     min     25%     50%      75%  \\\n",
       "Provider Id                                                                     \n",
       "330270         8.0   494.500000  1169.607871    14.0    25.5    62.5   168.50   \n",
       "50024         46.0    68.478261   247.234188    11.0    16.0    23.5    37.75   \n",
       "220062         1.0  1571.000000          NaN  1571.0  1571.0  1571.0  1571.00   \n",
       "140180        82.0    59.560976   167.776166    11.0    21.0    29.5    47.00   \n",
       "220088         9.0   199.111111   477.118812    11.0    13.0    30.0    37.00   \n",
       "\n",
       "                max  \n",
       "Provider Id          \n",
       "330270       3383.0  \n",
       "50024        1696.0  \n",
       "220062       1571.0  \n",
       "140180       1487.0  \n",
       "220088       1464.0  "
      ]
     },
     "execution_count": 31,
     "metadata": {},
     "output_type": "execute_result"
    }
   ],
   "source": [
    "f5 = data.groupby('Provider Id')['Total Discharges'].describe().copy()\n",
    "f5.sort_values(by='max',ascending=False).head()"
   ]
  },
  {
   "cell_type": "code",
   "execution_count": 32,
   "metadata": {},
   "outputs": [
    {
     "data": {
      "text/plain": [
       "179.94366197183098"
      ]
     },
     "execution_count": 32,
     "metadata": {},
     "output_type": "execute_result"
    }
   ],
   "source": [
    "# the above Total Discharges are clearly above the mean \n",
    "f5['max'].mean()"
   ]
  },
  {
   "cell_type": "code",
   "execution_count": 33,
   "metadata": {},
   "outputs": [
    {
     "data": {
      "text/html": [
       "<div>\n",
       "<style scoped>\n",
       "    .dataframe tbody tr th:only-of-type {\n",
       "        vertical-align: middle;\n",
       "    }\n",
       "\n",
       "    .dataframe tbody tr th {\n",
       "        vertical-align: top;\n",
       "    }\n",
       "\n",
       "    .dataframe thead th {\n",
       "        text-align: right;\n",
       "    }\n",
       "</style>\n",
       "<table border=\"1\" class=\"dataframe\">\n",
       "  <thead>\n",
       "    <tr style=\"text-align: right;\">\n",
       "      <th></th>\n",
       "      <th>DRG Definition</th>\n",
       "      <th>Provider Id</th>\n",
       "      <th>Provider Name</th>\n",
       "      <th>Provider Street Address</th>\n",
       "      <th>Provider City</th>\n",
       "      <th>Provider State</th>\n",
       "      <th>Provider Zip Code</th>\n",
       "      <th>Hospital Referral Region Description</th>\n",
       "      <th>Total Discharges</th>\n",
       "      <th>Average Covered Charges</th>\n",
       "      <th>Average Total Payments</th>\n",
       "      <th>Average Medicare Payments</th>\n",
       "      <th>Average Copay</th>\n",
       "    </tr>\n",
       "  </thead>\n",
       "  <tbody>\n",
       "    <tr>\n",
       "      <th>109834</th>\n",
       "      <td>460 - SPINAL FUSION EXCEPT CERVICAL W/O MCC</td>\n",
       "      <td>330270</td>\n",
       "      <td>HOSPITAL FOR SPECIAL SURGERY</td>\n",
       "      <td>535 EAST 70TH STREET</td>\n",
       "      <td>NEW YORK</td>\n",
       "      <td>NY</td>\n",
       "      <td>10021</td>\n",
       "      <td>NY - Manhattan</td>\n",
       "      <td>239</td>\n",
       "      <td>78468.56</td>\n",
       "      <td>32745.19</td>\n",
       "      <td>27992.85</td>\n",
       "      <td>4752.34</td>\n",
       "    </tr>\n",
       "    <tr>\n",
       "      <th>110934</th>\n",
       "      <td>469 - MAJOR JOINT REPLACEMENT OR REATTACHMENT ...</td>\n",
       "      <td>330270</td>\n",
       "      <td>HOSPITAL FOR SPECIAL SURGERY</td>\n",
       "      <td>535 EAST 70TH STREET</td>\n",
       "      <td>NEW YORK</td>\n",
       "      <td>NY</td>\n",
       "      <td>10021</td>\n",
       "      <td>NY - Manhattan</td>\n",
       "      <td>66</td>\n",
       "      <td>75163.50</td>\n",
       "      <td>25219.89</td>\n",
       "      <td>23674.60</td>\n",
       "      <td>1545.29</td>\n",
       "    </tr>\n",
       "    <tr>\n",
       "      <th>112969</th>\n",
       "      <td>470 - MAJOR JOINT REPLACEMENT OR REATTACHMENT ...</td>\n",
       "      <td>330270</td>\n",
       "      <td>HOSPITAL FOR SPECIAL SURGERY</td>\n",
       "      <td>535 EAST 70TH STREET</td>\n",
       "      <td>NEW YORK</td>\n",
       "      <td>NY</td>\n",
       "      <td>10021</td>\n",
       "      <td>NY - Manhattan</td>\n",
       "      <td>3383</td>\n",
       "      <td>53113.58</td>\n",
       "      <td>19023.70</td>\n",
       "      <td>14880.39</td>\n",
       "      <td>4143.31</td>\n",
       "    </tr>\n",
       "    <tr>\n",
       "      <th>114541</th>\n",
       "      <td>473 - CERVICAL SPINAL FUSION W/O CC/MCC</td>\n",
       "      <td>330270</td>\n",
       "      <td>HOSPITAL FOR SPECIAL SURGERY</td>\n",
       "      <td>535 EAST 70TH STREET</td>\n",
       "      <td>NEW YORK</td>\n",
       "      <td>NY</td>\n",
       "      <td>10021</td>\n",
       "      <td>NY - Manhattan</td>\n",
       "      <td>59</td>\n",
       "      <td>60667.47</td>\n",
       "      <td>19046.44</td>\n",
       "      <td>13903.16</td>\n",
       "      <td>5143.28</td>\n",
       "    </tr>\n",
       "    <tr>\n",
       "      <th>117101</th>\n",
       "      <td>481 - HIP &amp; FEMUR PROCEDURES EXCEPT MAJOR JOIN...</td>\n",
       "      <td>330270</td>\n",
       "      <td>HOSPITAL FOR SPECIAL SURGERY</td>\n",
       "      <td>535 EAST 70TH STREET</td>\n",
       "      <td>NEW YORK</td>\n",
       "      <td>NY</td>\n",
       "      <td>10021</td>\n",
       "      <td>NY - Manhattan</td>\n",
       "      <td>26</td>\n",
       "      <td>70918.50</td>\n",
       "      <td>18352.23</td>\n",
       "      <td>14800.34</td>\n",
       "      <td>3551.89</td>\n",
       "    </tr>\n",
       "  </tbody>\n",
       "</table>\n",
       "</div>"
      ],
      "text/plain": [
       "                                           DRG Definition  Provider Id  \\\n",
       "109834        460 - SPINAL FUSION EXCEPT CERVICAL W/O MCC       330270   \n",
       "110934  469 - MAJOR JOINT REPLACEMENT OR REATTACHMENT ...       330270   \n",
       "112969  470 - MAJOR JOINT REPLACEMENT OR REATTACHMENT ...       330270   \n",
       "114541            473 - CERVICAL SPINAL FUSION W/O CC/MCC       330270   \n",
       "117101  481 - HIP & FEMUR PROCEDURES EXCEPT MAJOR JOIN...       330270   \n",
       "\n",
       "                       Provider Name Provider Street Address Provider City  \\\n",
       "109834  HOSPITAL FOR SPECIAL SURGERY    535 EAST 70TH STREET      NEW YORK   \n",
       "110934  HOSPITAL FOR SPECIAL SURGERY    535 EAST 70TH STREET      NEW YORK   \n",
       "112969  HOSPITAL FOR SPECIAL SURGERY    535 EAST 70TH STREET      NEW YORK   \n",
       "114541  HOSPITAL FOR SPECIAL SURGERY    535 EAST 70TH STREET      NEW YORK   \n",
       "117101  HOSPITAL FOR SPECIAL SURGERY    535 EAST 70TH STREET      NEW YORK   \n",
       "\n",
       "       Provider State  Provider Zip Code Hospital Referral Region Description  \\\n",
       "109834             NY              10021                       NY - Manhattan   \n",
       "110934             NY              10021                       NY - Manhattan   \n",
       "112969             NY              10021                       NY - Manhattan   \n",
       "114541             NY              10021                       NY - Manhattan   \n",
       "117101             NY              10021                       NY - Manhattan   \n",
       "\n",
       "        Total Discharges  Average Covered Charges  Average Total Payments  \\\n",
       "109834               239                 78468.56                32745.19   \n",
       "110934                66                 75163.50                25219.89   \n",
       "112969              3383                 53113.58                19023.70   \n",
       "114541                59                 60667.47                19046.44   \n",
       "117101                26                 70918.50                18352.23   \n",
       "\n",
       "        Average Medicare Payments  Average Copay  \n",
       "109834                   27992.85        4752.34  \n",
       "110934                   23674.60        1545.29  \n",
       "112969                   14880.39        4143.31  \n",
       "114541                   13903.16        5143.28  \n",
       "117101                   14800.34        3551.89  "
      ]
     },
     "execution_count": 33,
     "metadata": {},
     "output_type": "execute_result"
    }
   ],
   "source": [
    "data[(data['Provider Id']==330270)].head()"
   ]
  },
  {
   "cell_type": "code",
   "execution_count": 34,
   "metadata": {},
   "outputs": [
    {
     "data": {
      "text/html": [
       "<div>\n",
       "<style scoped>\n",
       "    .dataframe tbody tr th:only-of-type {\n",
       "        vertical-align: middle;\n",
       "    }\n",
       "\n",
       "    .dataframe tbody tr th {\n",
       "        vertical-align: top;\n",
       "    }\n",
       "\n",
       "    .dataframe thead th {\n",
       "        text-align: right;\n",
       "    }\n",
       "</style>\n",
       "<table border=\"1\" class=\"dataframe\">\n",
       "  <thead>\n",
       "    <tr style=\"text-align: right;\">\n",
       "      <th></th>\n",
       "      <th>DRG Definition</th>\n",
       "      <th>Provider Id</th>\n",
       "      <th>Provider Name</th>\n",
       "      <th>Provider Street Address</th>\n",
       "      <th>Provider City</th>\n",
       "      <th>Provider State</th>\n",
       "      <th>Provider Zip Code</th>\n",
       "      <th>Hospital Referral Region Description</th>\n",
       "      <th>Total Discharges</th>\n",
       "      <th>Average Covered Charges</th>\n",
       "      <th>Average Total Payments</th>\n",
       "      <th>Average Medicare Payments</th>\n",
       "      <th>Average Copay</th>\n",
       "    </tr>\n",
       "  </thead>\n",
       "  <tbody>\n",
       "    <tr>\n",
       "      <th>158518</th>\n",
       "      <td>897 - ALCOHOL/DRUG ABUSE OR DEPENDENCE W/O REH...</td>\n",
       "      <td>220062</td>\n",
       "      <td>ADCARE HOSPITAL OF WORCESTER INC</td>\n",
       "      <td>107 LINCOLN STREET</td>\n",
       "      <td>WORCESTER</td>\n",
       "      <td>MA</td>\n",
       "      <td>1605</td>\n",
       "      <td>MA - Worcester</td>\n",
       "      <td>1571</td>\n",
       "      <td>4227.46</td>\n",
       "      <td>4967.56</td>\n",
       "      <td>4284.52</td>\n",
       "      <td>683.04</td>\n",
       "    </tr>\n",
       "  </tbody>\n",
       "</table>\n",
       "</div>"
      ],
      "text/plain": [
       "                                           DRG Definition  Provider Id  \\\n",
       "158518  897 - ALCOHOL/DRUG ABUSE OR DEPENDENCE W/O REH...       220062   \n",
       "\n",
       "                           Provider Name Provider Street Address  \\\n",
       "158518  ADCARE HOSPITAL OF WORCESTER INC      107 LINCOLN STREET   \n",
       "\n",
       "       Provider City Provider State  Provider Zip Code  \\\n",
       "158518     WORCESTER             MA               1605   \n",
       "\n",
       "       Hospital Referral Region Description  Total Discharges  \\\n",
       "158518                       MA - Worcester              1571   \n",
       "\n",
       "        Average Covered Charges  Average Total Payments  \\\n",
       "158518                  4227.46                 4967.56   \n",
       "\n",
       "        Average Medicare Payments  Average Copay  \n",
       "158518                    4284.52         683.04  "
      ]
     },
     "execution_count": 34,
     "metadata": {},
     "output_type": "execute_result"
    }
   ],
   "source": [
    "data[(data['Provider Id']==220062)]"
   ]
  },
  {
   "cell_type": "markdown",
   "metadata": {},
   "source": [
    "## Insight: provider 330270 is famous for bone related treatment. It has over 3.3k treatments for Major Joint Replacement Or Reattachment. Provider 220062 only takes Alcohol related issue, as that is the only service it provides."
   ]
  },
  {
   "cell_type": "markdown",
   "metadata": {},
   "source": [
    "# F6 Find the total number of discharges and detect anomaly."
   ]
  },
  {
   "cell_type": "code",
   "execution_count": 35,
   "metadata": {},
   "outputs": [
    {
     "data": {
      "text/plain": [
       "Provider Id\n",
       "100007    25828\n",
       "330101    16834\n",
       "450388    15921\n",
       "80001     14542\n",
       "230130    14469\n",
       "          ...  \n",
       "200032       11\n",
       "450243       11\n",
       "190273       11\n",
       "190133       11\n",
       "50547        11\n",
       "Name: Total Discharges, Length: 3337, dtype: int64"
      ]
     },
     "execution_count": 35,
     "metadata": {},
     "output_type": "execute_result"
    }
   ],
   "source": [
    "f6 = data.groupby('Provider Id')['Total Discharges'].sum()\n",
    "f6.sort_values(ascending=False)"
   ]
  },
  {
   "cell_type": "code",
   "execution_count": 36,
   "metadata": {
    "scrolled": true
   },
   "outputs": [
    {
     "data": {
      "text/plain": [
       "<matplotlib.axes._subplots.AxesSubplot at 0x7fc903efa4d0>"
      ]
     },
     "execution_count": 36,
     "metadata": {},
     "output_type": "execute_result"
    },
    {
     "data": {
      "image/png": "[encoded data removed]",
      "text/plain": [
       "<Figure size 432x288 with 1 Axes>"
      ]
     },
     "metadata": {
      "needs_background": "light"
     },
     "output_type": "display_data"
    }
   ],
   "source": [
    "sns.boxplot(x=f6)"
   ]
  },
  {
   "cell_type": "code",
   "execution_count": 37,
   "metadata": {},
   "outputs": [
    {
     "data": {
      "text/html": [
       "<div>\n",
       "<style scoped>\n",
       "    .dataframe tbody tr th:only-of-type {\n",
       "        vertical-align: middle;\n",
       "    }\n",
       "\n",
       "    .dataframe tbody tr th {\n",
       "        vertical-align: top;\n",
       "    }\n",
       "\n",
       "    .dataframe thead th {\n",
       "        text-align: right;\n",
       "    }\n",
       "</style>\n",
       "<table border=\"1\" class=\"dataframe\">\n",
       "  <thead>\n",
       "    <tr style=\"text-align: right;\">\n",
       "      <th></th>\n",
       "      <th>DRG Definition</th>\n",
       "      <th>Provider Id</th>\n",
       "      <th>Provider Name</th>\n",
       "      <th>Provider Street Address</th>\n",
       "      <th>Provider City</th>\n",
       "      <th>Provider State</th>\n",
       "      <th>Provider Zip Code</th>\n",
       "      <th>Hospital Referral Region Description</th>\n",
       "      <th>Total Discharges</th>\n",
       "      <th>Average Covered Charges</th>\n",
       "      <th>Average Total Payments</th>\n",
       "      <th>Average Medicare Payments</th>\n",
       "      <th>Average Copay</th>\n",
       "    </tr>\n",
       "  </thead>\n",
       "  <tbody>\n",
       "    <tr>\n",
       "      <th>164</th>\n",
       "      <td>039 - EXTRACRANIAL PROCEDURES W/O CC/MCC</td>\n",
       "      <td>100007</td>\n",
       "      <td>FLORIDA HOSPITAL</td>\n",
       "      <td>601 E ROLLINS ST</td>\n",
       "      <td>ORLANDO</td>\n",
       "      <td>FL</td>\n",
       "      <td>32803</td>\n",
       "      <td>FL - Orlando</td>\n",
       "      <td>93</td>\n",
       "      <td>33949.48</td>\n",
       "      <td>6845.37</td>\n",
       "      <td>5042.31</td>\n",
       "      <td>1803.06</td>\n",
       "    </tr>\n",
       "    <tr>\n",
       "      <th>1251</th>\n",
       "      <td>057 - DEGENERATIVE NERVOUS SYSTEM DISORDERS W/...</td>\n",
       "      <td>100007</td>\n",
       "      <td>FLORIDA HOSPITAL</td>\n",
       "      <td>601 E ROLLINS ST</td>\n",
       "      <td>ORLANDO</td>\n",
       "      <td>FL</td>\n",
       "      <td>32803</td>\n",
       "      <td>FL - Orlando</td>\n",
       "      <td>224</td>\n",
       "      <td>26941.47</td>\n",
       "      <td>6077.88</td>\n",
       "      <td>5134.23</td>\n",
       "      <td>943.65</td>\n",
       "    </tr>\n",
       "    <tr>\n",
       "      <th>2581</th>\n",
       "      <td>064 - INTRACRANIAL HEMORRHAGE OR CEREBRAL INFA...</td>\n",
       "      <td>100007</td>\n",
       "      <td>FLORIDA HOSPITAL</td>\n",
       "      <td>601 E ROLLINS ST</td>\n",
       "      <td>ORLANDO</td>\n",
       "      <td>FL</td>\n",
       "      <td>32803</td>\n",
       "      <td>FL - Orlando</td>\n",
       "      <td>180</td>\n",
       "      <td>69499.64</td>\n",
       "      <td>13645.76</td>\n",
       "      <td>12186.08</td>\n",
       "      <td>1459.68</td>\n",
       "    </tr>\n",
       "    <tr>\n",
       "      <th>4353</th>\n",
       "      <td>065 - INTRACRANIAL HEMORRHAGE OR CEREBRAL INFA...</td>\n",
       "      <td>100007</td>\n",
       "      <td>FLORIDA HOSPITAL</td>\n",
       "      <td>601 E ROLLINS ST</td>\n",
       "      <td>ORLANDO</td>\n",
       "      <td>FL</td>\n",
       "      <td>32803</td>\n",
       "      <td>FL - Orlando</td>\n",
       "      <td>303</td>\n",
       "      <td>40242.49</td>\n",
       "      <td>7670.97</td>\n",
       "      <td>6158.75</td>\n",
       "      <td>1512.22</td>\n",
       "    </tr>\n",
       "    <tr>\n",
       "      <th>6530</th>\n",
       "      <td>066 - INTRACRANIAL HEMORRHAGE OR CEREBRAL INFA...</td>\n",
       "      <td>100007</td>\n",
       "      <td>FLORIDA HOSPITAL</td>\n",
       "      <td>601 E ROLLINS ST</td>\n",
       "      <td>ORLANDO</td>\n",
       "      <td>FL</td>\n",
       "      <td>32803</td>\n",
       "      <td>FL - Orlando</td>\n",
       "      <td>159</td>\n",
       "      <td>30804.42</td>\n",
       "      <td>5934.77</td>\n",
       "      <td>3819.25</td>\n",
       "      <td>2115.52</td>\n",
       "    </tr>\n",
       "  </tbody>\n",
       "</table>\n",
       "</div>"
      ],
      "text/plain": [
       "                                         DRG Definition  Provider Id  \\\n",
       "164            039 - EXTRACRANIAL PROCEDURES W/O CC/MCC       100007   \n",
       "1251  057 - DEGENERATIVE NERVOUS SYSTEM DISORDERS W/...       100007   \n",
       "2581  064 - INTRACRANIAL HEMORRHAGE OR CEREBRAL INFA...       100007   \n",
       "4353  065 - INTRACRANIAL HEMORRHAGE OR CEREBRAL INFA...       100007   \n",
       "6530  066 - INTRACRANIAL HEMORRHAGE OR CEREBRAL INFA...       100007   \n",
       "\n",
       "         Provider Name Provider Street Address Provider City Provider State  \\\n",
       "164   FLORIDA HOSPITAL        601 E ROLLINS ST       ORLANDO             FL   \n",
       "1251  FLORIDA HOSPITAL        601 E ROLLINS ST       ORLANDO             FL   \n",
       "2581  FLORIDA HOSPITAL        601 E ROLLINS ST       ORLANDO             FL   \n",
       "4353  FLORIDA HOSPITAL        601 E ROLLINS ST       ORLANDO             FL   \n",
       "6530  FLORIDA HOSPITAL        601 E ROLLINS ST       ORLANDO             FL   \n",
       "\n",
       "      Provider Zip Code Hospital Referral Region Description  \\\n",
       "164               32803                         FL - Orlando   \n",
       "1251              32803                         FL - Orlando   \n",
       "2581              32803                         FL - Orlando   \n",
       "4353              32803                         FL - Orlando   \n",
       "6530              32803                         FL - Orlando   \n",
       "\n",
       "      Total Discharges  Average Covered Charges  Average Total Payments  \\\n",
       "164                 93                 33949.48                 6845.37   \n",
       "1251               224                 26941.47                 6077.88   \n",
       "2581               180                 69499.64                13645.76   \n",
       "4353               303                 40242.49                 7670.97   \n",
       "6530               159                 30804.42                 5934.77   \n",
       "\n",
       "      Average Medicare Payments  Average Copay  \n",
       "164                     5042.31        1803.06  \n",
       "1251                    5134.23         943.65  \n",
       "2581                   12186.08        1459.68  \n",
       "4353                    6158.75        1512.22  \n",
       "6530                    3819.25        2115.52  "
      ]
     },
     "execution_count": 37,
     "metadata": {},
     "output_type": "execute_result"
    }
   ],
   "source": [
    "data[data['Provider Id']==100007].head()"
   ]
  },
  {
   "cell_type": "markdown",
   "metadata": {},
   "source": [
    "## Insight: Florida Hospital has an extremely high number of discharge. It should be heavily monitor for any opportunity of fraud."
   ]
  },
  {
   "cell_type": "markdown",
   "metadata": {},
   "source": [
    "# F7 Find the hospital that has the highest value of money transaction"
   ]
  },
  {
   "cell_type": "code",
   "execution_count": 38,
   "metadata": {
    "scrolled": true
   },
   "outputs": [
    {
     "data": {
      "text/plain": [
       "Provider Id\n",
       "330101    2.870070e+08\n",
       "100007    2.361069e+08\n",
       "330059    2.086041e+08\n",
       "330024    1.889552e+08\n",
       "50625     1.595431e+08\n",
       "              ...     \n",
       "10102     5.822700e+04\n",
       "450865    5.725395e+04\n",
       "230279    5.604000e+04\n",
       "190161    5.244000e+04\n",
       "140301    4.232393e+04\n",
       "Name: Totalvalue, Length: 3337, dtype: float64"
      ]
     },
     "execution_count": 38,
     "metadata": {},
     "output_type": "execute_result"
    }
   ],
   "source": [
    "f7 = data.copy()\n",
    "f7['Totalvalue']= f7['Total Discharges'] * f7['Average Total Payments']\n",
    "g7 = f7.groupby('Provider Id')['Totalvalue'].sum().sort_values(ascending=False)\n",
    "g7"
   ]
  },
  {
   "cell_type": "code",
   "execution_count": 39,
   "metadata": {},
   "outputs": [
    {
     "data": {
      "text/plain": [
       "array(['FLORIDA HOSPITAL', 'MOUNT SINAI HOSPITAL',\n",
       "       'MONTEFIORE MEDICAL CENTER', 'NEW YORK-PRESBYTERIAN HOSPITAL'],\n",
       "      dtype=object)"
      ]
     },
     "execution_count": 39,
     "metadata": {},
     "output_type": "execute_result"
    }
   ],
   "source": [
    "data[data['Provider Id'].isin([330101,100007,330059,330024])]['Provider Name'].unique()"
   ]
  },
  {
   "cell_type": "code",
   "execution_count": 40,
   "metadata": {
    "scrolled": false
   },
   "outputs": [
    {
     "data": {
      "text/plain": [
       "<matplotlib.axes._subplots.AxesSubplot at 0x7fc903e40b50>"
      ]
     },
     "execution_count": 40,
     "metadata": {},
     "output_type": "execute_result"
    },
    {
     "data": {
      "image/png": "[encoded data removed]",
      "text/plain": [
       "<Figure size 432x288 with 1 Axes>"
      ]
     },
     "metadata": {
      "needs_background": "light"
     },
     "output_type": "display_data"
    }
   ],
   "source": [
    "sns.boxplot(x=g7)"
   ]
  },
  {
   "cell_type": "code",
   "execution_count": 41,
   "metadata": {},
   "outputs": [
    {
     "data": {
      "text/plain": [
       "Provider Id\n",
       "330101    2.870070e+08\n",
       "100007    2.361069e+08\n",
       "330059    2.086041e+08\n",
       "330024    1.889552e+08\n",
       "Name: Totalvalue, dtype: float64"
      ]
     },
     "execution_count": 41,
     "metadata": {},
     "output_type": "execute_result"
    }
   ],
   "source": [
    "# the providers that have the largest number of total value are the following\n",
    "l7 = g7[g7>1.889552e+08]\n",
    "l7"
   ]
  },
  {
   "cell_type": "code",
   "execution_count": 42,
   "metadata": {},
   "outputs": [
    {
     "data": {
      "text/plain": [
       "Provider Id\n",
       "490142    50552.610000\n",
       "450880    38418.529940\n",
       "60096     35063.091250\n",
       "50528     25181.728447\n",
       "530015    23968.121667\n",
       "              ...     \n",
       "230279     3736.000000\n",
       "340168     3639.470000\n",
       "450813     3623.440000\n",
       "250151     3510.752126\n",
       "110209     3291.310000\n",
       "Length: 3337, dtype: float64"
      ]
     },
     "execution_count": 42,
     "metadata": {},
     "output_type": "execute_result"
    }
   ],
   "source": [
    "# the providers that have the highest value per discharge are the following\n",
    "data['Totalvalue'] = data['Total Discharges'] * data['Average Total Payments']\n",
    "f77 = data.groupby('Provider Id')['Totalvalue'].sum()/data.groupby('Provider Id')['Total Discharges'].sum()\n",
    "f77.sort_values(ascending = False)"
   ]
  },
  {
   "cell_type": "code",
   "execution_count": 43,
   "metadata": {},
   "outputs": [
    {
     "data": {
      "text/plain": [
       "[Text(0.5, 0, 'Average Payment Per Discharge')]"
      ]
     },
     "execution_count": 43,
     "metadata": {},
     "output_type": "execute_result"
    },
    {
     "data": {
      "image/png": "[encoded data removed]",
      "text/plain": [
       "<Figure size 432x288 with 1 Axes>"
      ]
     },
     "metadata": {
      "needs_background": "light"
     },
     "output_type": "display_data"
    }
   ],
   "source": [
    "sns.boxplot(x=f77).set(xlabel='Average Payment Per Discharge')"
   ]
  },
  {
   "cell_type": "code",
   "execution_count": 44,
   "metadata": {},
   "outputs": [
    {
     "data": {
      "text/plain": [
       "[60096, 450880, 490142]"
      ]
     },
     "execution_count": 44,
     "metadata": {},
     "output_type": "execute_result"
    }
   ],
   "source": [
    "l77 =  f77[f77>30000].index.tolist()\n",
    "l77"
   ]
  },
  {
   "cell_type": "markdown",
   "metadata": {},
   "source": [
    "## Insight: # the providers that have the highest value per discharge are the following [60096(Specialized in Spinal Fusion and Major joint replacement), 450880(Specialized in Spinal Fusion and Major joint replacement), 490142(RESPIRATORY SYSTEM DIAGNOSIS)]"
   ]
  },
  {
   "cell_type": "markdown",
   "metadata": {},
   "source": [
    "## Extended: Is respiratory System Diagnosis charge normal? Compare to average."
   ]
  },
  {
   "cell_type": "code",
   "execution_count": 45,
   "metadata": {},
   "outputs": [
    {
     "data": {
      "text/html": [
       "<div>\n",
       "<style scoped>\n",
       "    .dataframe tbody tr th:only-of-type {\n",
       "        vertical-align: middle;\n",
       "    }\n",
       "\n",
       "    .dataframe tbody tr th {\n",
       "        vertical-align: top;\n",
       "    }\n",
       "\n",
       "    .dataframe thead th {\n",
       "        text-align: right;\n",
       "    }\n",
       "</style>\n",
       "<table border=\"1\" class=\"dataframe\">\n",
       "  <thead>\n",
       "    <tr style=\"text-align: right;\">\n",
       "      <th></th>\n",
       "      <th>DRG Definition</th>\n",
       "      <th>Provider Id</th>\n",
       "      <th>Provider Name</th>\n",
       "      <th>Provider Street Address</th>\n",
       "      <th>Provider City</th>\n",
       "      <th>Provider State</th>\n",
       "      <th>Provider Zip Code</th>\n",
       "      <th>Hospital Referral Region Description</th>\n",
       "      <th>Total Discharges</th>\n",
       "      <th>Average Covered Charges</th>\n",
       "      <th>Average Total Payments</th>\n",
       "      <th>Average Medicare Payments</th>\n",
       "      <th>Average Copay</th>\n",
       "      <th>Totalvalue</th>\n",
       "    </tr>\n",
       "  </thead>\n",
       "  <tbody>\n",
       "    <tr>\n",
       "      <th>109190</th>\n",
       "      <td>460 - SPINAL FUSION EXCEPT CERVICAL W/O MCC</td>\n",
       "      <td>60096</td>\n",
       "      <td>VAIL VALLEY MEDICAL CENTER</td>\n",
       "      <td>181 W MEADOW DRIVE</td>\n",
       "      <td>VAIL</td>\n",
       "      <td>CO</td>\n",
       "      <td>81657</td>\n",
       "      <td>CO - Denver</td>\n",
       "      <td>18</td>\n",
       "      <td>98351.72</td>\n",
       "      <td>54260.50</td>\n",
       "      <td>53196.66</td>\n",
       "      <td>1063.84</td>\n",
       "      <td>976689.00</td>\n",
       "    </tr>\n",
       "    <tr>\n",
       "      <th>111674</th>\n",
       "      <td>470 - MAJOR JOINT REPLACEMENT OR REATTACHMENT ...</td>\n",
       "      <td>60096</td>\n",
       "      <td>VAIL VALLEY MEDICAL CENTER</td>\n",
       "      <td>181 W MEADOW DRIVE</td>\n",
       "      <td>VAIL</td>\n",
       "      <td>CO</td>\n",
       "      <td>81657</td>\n",
       "      <td>CO - Denver</td>\n",
       "      <td>78</td>\n",
       "      <td>53479.92</td>\n",
       "      <td>30632.92</td>\n",
       "      <td>26689.67</td>\n",
       "      <td>3943.25</td>\n",
       "      <td>2389367.76</td>\n",
       "    </tr>\n",
       "  </tbody>\n",
       "</table>\n",
       "</div>"
      ],
      "text/plain": [
       "                                           DRG Definition  Provider Id  \\\n",
       "109190        460 - SPINAL FUSION EXCEPT CERVICAL W/O MCC        60096   \n",
       "111674  470 - MAJOR JOINT REPLACEMENT OR REATTACHMENT ...        60096   \n",
       "\n",
       "                     Provider Name Provider Street Address Provider City  \\\n",
       "109190  VAIL VALLEY MEDICAL CENTER      181 W MEADOW DRIVE          VAIL   \n",
       "111674  VAIL VALLEY MEDICAL CENTER      181 W MEADOW DRIVE          VAIL   \n",
       "\n",
       "       Provider State  Provider Zip Code Hospital Referral Region Description  \\\n",
       "109190             CO              81657                          CO - Denver   \n",
       "111674             CO              81657                          CO - Denver   \n",
       "\n",
       "        Total Discharges  Average Covered Charges  Average Total Payments  \\\n",
       "109190                18                 98351.72                54260.50   \n",
       "111674                78                 53479.92                30632.92   \n",
       "\n",
       "        Average Medicare Payments  Average Copay  Totalvalue  \n",
       "109190                   53196.66        1063.84   976689.00  \n",
       "111674                   26689.67        3943.25  2389367.76  "
      ]
     },
     "execution_count": 45,
     "metadata": {},
     "output_type": "execute_result"
    }
   ],
   "source": [
    "data[data['Provider Id']==60096].head()"
   ]
  },
  {
   "cell_type": "code",
   "execution_count": 46,
   "metadata": {},
   "outputs": [
    {
     "data": {
      "text/html": [
       "<div>\n",
       "<style scoped>\n",
       "    .dataframe tbody tr th:only-of-type {\n",
       "        vertical-align: middle;\n",
       "    }\n",
       "\n",
       "    .dataframe tbody tr th {\n",
       "        vertical-align: top;\n",
       "    }\n",
       "\n",
       "    .dataframe thead th {\n",
       "        text-align: right;\n",
       "    }\n",
       "</style>\n",
       "<table border=\"1\" class=\"dataframe\">\n",
       "  <thead>\n",
       "    <tr style=\"text-align: right;\">\n",
       "      <th></th>\n",
       "      <th>DRG Definition</th>\n",
       "      <th>Provider Id</th>\n",
       "      <th>Provider Name</th>\n",
       "      <th>Provider Street Address</th>\n",
       "      <th>Provider City</th>\n",
       "      <th>Provider State</th>\n",
       "      <th>Provider Zip Code</th>\n",
       "      <th>Hospital Referral Region Description</th>\n",
       "      <th>Total Discharges</th>\n",
       "      <th>Average Covered Charges</th>\n",
       "      <th>Average Total Payments</th>\n",
       "      <th>Average Medicare Payments</th>\n",
       "      <th>Average Copay</th>\n",
       "      <th>Totalvalue</th>\n",
       "    </tr>\n",
       "  </thead>\n",
       "  <tbody>\n",
       "    <tr>\n",
       "      <th>110200</th>\n",
       "      <td>460 - SPINAL FUSION EXCEPT CERVICAL W/O MCC</td>\n",
       "      <td>450880</td>\n",
       "      <td>BAYLOR SURGICAL HOSPITAL AT FORT WORTH</td>\n",
       "      <td>750 12TH AVENUE</td>\n",
       "      <td>FORT WORTH</td>\n",
       "      <td>TX</td>\n",
       "      <td>76104</td>\n",
       "      <td>TX - Fort Worth</td>\n",
       "      <td>38</td>\n",
       "      <td>124687.42</td>\n",
       "      <td>47531.05</td>\n",
       "      <td>35456.89</td>\n",
       "      <td>12074.16</td>\n",
       "      <td>1806179.90</td>\n",
       "    </tr>\n",
       "    <tr>\n",
       "      <th>113739</th>\n",
       "      <td>470 - MAJOR JOINT REPLACEMENT OR REATTACHMENT ...</td>\n",
       "      <td>450880</td>\n",
       "      <td>BAYLOR SURGICAL HOSPITAL AT FORT WORTH</td>\n",
       "      <td>750 12TH AVENUE</td>\n",
       "      <td>FORT WORTH</td>\n",
       "      <td>TX</td>\n",
       "      <td>76104</td>\n",
       "      <td>TX - Fort Worth</td>\n",
       "      <td>113</td>\n",
       "      <td>39467.76</td>\n",
       "      <td>38686.28</td>\n",
       "      <td>9787.89</td>\n",
       "      <td>28898.39</td>\n",
       "      <td>4371549.64</td>\n",
       "    </tr>\n",
       "    <tr>\n",
       "      <th>114780</th>\n",
       "      <td>473 - CERVICAL SPINAL FUSION W/O CC/MCC</td>\n",
       "      <td>450880</td>\n",
       "      <td>BAYLOR SURGICAL HOSPITAL AT FORT WORTH</td>\n",
       "      <td>750 12TH AVENUE</td>\n",
       "      <td>FORT WORTH</td>\n",
       "      <td>TX</td>\n",
       "      <td>76104</td>\n",
       "      <td>TX - Fort Worth</td>\n",
       "      <td>16</td>\n",
       "      <td>53504.87</td>\n",
       "      <td>14885.31</td>\n",
       "      <td>11297.18</td>\n",
       "      <td>3588.13</td>\n",
       "      <td>238164.96</td>\n",
       "    </tr>\n",
       "  </tbody>\n",
       "</table>\n",
       "</div>"
      ],
      "text/plain": [
       "                                           DRG Definition  Provider Id  \\\n",
       "110200        460 - SPINAL FUSION EXCEPT CERVICAL W/O MCC       450880   \n",
       "113739  470 - MAJOR JOINT REPLACEMENT OR REATTACHMENT ...       450880   \n",
       "114780            473 - CERVICAL SPINAL FUSION W/O CC/MCC       450880   \n",
       "\n",
       "                                 Provider Name Provider Street Address  \\\n",
       "110200  BAYLOR SURGICAL HOSPITAL AT FORT WORTH         750 12TH AVENUE   \n",
       "113739  BAYLOR SURGICAL HOSPITAL AT FORT WORTH         750 12TH AVENUE   \n",
       "114780  BAYLOR SURGICAL HOSPITAL AT FORT WORTH         750 12TH AVENUE   \n",
       "\n",
       "       Provider City Provider State  Provider Zip Code  \\\n",
       "110200    FORT WORTH             TX              76104   \n",
       "113739    FORT WORTH             TX              76104   \n",
       "114780    FORT WORTH             TX              76104   \n",
       "\n",
       "       Hospital Referral Region Description  Total Discharges  \\\n",
       "110200                      TX - Fort Worth                38   \n",
       "113739                      TX - Fort Worth               113   \n",
       "114780                      TX - Fort Worth                16   \n",
       "\n",
       "        Average Covered Charges  Average Total Payments  \\\n",
       "110200                124687.42                47531.05   \n",
       "113739                 39467.76                38686.28   \n",
       "114780                 53504.87                14885.31   \n",
       "\n",
       "        Average Medicare Payments  Average Copay  Totalvalue  \n",
       "110200                   35456.89       12074.16  1806179.90  \n",
       "113739                    9787.89       28898.39  4371549.64  \n",
       "114780                   11297.18        3588.13   238164.96  "
      ]
     },
     "execution_count": 46,
     "metadata": {},
     "output_type": "execute_result"
    }
   ],
   "source": [
    "data[data['Provider Id']==450880]"
   ]
  },
  {
   "cell_type": "code",
   "execution_count": 47,
   "metadata": {},
   "outputs": [
    {
     "name": "stderr",
     "output_type": "stream",
     "text": [
      "/opt/anaconda3/lib/python3.7/site-packages/ipykernel_launcher.py:1: FutureWarning: Passing a negative integer is deprecated in version 1.0 and will not be supported in future version. Instead, use None to not limit the column width.\n",
      "  \"\"\"Entry point for launching an IPython kernel.\n"
     ]
    },
    {
     "data": {
      "text/plain": [
       "40559    207 - RESPIRATORY SYSTEM DIAGNOSIS W VENTILATOR SUPPORT 96+ HOURS\n",
       "Name: DRG Definition, dtype: object"
      ]
     },
     "execution_count": 47,
     "metadata": {},
     "output_type": "execute_result"
    }
   ],
   "source": [
    "pd.set_option('display.max_colwidth', -1)\n",
    "data[data['Provider Id']==490142]['DRG Definition']"
   ]
  },
  {
   "cell_type": "code",
   "execution_count": 48,
   "metadata": {},
   "outputs": [
    {
     "data": {
      "text/plain": [
       "count    15.000000   \n",
       "mean     31475.028000\n",
       "std      3483.645905 \n",
       "min      27364.270000\n",
       "25%      29388.550000\n",
       "50%      30636.200000\n",
       "75%      33026.555000\n",
       "max      41460.770000\n",
       "Name: mean_charges, dtype: float64"
      ]
     },
     "execution_count": 48,
     "metadata": {},
     "output_type": "execute_result"
    }
   ],
   "source": [
    "f71 = data[data['DRG Definition']=='207 - RESPIRATORY SYSTEM DIAGNOSIS W VENTILATOR SUPPORT 96+ HOURS'].copy()\n",
    "f71['mean_charges'] = f71.groupby('Provider Id')['Totalvalue'].sum()/f71.groupby('Provider Id')['Total Discharges'].sum()\n",
    "f71.sort_values(by='mean_charges',ascending=False)\n",
    "f71['mean_charges'].describe()"
   ]
  },
  {
   "cell_type": "markdown",
   "metadata": {},
   "source": [
    "## Insight: UVA Health Sciences Center is significant different than the mean in the same DRG category"
   ]
  },
  {
   "cell_type": "markdown",
   "metadata": {},
   "source": [
    "# Grouby DRG\n",
    "***"
   ]
  },
  {
   "cell_type": "markdown",
   "metadata": {},
   "source": [
    "# F8 pick out the DRG groups that have the highest standard deviation for Average Total Payments, then examine by state"
   ]
  },
  {
   "cell_type": "code",
   "execution_count": 49,
   "metadata": {
    "scrolled": true
   },
   "outputs": [
    {
     "data": {
      "text/plain": [
       "['870 - SEPTICEMIA OR SEVERE SEPSIS W MV 96+ HOURS',\n",
       " '853 - INFECTIOUS & PARASITIC DISEASES W O.R. PROCEDURE W MCC',\n",
       " '207 - RESPIRATORY SYSTEM DIAGNOSIS W VENTILATOR SUPPORT 96+ HOURS']"
      ]
     },
     "execution_count": 49,
     "metadata": {},
     "output_type": "execute_result"
    }
   ],
   "source": [
    "#groupby DRG, slice by Average total payment, sort by std\n",
    "f8 = data.groupby(['DRG Definition'])['Average Total Payments'].describe()\n",
    "f8.sort_values(by='std', ascending = False, inplace = True)\n",
    "f8 = f8[f8['std']>10000]\n",
    "f8.reset_index(inplace=True)\n",
    "l8 =f8['DRG Definition'].tolist()\n",
    "l8"
   ]
  },
  {
   "cell_type": "code",
   "execution_count": 50,
   "metadata": {},
   "outputs": [],
   "source": [
    "#pick out the top three diseases and groupby state\n",
    "f81 = data[data['DRG Definition'].isin(l8)].copy()\n",
    "f81 = f81.groupby(['DRG Definition','Provider State'])['Average Total Payments'].describe()"
   ]
  },
  {
   "cell_type": "code",
   "execution_count": 51,
   "metadata": {
    "scrolled": false
   },
   "outputs": [
    {
     "data": {
      "text/plain": [
       "<matplotlib.axes._subplots.AxesSubplot at 0x7fc903cd8990>"
      ]
     },
     "execution_count": 51,
     "metadata": {},
     "output_type": "execute_result"
    },
    {
     "data": {
      "image/png": "[encoded data removed]",
      "text/plain": [
       "<Figure size 432x288 with 1 Axes>"
      ]
     },
     "metadata": {
      "needs_background": "light"
     },
     "output_type": "display_data"
    }
   ],
   "source": [
    "# 853 in DC has the largest amount of variation, list its own variation\n",
    "f81 = f81.sort_values(by= 'std', ascending = False)\n",
    "sns.boxplot(data=f81,x='std')"
   ]
  },
  {
   "cell_type": "code",
   "execution_count": 52,
   "metadata": {},
   "outputs": [
    {
     "data": {
      "text/plain": [
       "<matplotlib.legend.Legend at 0x7fc903ce7210>"
      ]
     },
     "execution_count": 52,
     "metadata": {},
     "output_type": "execute_result"
    },
    {
     "data": {
      "image/png": "[encoded data removed]",
      "text/plain": [
       "<Figure size 432x288 with 1 Axes>"
      ]
     },
     "metadata": {
      "needs_background": "light"
     },
     "output_type": "display_data"
    }
   ],
   "source": [
    "# In DC, illness 853 has a large variation in Total Payments among different hospitals. \n",
    "f82 = data[(data['Provider State']=='DC')&(data['DRG Definition']=='853 - INFECTIOUS & PARASITIC DISEASES W O.R. PROCEDURE W MCC')]\n",
    "# As shown in the chart, the same service in DC may range around 40,000 to 98,000. \n",
    "# while the more expensive Total Payment may not incur more Average Copay cost.\n",
    "s = sns.scatterplot(x='Average Total Payments' , y='Average Copay' , hue='Provider Name', data=f82)\n",
    "s.legend(loc='center left', bbox_to_anchor=(1., 0.5), ncol=1)"
   ]
  },
  {
   "cell_type": "code",
   "execution_count": 53,
   "metadata": {
    "scrolled": true
   },
   "outputs": [
    {
     "data": {
      "text/html": [
       "<div>\n",
       "<style scoped>\n",
       "    .dataframe tbody tr th:only-of-type {\n",
       "        vertical-align: middle;\n",
       "    }\n",
       "\n",
       "    .dataframe tbody tr th {\n",
       "        vertical-align: top;\n",
       "    }\n",
       "\n",
       "    .dataframe thead th {\n",
       "        text-align: right;\n",
       "    }\n",
       "</style>\n",
       "<table border=\"1\" class=\"dataframe\">\n",
       "  <thead>\n",
       "    <tr style=\"text-align: right;\">\n",
       "      <th></th>\n",
       "      <th>DRG Definition</th>\n",
       "      <th>Provider Id</th>\n",
       "      <th>Provider Name</th>\n",
       "      <th>Provider Street Address</th>\n",
       "      <th>Provider City</th>\n",
       "      <th>Provider State</th>\n",
       "      <th>Provider Zip Code</th>\n",
       "      <th>Hospital Referral Region Description</th>\n",
       "      <th>Total Discharges</th>\n",
       "      <th>Average Covered Charges</th>\n",
       "      <th>Average Total Payments</th>\n",
       "      <th>Average Medicare Payments</th>\n",
       "      <th>Average Copay</th>\n",
       "      <th>Totalvalue</th>\n",
       "    </tr>\n",
       "  </thead>\n",
       "  <tbody>\n",
       "    <tr>\n",
       "      <th>39485</th>\n",
       "      <td>207 - RESPIRATORY SYSTEM DIAGNOSIS W VENTILATOR SUPPORT 96+ HOURS</td>\n",
       "      <td>50002</td>\n",
       "      <td>ST ROSE HOSPITAL</td>\n",
       "      <td>27200 CALAROGA AVE</td>\n",
       "      <td>HAYWARD</td>\n",
       "      <td>CA</td>\n",
       "      <td>94545</td>\n",
       "      <td>CA - Alameda County</td>\n",
       "      <td>13</td>\n",
       "      <td>355395.53</td>\n",
       "      <td>63218.00</td>\n",
       "      <td>61552.84</td>\n",
       "      <td>1665.16</td>\n",
       "      <td>821834.00</td>\n",
       "    </tr>\n",
       "    <tr>\n",
       "      <th>39486</th>\n",
       "      <td>207 - RESPIRATORY SYSTEM DIAGNOSIS W VENTILATOR SUPPORT 96+ HOURS</td>\n",
       "      <td>50006</td>\n",
       "      <td>ST JOSEPH HOSPITAL</td>\n",
       "      <td>2700 DOLBEER ST</td>\n",
       "      <td>EUREKA</td>\n",
       "      <td>CA</td>\n",
       "      <td>95501</td>\n",
       "      <td>CA - Redding</td>\n",
       "      <td>12</td>\n",
       "      <td>223054.33</td>\n",
       "      <td>41826.91</td>\n",
       "      <td>40986.00</td>\n",
       "      <td>840.91</td>\n",
       "      <td>501922.92</td>\n",
       "    </tr>\n",
       "    <tr>\n",
       "      <th>39487</th>\n",
       "      <td>207 - RESPIRATORY SYSTEM DIAGNOSIS W VENTILATOR SUPPORT 96+ HOURS</td>\n",
       "      <td>50017</td>\n",
       "      <td>MERCY GENERAL HOSPITAL</td>\n",
       "      <td>4001 J ST</td>\n",
       "      <td>SACRAMENTO</td>\n",
       "      <td>CA</td>\n",
       "      <td>95819</td>\n",
       "      <td>CA - Sacramento</td>\n",
       "      <td>11</td>\n",
       "      <td>290215.27</td>\n",
       "      <td>53218.45</td>\n",
       "      <td>42362.72</td>\n",
       "      <td>10855.73</td>\n",
       "      <td>585402.95</td>\n",
       "    </tr>\n",
       "    <tr>\n",
       "      <th>39488</th>\n",
       "      <td>207 - RESPIRATORY SYSTEM DIAGNOSIS W VENTILATOR SUPPORT 96+ HOURS</td>\n",
       "      <td>50022</td>\n",
       "      <td>RIVERSIDE COMMUNITY HOSPITAL</td>\n",
       "      <td>4445 MAGNOLIA AVENUE</td>\n",
       "      <td>RIVERSIDE</td>\n",
       "      <td>CA</td>\n",
       "      <td>92501</td>\n",
       "      <td>CA - San Bernardino</td>\n",
       "      <td>27</td>\n",
       "      <td>353588.59</td>\n",
       "      <td>48591.37</td>\n",
       "      <td>48208.33</td>\n",
       "      <td>383.04</td>\n",
       "      <td>1311966.99</td>\n",
       "    </tr>\n",
       "    <tr>\n",
       "      <th>39489</th>\n",
       "      <td>207 - RESPIRATORY SYSTEM DIAGNOSIS W VENTILATOR SUPPORT 96+ HOURS</td>\n",
       "      <td>50025</td>\n",
       "      <td>UNIVERSITY OF CALIFORNIA SAN DIEGO MEDICAL CENTER</td>\n",
       "      <td>200 WEST ARBOR DRIVE</td>\n",
       "      <td>SAN DIEGO</td>\n",
       "      <td>CA</td>\n",
       "      <td>92103</td>\n",
       "      <td>CA - San Diego</td>\n",
       "      <td>19</td>\n",
       "      <td>172207.05</td>\n",
       "      <td>57509.68</td>\n",
       "      <td>56303.42</td>\n",
       "      <td>1206.26</td>\n",
       "      <td>1092683.92</td>\n",
       "    </tr>\n",
       "  </tbody>\n",
       "</table>\n",
       "</div>"
      ],
      "text/plain": [
       "                                                          DRG Definition  \\\n",
       "39485  207 - RESPIRATORY SYSTEM DIAGNOSIS W VENTILATOR SUPPORT 96+ HOURS   \n",
       "39486  207 - RESPIRATORY SYSTEM DIAGNOSIS W VENTILATOR SUPPORT 96+ HOURS   \n",
       "39487  207 - RESPIRATORY SYSTEM DIAGNOSIS W VENTILATOR SUPPORT 96+ HOURS   \n",
       "39488  207 - RESPIRATORY SYSTEM DIAGNOSIS W VENTILATOR SUPPORT 96+ HOURS   \n",
       "39489  207 - RESPIRATORY SYSTEM DIAGNOSIS W VENTILATOR SUPPORT 96+ HOURS   \n",
       "\n",
       "       Provider Id                                      Provider Name  \\\n",
       "39485  50002        ST ROSE HOSPITAL                                    \n",
       "39486  50006        ST JOSEPH HOSPITAL                                  \n",
       "39487  50017        MERCY GENERAL HOSPITAL                              \n",
       "39488  50022        RIVERSIDE COMMUNITY HOSPITAL                        \n",
       "39489  50025        UNIVERSITY OF CALIFORNIA SAN DIEGO MEDICAL CENTER   \n",
       "\n",
       "      Provider Street Address Provider City Provider State  Provider Zip Code  \\\n",
       "39485  27200 CALAROGA AVE      HAYWARD       CA             94545               \n",
       "39486  2700 DOLBEER ST         EUREKA        CA             95501               \n",
       "39487  4001 J ST               SACRAMENTO    CA             95819               \n",
       "39488  4445 MAGNOLIA AVENUE    RIVERSIDE     CA             92501               \n",
       "39489  200 WEST ARBOR DRIVE    SAN DIEGO     CA             92103               \n",
       "\n",
       "      Hospital Referral Region Description  Total Discharges  \\\n",
       "39485  CA - Alameda County                  13                 \n",
       "39486  CA - Redding                         12                 \n",
       "39487  CA - Sacramento                      11                 \n",
       "39488  CA - San Bernardino                  27                 \n",
       "39489  CA - San Diego                       19                 \n",
       "\n",
       "       Average Covered Charges  Average Total Payments  \\\n",
       "39485  355395.53                63218.00                 \n",
       "39486  223054.33                41826.91                 \n",
       "39487  290215.27                53218.45                 \n",
       "39488  353588.59                48591.37                 \n",
       "39489  172207.05                57509.68                 \n",
       "\n",
       "       Average Medicare Payments  Average Copay  Totalvalue  \n",
       "39485  61552.84                   1665.16        821834.00   \n",
       "39486  40986.00                   840.91         501922.92   \n",
       "39487  42362.72                   10855.73       585402.95   \n",
       "39488  48208.33                   383.04         1311966.99  \n",
       "39489  56303.42                   1206.26        1092683.92  "
      ]
     },
     "execution_count": 53,
     "metadata": {},
     "output_type": "execute_result"
    }
   ],
   "source": [
    "f83 = data[(data['Provider State']=='CA')&(data['DRG Definition']=='207 - RESPIRATORY SYSTEM DIAGNOSIS W VENTILATOR SUPPORT 96+ HOURS')]\n",
    "f83.head()"
   ]
  },
  {
   "cell_type": "code",
   "execution_count": 54,
   "metadata": {
    "scrolled": true
   },
   "outputs": [
    {
     "data": {
      "image/png": "[encoded data removed]",
      "text/plain": [
       "<Figure size 432x288 with 1 Axes>"
      ]
     },
     "metadata": {
      "needs_background": "light"
     },
     "output_type": "display_data"
    }
   ],
   "source": [
    "#the outlier problem is greater in Califronia for illness 207. \n",
    "f83 = data[(data['Provider State']=='CA')&(data['DRG Definition']=='207 - RESPIRATORY SYSTEM DIAGNOSIS W VENTILATOR SUPPORT 96+ HOURS')]\n",
    "s = sns.scatterplot(x='Average Total Payments' , y='Average Copay' , data=f83)"
   ]
  },
  {
   "cell_type": "code",
   "execution_count": 55,
   "metadata": {
    "scrolled": true
   },
   "outputs": [
    {
     "data": {
      "text/html": [
       "<div>\n",
       "<style scoped>\n",
       "    .dataframe tbody tr th:only-of-type {\n",
       "        vertical-align: middle;\n",
       "    }\n",
       "\n",
       "    .dataframe tbody tr th {\n",
       "        vertical-align: top;\n",
       "    }\n",
       "\n",
       "    .dataframe thead th {\n",
       "        text-align: right;\n",
       "    }\n",
       "</style>\n",
       "<table border=\"1\" class=\"dataframe\">\n",
       "  <thead>\n",
       "    <tr style=\"text-align: right;\">\n",
       "      <th></th>\n",
       "      <th>DRG Definition</th>\n",
       "      <th>Provider Id</th>\n",
       "      <th>Provider Name</th>\n",
       "      <th>Provider Street Address</th>\n",
       "      <th>Provider City</th>\n",
       "      <th>Provider State</th>\n",
       "      <th>Provider Zip Code</th>\n",
       "      <th>Hospital Referral Region Description</th>\n",
       "      <th>Total Discharges</th>\n",
       "      <th>Average Covered Charges</th>\n",
       "      <th>Average Total Payments</th>\n",
       "      <th>Average Medicare Payments</th>\n",
       "      <th>Average Copay</th>\n",
       "      <th>Totalvalue</th>\n",
       "    </tr>\n",
       "  </thead>\n",
       "  <tbody>\n",
       "    <tr>\n",
       "      <th>39562</th>\n",
       "      <td>207 - RESPIRATORY SYSTEM DIAGNOSIS W VENTILATOR SUPPORT 96+ HOURS</td>\n",
       "      <td>50441</td>\n",
       "      <td>STANFORD HOSPITAL</td>\n",
       "      <td>300 PASTEUR DRIVE</td>\n",
       "      <td>STANFORD</td>\n",
       "      <td>CA</td>\n",
       "      <td>94305</td>\n",
       "      <td>CA - San Mateo County</td>\n",
       "      <td>11</td>\n",
       "      <td>929118.90</td>\n",
       "      <td>156158.18</td>\n",
       "      <td>154620.81</td>\n",
       "      <td>1537.37</td>\n",
       "      <td>1717739.98</td>\n",
       "    </tr>\n",
       "    <tr>\n",
       "      <th>39529</th>\n",
       "      <td>207 - RESPIRATORY SYSTEM DIAGNOSIS W VENTILATOR SUPPORT 96+ HOURS</td>\n",
       "      <td>50195</td>\n",
       "      <td>WASHINGTON HOSPITAL</td>\n",
       "      <td>2000 MOWRY AVE</td>\n",
       "      <td>FREMONT</td>\n",
       "      <td>CA</td>\n",
       "      <td>94538</td>\n",
       "      <td>CA - Alameda County</td>\n",
       "      <td>11</td>\n",
       "      <td>918023.18</td>\n",
       "      <td>119113.00</td>\n",
       "      <td>113462.09</td>\n",
       "      <td>5650.91</td>\n",
       "      <td>1310243.00</td>\n",
       "    </tr>\n",
       "  </tbody>\n",
       "</table>\n",
       "</div>"
      ],
      "text/plain": [
       "                                                          DRG Definition  \\\n",
       "39562  207 - RESPIRATORY SYSTEM DIAGNOSIS W VENTILATOR SUPPORT 96+ HOURS   \n",
       "39529  207 - RESPIRATORY SYSTEM DIAGNOSIS W VENTILATOR SUPPORT 96+ HOURS   \n",
       "\n",
       "       Provider Id        Provider Name Provider Street Address Provider City  \\\n",
       "39562  50441        STANFORD HOSPITAL    300 PASTEUR DRIVE       STANFORD       \n",
       "39529  50195        WASHINGTON HOSPITAL  2000 MOWRY AVE          FREMONT        \n",
       "\n",
       "      Provider State  Provider Zip Code Hospital Referral Region Description  \\\n",
       "39562  CA             94305              CA - San Mateo County                 \n",
       "39529  CA             94538              CA - Alameda County                   \n",
       "\n",
       "       Total Discharges  Average Covered Charges  Average Total Payments  \\\n",
       "39562  11                929118.90                156158.18                \n",
       "39529  11                918023.18                119113.00                \n",
       "\n",
       "       Average Medicare Payments  Average Copay  Totalvalue  \n",
       "39562  154620.81                  1537.37        1717739.98  \n",
       "39529  113462.09                  5650.91        1310243.00  "
      ]
     },
     "execution_count": 55,
     "metadata": {},
     "output_type": "execute_result"
    }
   ],
   "source": [
    "f83.sort_values(by='Average Total Payments', ascending = False)[0:2]"
   ]
  },
  {
   "cell_type": "markdown",
   "metadata": {},
   "source": [
    "## Insight: the above two hospitals in California charge an abnormally expensive amount for 207, and there is very low average copay. They should be monitored. "
   ]
  },
  {
   "cell_type": "markdown",
   "metadata": {},
   "source": [
    "# F9 Examine which State's mean Total Discharges is significantly different from national average."
   ]
  },
  {
   "cell_type": "code",
   "execution_count": 56,
   "metadata": {
    "scrolled": true
   },
   "outputs": [
    {
     "data": {
      "text/html": [
       "<div>\n",
       "<style scoped>\n",
       "    .dataframe tbody tr th:only-of-type {\n",
       "        vertical-align: middle;\n",
       "    }\n",
       "\n",
       "    .dataframe tbody tr th {\n",
       "        vertical-align: top;\n",
       "    }\n",
       "\n",
       "    .dataframe thead th {\n",
       "        text-align: right;\n",
       "    }\n",
       "</style>\n",
       "<table border=\"1\" class=\"dataframe\">\n",
       "  <thead>\n",
       "    <tr style=\"text-align: right;\">\n",
       "      <th></th>\n",
       "      <th>DRG Definition</th>\n",
       "      <th>Provider State</th>\n",
       "      <th>State Average</th>\n",
       "      <th>National Average</th>\n",
       "      <th>std</th>\n",
       "    </tr>\n",
       "  </thead>\n",
       "  <tbody>\n",
       "    <tr>\n",
       "      <th>0</th>\n",
       "      <td>039 - EXTRACRANIAL PROCEDURES W/O CC/MCC</td>\n",
       "      <td>AK</td>\n",
       "      <td>23.000000</td>\n",
       "      <td>31.145505</td>\n",
       "      <td>9.851635</td>\n",
       "    </tr>\n",
       "    <tr>\n",
       "      <th>1</th>\n",
       "      <td>039 - EXTRACRANIAL PROCEDURES W/O CC/MCC</td>\n",
       "      <td>AL</td>\n",
       "      <td>38.217391</td>\n",
       "      <td>31.145505</td>\n",
       "      <td>9.851635</td>\n",
       "    </tr>\n",
       "    <tr>\n",
       "      <th>2</th>\n",
       "      <td>039 - EXTRACRANIAL PROCEDURES W/O CC/MCC</td>\n",
       "      <td>AR</td>\n",
       "      <td>40.750000</td>\n",
       "      <td>31.145505</td>\n",
       "      <td>9.851635</td>\n",
       "    </tr>\n",
       "    <tr>\n",
       "      <th>3</th>\n",
       "      <td>039 - EXTRACRANIAL PROCEDURES W/O CC/MCC</td>\n",
       "      <td>AZ</td>\n",
       "      <td>25.250000</td>\n",
       "      <td>31.145505</td>\n",
       "      <td>9.851635</td>\n",
       "    </tr>\n",
       "    <tr>\n",
       "      <th>4</th>\n",
       "      <td>039 - EXTRACRANIAL PROCEDURES W/O CC/MCC</td>\n",
       "      <td>CA</td>\n",
       "      <td>25.597015</td>\n",
       "      <td>31.145505</td>\n",
       "      <td>9.851635</td>\n",
       "    </tr>\n",
       "  </tbody>\n",
       "</table>\n",
       "</div>"
      ],
      "text/plain": [
       "                             DRG Definition Provider State  State Average  \\\n",
       "0  039 - EXTRACRANIAL PROCEDURES W/O CC/MCC  AK             23.000000       \n",
       "1  039 - EXTRACRANIAL PROCEDURES W/O CC/MCC  AL             38.217391       \n",
       "2  039 - EXTRACRANIAL PROCEDURES W/O CC/MCC  AR             40.750000       \n",
       "3  039 - EXTRACRANIAL PROCEDURES W/O CC/MCC  AZ             25.250000       \n",
       "4  039 - EXTRACRANIAL PROCEDURES W/O CC/MCC  CA             25.597015       \n",
       "\n",
       "   National Average       std  \n",
       "0  31.145505         9.851635  \n",
       "1  31.145505         9.851635  \n",
       "2  31.145505         9.851635  \n",
       "3  31.145505         9.851635  \n",
       "4  31.145505         9.851635  "
      ]
     },
     "execution_count": 56,
     "metadata": {},
     "output_type": "execute_result"
    }
   ],
   "source": [
    "# get mean Discharges by DRG by State\n",
    "# calculate national average and national standard deviation for Discharges by DRG\n",
    "# rename the column\n",
    "f9 = data.groupby(['DRG Definition','Provider State'])['Total Discharges'].mean()\n",
    "f99 = data.groupby(['DRG Definition'])['Total Discharges'].mean()\n",
    "f999 =  pd.merge( f9.reset_index(),f99.reset_index(), on= 'DRG Definition' )\n",
    "f98 = f999.groupby('DRG Definition')['Total Discharges_x'].describe()['std']\n",
    "f999 =  pd.merge( f999,f98.reset_index(), on= 'DRG Definition' )\n",
    "f999.rename(columns = {'Total Discharges_y' : 'National Average','Total Discharges_x':'State Average'}, inplace = True)\n",
    "f999.head()"
   ]
  },
  {
   "cell_type": "code",
   "execution_count": 57,
   "metadata": {
    "scrolled": true
   },
   "outputs": [
    {
     "data": {
      "text/html": [
       "<div>\n",
       "<style scoped>\n",
       "    .dataframe tbody tr th:only-of-type {\n",
       "        vertical-align: middle;\n",
       "    }\n",
       "\n",
       "    .dataframe tbody tr th {\n",
       "        vertical-align: top;\n",
       "    }\n",
       "\n",
       "    .dataframe thead th {\n",
       "        text-align: right;\n",
       "    }\n",
       "</style>\n",
       "<table border=\"1\" class=\"dataframe\">\n",
       "  <thead>\n",
       "    <tr style=\"text-align: right;\">\n",
       "      <th></th>\n",
       "      <th>DRG Definition</th>\n",
       "      <th>Provider State</th>\n",
       "      <th>State Average</th>\n",
       "      <th>National Average</th>\n",
       "      <th>std</th>\n",
       "      <th>Distance</th>\n",
       "    </tr>\n",
       "  </thead>\n",
       "  <tbody>\n",
       "    <tr>\n",
       "      <th>3062</th>\n",
       "      <td>391 - ESOPHAGITIS, GASTROENT &amp; MISC DIGEST DISORDERS W MCC</td>\n",
       "      <td>WY</td>\n",
       "      <td>11.000000</td>\n",
       "      <td>27.405096</td>\n",
       "      <td>5.541926</td>\n",
       "      <td>-2.960180</td>\n",
       "    </tr>\n",
       "    <tr>\n",
       "      <th>364</th>\n",
       "      <td>101 - SEIZURES W/O MCC</td>\n",
       "      <td>HI</td>\n",
       "      <td>12.333333</td>\n",
       "      <td>30.667922</td>\n",
       "      <td>6.472431</td>\n",
       "      <td>-2.832721</td>\n",
       "    </tr>\n",
       "    <tr>\n",
       "      <th>3023</th>\n",
       "      <td>391 - ESOPHAGITIS, GASTROENT &amp; MISC DIGEST DISORDERS W MCC</td>\n",
       "      <td>HI</td>\n",
       "      <td>12.000000</td>\n",
       "      <td>27.405096</td>\n",
       "      <td>5.541926</td>\n",
       "      <td>-2.779737</td>\n",
       "    </tr>\n",
       "    <tr>\n",
       "      <th>2219</th>\n",
       "      <td>305 - HYPERTENSION W/O MCC</td>\n",
       "      <td>ID</td>\n",
       "      <td>11.000000</td>\n",
       "      <td>22.325066</td>\n",
       "      <td>4.238252</td>\n",
       "      <td>-2.672108</td>\n",
       "    </tr>\n",
       "    <tr>\n",
       "      <th>2242</th>\n",
       "      <td>305 - HYPERTENSION W/O MCC</td>\n",
       "      <td>OR</td>\n",
       "      <td>11.000000</td>\n",
       "      <td>22.325066</td>\n",
       "      <td>4.238252</td>\n",
       "      <td>-2.672108</td>\n",
       "    </tr>\n",
       "  </tbody>\n",
       "</table>\n",
       "</div>"
      ],
      "text/plain": [
       "                                                  DRG Definition  \\\n",
       "3062  391 - ESOPHAGITIS, GASTROENT & MISC DIGEST DISORDERS W MCC   \n",
       "364   101 - SEIZURES W/O MCC                                       \n",
       "3023  391 - ESOPHAGITIS, GASTROENT & MISC DIGEST DISORDERS W MCC   \n",
       "2219  305 - HYPERTENSION W/O MCC                                   \n",
       "2242  305 - HYPERTENSION W/O MCC                                   \n",
       "\n",
       "     Provider State  State Average  National Average       std  Distance  \n",
       "3062  WY             11.000000      27.405096         5.541926 -2.960180  \n",
       "364   HI             12.333333      30.667922         6.472431 -2.832721  \n",
       "3023  HI             12.000000      27.405096         5.541926 -2.779737  \n",
       "2219  ID             11.000000      22.325066         4.238252 -2.672108  \n",
       "2242  OR             11.000000      22.325066         4.238252 -2.672108  "
      ]
     },
     "execution_count": 57,
     "metadata": {},
     "output_type": "execute_result"
    }
   ],
   "source": [
    "f999['Distance'] = (f999['State Average']-f999['National Average'])/f999['std']\n",
    "f999.sort_values(by='Distance', ascending= True).head()"
   ]
  },
  {
   "cell_type": "code",
   "execution_count": 58,
   "metadata": {},
   "outputs": [
    {
     "data": {
      "text/plain": [
       "<matplotlib.axes._subplots.AxesSubplot at 0x7fc8e746e150>"
      ]
     },
     "execution_count": 58,
     "metadata": {},
     "output_type": "execute_result"
    },
    {
     "data": {
      "image/png": "[encoded data removed]",
      "text/plain": [
       "<Figure size 432x288 with 1 Axes>"
      ]
     },
     "metadata": {
      "needs_background": "light"
     },
     "output_type": "display_data"
    }
   ],
   "source": [
    "sns.boxplot(x= 'Distance', data = f999)"
   ]
  },
  {
   "cell_type": "code",
   "execution_count": 59,
   "metadata": {
    "scrolled": false
   },
   "outputs": [
    {
     "data": {
      "text/html": [
       "<div>\n",
       "<style scoped>\n",
       "    .dataframe tbody tr th:only-of-type {\n",
       "        vertical-align: middle;\n",
       "    }\n",
       "\n",
       "    .dataframe tbody tr th {\n",
       "        vertical-align: top;\n",
       "    }\n",
       "\n",
       "    .dataframe thead th {\n",
       "        text-align: right;\n",
       "    }\n",
       "</style>\n",
       "<table border=\"1\" class=\"dataframe\">\n",
       "  <thead>\n",
       "    <tr style=\"text-align: right;\">\n",
       "      <th></th>\n",
       "      <th>DRG Definition</th>\n",
       "      <th>Provider State</th>\n",
       "      <th>State Average</th>\n",
       "      <th>National Average</th>\n",
       "      <th>std</th>\n",
       "      <th>Distance</th>\n",
       "    </tr>\n",
       "  </thead>\n",
       "  <tbody>\n",
       "    <tr>\n",
       "      <th>1817</th>\n",
       "      <td>286 - CIRCULATORY DISORDERS EXCEPT AMI, W CARD CATH W MCC</td>\n",
       "      <td>DC</td>\n",
       "      <td>126.000000</td>\n",
       "      <td>23.978022</td>\n",
       "      <td>16.041062</td>\n",
       "      <td>6.360051</td>\n",
       "    </tr>\n",
       "    <tr>\n",
       "      <th>2970</th>\n",
       "      <td>390 - G.I. OBSTRUCTION W/O CC/MCC</td>\n",
       "      <td>DE</td>\n",
       "      <td>57.666667</td>\n",
       "      <td>21.730876</td>\n",
       "      <td>6.122866</td>\n",
       "      <td>5.869113</td>\n",
       "    </tr>\n",
       "    <tr>\n",
       "      <th>814</th>\n",
       "      <td>193 - SIMPLE PNEUMONIA &amp; PLEURISY W MCC</td>\n",
       "      <td>DE</td>\n",
       "      <td>135.600000</td>\n",
       "      <td>49.704466</td>\n",
       "      <td>16.389019</td>\n",
       "      <td>5.241042</td>\n",
       "    </tr>\n",
       "    <tr>\n",
       "      <th>1647</th>\n",
       "      <td>254 - OTHER VASCULAR PROCEDURES W/O CC/MCC</td>\n",
       "      <td>SD</td>\n",
       "      <td>87.666667</td>\n",
       "      <td>28.679348</td>\n",
       "      <td>11.273616</td>\n",
       "      <td>5.232334</td>\n",
       "    </tr>\n",
       "    <tr>\n",
       "      <th>4982</th>\n",
       "      <td>948 - SIGNS &amp; SYMPTOMS W/O MCC</td>\n",
       "      <td>DE</td>\n",
       "      <td>73.500000</td>\n",
       "      <td>28.115449</td>\n",
       "      <td>8.874971</td>\n",
       "      <td>5.113769</td>\n",
       "    </tr>\n",
       "  </tbody>\n",
       "</table>\n",
       "</div>"
      ],
      "text/plain": [
       "                                                 DRG Definition  \\\n",
       "1817  286 - CIRCULATORY DISORDERS EXCEPT AMI, W CARD CATH W MCC   \n",
       "2970  390 - G.I. OBSTRUCTION W/O CC/MCC                           \n",
       "814   193 - SIMPLE PNEUMONIA & PLEURISY W MCC                     \n",
       "1647  254 - OTHER VASCULAR PROCEDURES W/O CC/MCC                  \n",
       "4982  948 - SIGNS & SYMPTOMS W/O MCC                              \n",
       "\n",
       "     Provider State  State Average  National Average        std  Distance  \n",
       "1817  DC             126.000000     23.978022         16.041062  6.360051  \n",
       "2970  DE             57.666667      21.730876         6.122866   5.869113  \n",
       "814   DE             135.600000     49.704466         16.389019  5.241042  \n",
       "1647  SD             87.666667      28.679348         11.273616  5.232334  \n",
       "4982  DE             73.500000      28.115449         8.874971   5.113769  "
      ]
     },
     "execution_count": 59,
     "metadata": {},
     "output_type": "execute_result"
    }
   ],
   "source": [
    "f999[f999['Distance']>5].sort_values(by='Distance', ascending=False).head()"
   ]
  },
  {
   "cell_type": "code",
   "execution_count": 60,
   "metadata": {
    "scrolled": true
   },
   "outputs": [
    {
     "data": {
      "text/html": [
       "<div>\n",
       "<style scoped>\n",
       "    .dataframe tbody tr th:only-of-type {\n",
       "        vertical-align: middle;\n",
       "    }\n",
       "\n",
       "    .dataframe tbody tr th {\n",
       "        vertical-align: top;\n",
       "    }\n",
       "\n",
       "    .dataframe thead th {\n",
       "        text-align: right;\n",
       "    }\n",
       "</style>\n",
       "<table border=\"1\" class=\"dataframe\">\n",
       "  <thead>\n",
       "    <tr style=\"text-align: right;\">\n",
       "      <th></th>\n",
       "      <th>DRG Definition</th>\n",
       "      <th>Provider Id</th>\n",
       "      <th>Provider Name</th>\n",
       "      <th>Provider Street Address</th>\n",
       "      <th>Provider City</th>\n",
       "      <th>Provider State</th>\n",
       "      <th>Provider Zip Code</th>\n",
       "      <th>Hospital Referral Region Description</th>\n",
       "      <th>Total Discharges</th>\n",
       "      <th>Average Covered Charges</th>\n",
       "      <th>Average Total Payments</th>\n",
       "      <th>Average Medicare Payments</th>\n",
       "      <th>Average Copay</th>\n",
       "      <th>Totalvalue</th>\n",
       "    </tr>\n",
       "  </thead>\n",
       "  <tbody>\n",
       "    <tr>\n",
       "      <th>57887</th>\n",
       "      <td>286 - CIRCULATORY DISORDERS EXCEPT AMI, W CARD CATH W MCC</td>\n",
       "      <td>90011</td>\n",
       "      <td>WASHINGTON HOSPITAL CENTER</td>\n",
       "      <td>110 IRVING ST NW</td>\n",
       "      <td>WASHINGTON</td>\n",
       "      <td>DC</td>\n",
       "      <td>20010</td>\n",
       "      <td>DC - Washington</td>\n",
       "      <td>126</td>\n",
       "      <td>59858.69</td>\n",
       "      <td>17268.81</td>\n",
       "      <td>15939.25</td>\n",
       "      <td>1329.56</td>\n",
       "      <td>2175870.06</td>\n",
       "    </tr>\n",
       "  </tbody>\n",
       "</table>\n",
       "</div>"
      ],
      "text/plain": [
       "                                                  DRG Definition  Provider Id  \\\n",
       "57887  286 - CIRCULATORY DISORDERS EXCEPT AMI, W CARD CATH W MCC  90011         \n",
       "\n",
       "                    Provider Name Provider Street Address Provider City  \\\n",
       "57887  WASHINGTON HOSPITAL CENTER  110 IRVING ST NW        WASHINGTON     \n",
       "\n",
       "      Provider State  Provider Zip Code Hospital Referral Region Description  \\\n",
       "57887  DC             20010              DC - Washington                       \n",
       "\n",
       "       Total Discharges  Average Covered Charges  Average Total Payments  \\\n",
       "57887  126               59858.69                 17268.81                 \n",
       "\n",
       "       Average Medicare Payments  Average Copay  Totalvalue  \n",
       "57887  15939.25                   1329.56        2175870.06  "
      ]
     },
     "execution_count": 60,
     "metadata": {},
     "output_type": "execute_result"
    }
   ],
   "source": [
    "data[(data['DRG Definition']=='286 - CIRCULATORY DISORDERS EXCEPT AMI, W CARD CATH W MCC')&(data['Provider State']=='DC')]"
   ]
  },
  {
   "cell_type": "code",
   "execution_count": 61,
   "metadata": {},
   "outputs": [
    {
     "data": {
      "text/html": [
       "<div>\n",
       "<style scoped>\n",
       "    .dataframe tbody tr th:only-of-type {\n",
       "        vertical-align: middle;\n",
       "    }\n",
       "\n",
       "    .dataframe tbody tr th {\n",
       "        vertical-align: top;\n",
       "    }\n",
       "\n",
       "    .dataframe thead th {\n",
       "        text-align: right;\n",
       "    }\n",
       "</style>\n",
       "<table border=\"1\" class=\"dataframe\">\n",
       "  <thead>\n",
       "    <tr style=\"text-align: right;\">\n",
       "      <th></th>\n",
       "      <th>DRG Definition</th>\n",
       "      <th>Provider Id</th>\n",
       "      <th>Provider Name</th>\n",
       "      <th>Provider Street Address</th>\n",
       "      <th>Provider City</th>\n",
       "      <th>Provider State</th>\n",
       "      <th>Provider Zip Code</th>\n",
       "      <th>Hospital Referral Region Description</th>\n",
       "      <th>Total Discharges</th>\n",
       "      <th>Average Covered Charges</th>\n",
       "      <th>Average Total Payments</th>\n",
       "      <th>Average Medicare Payments</th>\n",
       "      <th>Average Copay</th>\n",
       "      <th>Totalvalue</th>\n",
       "    </tr>\n",
       "  </thead>\n",
       "  <tbody>\n",
       "    <tr>\n",
       "      <th>29429</th>\n",
       "      <td>193 - SIMPLE PNEUMONIA &amp; PLEURISY W MCC</td>\n",
       "      <td>80001</td>\n",
       "      <td>CHRISTIANA CARE HEALTH SERVICES, INC.</td>\n",
       "      <td>4755 OGLETOWN-STANTON ROAD</td>\n",
       "      <td>NEWARK</td>\n",
       "      <td>DE</td>\n",
       "      <td>19718</td>\n",
       "      <td>DE - Wilmington</td>\n",
       "      <td>234</td>\n",
       "      <td>25067.79</td>\n",
       "      <td>11403.29</td>\n",
       "      <td>10007.81</td>\n",
       "      <td>1395.48</td>\n",
       "      <td>2668369.86</td>\n",
       "    </tr>\n",
       "    <tr>\n",
       "      <th>29430</th>\n",
       "      <td>193 - SIMPLE PNEUMONIA &amp; PLEURISY W MCC</td>\n",
       "      <td>80003</td>\n",
       "      <td>ST FRANCIS HOSPITAL</td>\n",
       "      <td>7TH AND CLAYTON STS</td>\n",
       "      <td>WILMINGTON</td>\n",
       "      <td>DE</td>\n",
       "      <td>19805</td>\n",
       "      <td>DE - Wilmington</td>\n",
       "      <td>29</td>\n",
       "      <td>24074.13</td>\n",
       "      <td>10244.93</td>\n",
       "      <td>9311.41</td>\n",
       "      <td>933.52</td>\n",
       "      <td>297102.97</td>\n",
       "    </tr>\n",
       "    <tr>\n",
       "      <th>29431</th>\n",
       "      <td>193 - SIMPLE PNEUMONIA &amp; PLEURISY W MCC</td>\n",
       "      <td>80004</td>\n",
       "      <td>BAYHEALTH - KENT GENERAL HOSPITAL</td>\n",
       "      <td>640 S STATE STREET</td>\n",
       "      <td>DOVER</td>\n",
       "      <td>DE</td>\n",
       "      <td>19901</td>\n",
       "      <td>DE - Wilmington</td>\n",
       "      <td>250</td>\n",
       "      <td>25076.32</td>\n",
       "      <td>9880.93</td>\n",
       "      <td>8585.10</td>\n",
       "      <td>1295.83</td>\n",
       "      <td>2470232.50</td>\n",
       "    </tr>\n",
       "    <tr>\n",
       "      <th>29432</th>\n",
       "      <td>193 - SIMPLE PNEUMONIA &amp; PLEURISY W MCC</td>\n",
       "      <td>80006</td>\n",
       "      <td>NANTICOKE MEMORIAL HOSPITAL</td>\n",
       "      <td>801 MIDDLEFORD RD</td>\n",
       "      <td>SEAFORD</td>\n",
       "      <td>DE</td>\n",
       "      <td>19973</td>\n",
       "      <td>MD - Salisbury</td>\n",
       "      <td>46</td>\n",
       "      <td>18153.65</td>\n",
       "      <td>11392.93</td>\n",
       "      <td>10341.34</td>\n",
       "      <td>1051.59</td>\n",
       "      <td>524074.78</td>\n",
       "    </tr>\n",
       "    <tr>\n",
       "      <th>29433</th>\n",
       "      <td>193 - SIMPLE PNEUMONIA &amp; PLEURISY W MCC</td>\n",
       "      <td>80007</td>\n",
       "      <td>BEEBE MEDICAL CENTER</td>\n",
       "      <td>424 SAVANNAH RD</td>\n",
       "      <td>LEWES</td>\n",
       "      <td>DE</td>\n",
       "      <td>19958</td>\n",
       "      <td>MD - Salisbury</td>\n",
       "      <td>119</td>\n",
       "      <td>27795.93</td>\n",
       "      <td>9058.10</td>\n",
       "      <td>8076.16</td>\n",
       "      <td>981.94</td>\n",
       "      <td>1077913.90</td>\n",
       "    </tr>\n",
       "  </tbody>\n",
       "</table>\n",
       "</div>"
      ],
      "text/plain": [
       "                                DRG Definition  Provider Id  \\\n",
       "29429  193 - SIMPLE PNEUMONIA & PLEURISY W MCC  80001         \n",
       "29430  193 - SIMPLE PNEUMONIA & PLEURISY W MCC  80003         \n",
       "29431  193 - SIMPLE PNEUMONIA & PLEURISY W MCC  80004         \n",
       "29432  193 - SIMPLE PNEUMONIA & PLEURISY W MCC  80006         \n",
       "29433  193 - SIMPLE PNEUMONIA & PLEURISY W MCC  80007         \n",
       "\n",
       "                               Provider Name     Provider Street Address  \\\n",
       "29429  CHRISTIANA CARE HEALTH SERVICES, INC.  4755 OGLETOWN-STANTON ROAD   \n",
       "29430  ST FRANCIS HOSPITAL                    7TH AND CLAYTON STS          \n",
       "29431  BAYHEALTH - KENT GENERAL HOSPITAL      640 S STATE STREET           \n",
       "29432  NANTICOKE MEMORIAL HOSPITAL            801 MIDDLEFORD RD            \n",
       "29433  BEEBE MEDICAL CENTER                   424 SAVANNAH RD              \n",
       "\n",
       "      Provider City Provider State  Provider Zip Code  \\\n",
       "29429  NEWARK        DE             19718               \n",
       "29430  WILMINGTON    DE             19805               \n",
       "29431  DOVER         DE             19901               \n",
       "29432  SEAFORD       DE             19973               \n",
       "29433  LEWES         DE             19958               \n",
       "\n",
       "      Hospital Referral Region Description  Total Discharges  \\\n",
       "29429  DE - Wilmington                      234                \n",
       "29430  DE - Wilmington                      29                 \n",
       "29431  DE - Wilmington                      250                \n",
       "29432  MD - Salisbury                       46                 \n",
       "29433  MD - Salisbury                       119                \n",
       "\n",
       "       Average Covered Charges  Average Total Payments  \\\n",
       "29429  25067.79                 11403.29                 \n",
       "29430  24074.13                 10244.93                 \n",
       "29431  25076.32                 9880.93                  \n",
       "29432  18153.65                 11392.93                 \n",
       "29433  27795.93                 9058.10                  \n",
       "\n",
       "       Average Medicare Payments  Average Copay  Totalvalue  \n",
       "29429  10007.81                   1395.48        2668369.86  \n",
       "29430  9311.41                    933.52         297102.97   \n",
       "29431  8585.10                    1295.83        2470232.50  \n",
       "29432  10341.34                   1051.59        524074.78   \n",
       "29433  8076.16                    981.94         1077913.90  "
      ]
     },
     "execution_count": 61,
     "metadata": {},
     "output_type": "execute_result"
    }
   ],
   "source": [
    "data[(data['DRG Definition']=='193 - SIMPLE PNEUMONIA & PLEURISY W MCC')&(data['Provider State']=='DE')]"
   ]
  },
  {
   "cell_type": "markdown",
   "metadata": {},
   "source": [
    "## Insight: The reason for DC to have above average Total Discharge is becase there is only one hospital that treats this disease in the entire DC area. However, the average hospitals in the country only operates 24 cases. It means that DC has a shortage of medical expertise in this area. Deleware seems to have a concentrated medical discharges for DRG 390,193,948. The average Total Discharges for all hospitals in Deleware for those DRG are significantly above national Total Discharge Averages"
   ]
  },
  {
   "cell_type": "markdown",
   "metadata": {},
   "source": [
    "# F10 Most frequent illness and the average cost of this illness"
   ]
  },
  {
   "cell_type": "code",
   "execution_count": 62,
   "metadata": {
    "scrolled": true
   },
   "outputs": [
    {
     "data": {
      "text/html": [
       "<div>\n",
       "<style scoped>\n",
       "    .dataframe tbody tr th:only-of-type {\n",
       "        vertical-align: middle;\n",
       "    }\n",
       "\n",
       "    .dataframe tbody tr th {\n",
       "        vertical-align: top;\n",
       "    }\n",
       "\n",
       "    .dataframe thead th {\n",
       "        text-align: right;\n",
       "    }\n",
       "</style>\n",
       "<table border=\"1\" class=\"dataframe\">\n",
       "  <thead>\n",
       "    <tr style=\"text-align: right;\">\n",
       "      <th></th>\n",
       "      <th>Count</th>\n",
       "      <th>Average Total Payments</th>\n",
       "    </tr>\n",
       "    <tr>\n",
       "      <th>DRG Definition</th>\n",
       "      <th></th>\n",
       "      <th></th>\n",
       "    </tr>\n",
       "  </thead>\n",
       "  <tbody>\n",
       "    <tr>\n",
       "      <th>419 - LAPAROSCOPIC CHOLECYSTECTOMY W/O C.D.E. W/O CC/MCC</th>\n",
       "      <td>16157</td>\n",
       "      <td>8068.090218</td>\n",
       "    </tr>\n",
       "    <tr>\n",
       "      <th>203 - BRONCHITIS &amp; ASTHMA W/O CC/MCC</th>\n",
       "      <td>16577</td>\n",
       "      <td>4389.910134</td>\n",
       "    </tr>\n",
       "    <tr>\n",
       "      <th>301 - PERIPHERAL VASCULAR DISORDERS W/O CC/MCC</th>\n",
       "      <td>16744</td>\n",
       "      <td>4599.646499</td>\n",
       "    </tr>\n",
       "    <tr>\n",
       "      <th>917 - POISONING &amp; TOXIC EFFECTS OF DRUGS W MCC</th>\n",
       "      <td>16952</td>\n",
       "      <td>10763.814413</td>\n",
       "    </tr>\n",
       "    <tr>\n",
       "      <th>315 - OTHER CIRCULATORY SYSTEM DIAGNOSES W CC</th>\n",
       "      <td>17478</td>\n",
       "      <td>7020.108370</td>\n",
       "    </tr>\n",
       "  </tbody>\n",
       "</table>\n",
       "</div>"
      ],
      "text/plain": [
       "                                                          Count  \\\n",
       "DRG Definition                                                    \n",
       "419 - LAPAROSCOPIC CHOLECYSTECTOMY W/O C.D.E. W/O CC/MCC  16157   \n",
       "203 - BRONCHITIS & ASTHMA W/O CC/MCC                      16577   \n",
       "301 - PERIPHERAL VASCULAR DISORDERS W/O CC/MCC            16744   \n",
       "917 - POISONING & TOXIC EFFECTS OF DRUGS W MCC            16952   \n",
       "315 - OTHER CIRCULATORY SYSTEM DIAGNOSES W CC             17478   \n",
       "\n",
       "                                                          Average Total Payments  \n",
       "DRG Definition                                                                    \n",
       "419 - LAPAROSCOPIC CHOLECYSTECTOMY W/O C.D.E. W/O CC/MCC  8068.090218             \n",
       "203 - BRONCHITIS & ASTHMA W/O CC/MCC                      4389.910134             \n",
       "301 - PERIPHERAL VASCULAR DISORDERS W/O CC/MCC            4599.646499             \n",
       "917 - POISONING & TOXIC EFFECTS OF DRUGS W MCC            10763.814413            \n",
       "315 - OTHER CIRCULATORY SYSTEM DIAGNOSES W CC             7020.108370             "
      ]
     },
     "execution_count": 62,
     "metadata": {},
     "output_type": "execute_result"
    }
   ],
   "source": [
    "f10 = data.groupby('DRG Definition')['Total Discharges'].sum()\n",
    "f10 = f10.sort_values()\n",
    "f101 = data.groupby('DRG Definition')['Average Total Payments'].mean()\n",
    "f101.sort_values()\n",
    "f10 = pd.merge(f10 , f101, on='DRG Definition')\n",
    "f10.rename(columns = {'Total Discharges':'Count'}, inplace = True)\n",
    "f10.head()"
   ]
  },
  {
   "cell_type": "code",
   "execution_count": 63,
   "metadata": {},
   "outputs": [
    {
     "data": {
      "text/plain": [
       "<matplotlib.axes._subplots.AxesSubplot at 0x7fc903b85890>"
      ]
     },
     "execution_count": 63,
     "metadata": {},
     "output_type": "execute_result"
    },
    {
     "data": {
      "image/png": "[encoded data removed]",
      "text/plain": [
       "<Figure size 432x288 with 1 Axes>"
      ]
     },
     "metadata": {
      "needs_background": "light"
     },
     "output_type": "display_data"
    }
   ],
   "source": [
    "# no correlation\n",
    "# There is a group of diseases that are not very frequent, but very expensive to treat. They are on the upper-left corner.\n",
    "sns.scatterplot(x='Count', y='Average Total Payments' ,data=f10)"
   ]
  },
  {
   "cell_type": "code",
   "execution_count": 64,
   "metadata": {},
   "outputs": [
    {
     "data": {
      "text/html": [
       "<div>\n",
       "<style scoped>\n",
       "    .dataframe tbody tr th:only-of-type {\n",
       "        vertical-align: middle;\n",
       "    }\n",
       "\n",
       "    .dataframe tbody tr th {\n",
       "        vertical-align: top;\n",
       "    }\n",
       "\n",
       "    .dataframe thead th {\n",
       "        text-align: right;\n",
       "    }\n",
       "</style>\n",
       "<table border=\"1\" class=\"dataframe\">\n",
       "  <thead>\n",
       "    <tr style=\"text-align: right;\">\n",
       "      <th></th>\n",
       "      <th>Count</th>\n",
       "      <th>Average Total Payments</th>\n",
       "    </tr>\n",
       "    <tr>\n",
       "      <th>DRG Definition</th>\n",
       "      <th></th>\n",
       "      <th></th>\n",
       "    </tr>\n",
       "  </thead>\n",
       "  <tbody>\n",
       "    <tr>\n",
       "      <th>870 - SEPTICEMIA OR SEVERE SEPSIS W MV 96+ HOURS</th>\n",
       "      <td>22624</td>\n",
       "      <td>44259.485463</td>\n",
       "    </tr>\n",
       "    <tr>\n",
       "      <th>207 - RESPIRATORY SYSTEM DIAGNOSIS W VENTILATOR SUPPORT 96+ HOURS</th>\n",
       "      <td>26412</td>\n",
       "      <td>38588.920997</td>\n",
       "    </tr>\n",
       "    <tr>\n",
       "      <th>329 - MAJOR SMALL &amp; LARGE BOWEL PROCEDURES W MCC</th>\n",
       "      <td>37250</td>\n",
       "      <td>37765.594295</td>\n",
       "    </tr>\n",
       "    <tr>\n",
       "      <th>853 - INFECTIOUS &amp; PARASITIC DISEASES W O.R. PROCEDURE W MCC</th>\n",
       "      <td>39482</td>\n",
       "      <td>40315.961432</td>\n",
       "    </tr>\n",
       "  </tbody>\n",
       "</table>\n",
       "</div>"
      ],
      "text/plain": [
       "                                                                   Count  \\\n",
       "DRG Definition                                                             \n",
       "870 - SEPTICEMIA OR SEVERE SEPSIS W MV 96+ HOURS                   22624   \n",
       "207 - RESPIRATORY SYSTEM DIAGNOSIS W VENTILATOR SUPPORT 96+ HOURS  26412   \n",
       "329 - MAJOR SMALL & LARGE BOWEL PROCEDURES W MCC                   37250   \n",
       "853 - INFECTIOUS & PARASITIC DISEASES W O.R. PROCEDURE W MCC       39482   \n",
       "\n",
       "                                                                   Average Total Payments  \n",
       "DRG Definition                                                                             \n",
       "870 - SEPTICEMIA OR SEVERE SEPSIS W MV 96+ HOURS                   44259.485463            \n",
       "207 - RESPIRATORY SYSTEM DIAGNOSIS W VENTILATOR SUPPORT 96+ HOURS  38588.920997            \n",
       "329 - MAJOR SMALL & LARGE BOWEL PROCEDURES W MCC                   37765.594295            \n",
       "853 - INFECTIOUS & PARASITIC DISEASES W O.R. PROCEDURE W MCC       40315.961432            "
      ]
     },
     "execution_count": 64,
     "metadata": {},
     "output_type": "execute_result"
    }
   ],
   "source": [
    "# These are the rare diseases that are very costly but rare\n",
    "f10[f10['Average Total Payments']>35000]"
   ]
  },
  {
   "cell_type": "code",
   "execution_count": 65,
   "metadata": {
    "scrolled": true
   },
   "outputs": [
    {
     "data": {
      "text/html": [
       "<div>\n",
       "<style scoped>\n",
       "    .dataframe tbody tr th:only-of-type {\n",
       "        vertical-align: middle;\n",
       "    }\n",
       "\n",
       "    .dataframe tbody tr th {\n",
       "        vertical-align: top;\n",
       "    }\n",
       "\n",
       "    .dataframe thead th {\n",
       "        text-align: right;\n",
       "    }\n",
       "</style>\n",
       "<table border=\"1\" class=\"dataframe\">\n",
       "  <thead>\n",
       "    <tr style=\"text-align: right;\">\n",
       "      <th></th>\n",
       "      <th>Count</th>\n",
       "      <th>Average Total Payments</th>\n",
       "    </tr>\n",
       "    <tr>\n",
       "      <th>DRG Definition</th>\n",
       "      <th></th>\n",
       "      <th></th>\n",
       "    </tr>\n",
       "  </thead>\n",
       "  <tbody>\n",
       "    <tr>\n",
       "      <th>871 - SEPTICEMIA OR SEVERE SEPSIS W/O MV 96+ HOURS W MCC</th>\n",
       "      <td>319072</td>\n",
       "      <td>13238.823385</td>\n",
       "    </tr>\n",
       "    <tr>\n",
       "      <th>470 - MAJOR JOINT REPLACEMENT OR REATTACHMENT OF LOWER EXTREMITY W/O MCC</th>\n",
       "      <td>427207</td>\n",
       "      <td>14566.929215</td>\n",
       "    </tr>\n",
       "  </tbody>\n",
       "</table>\n",
       "</div>"
      ],
      "text/plain": [
       "                                                                           Count  \\\n",
       "DRG Definition                                                                     \n",
       "871 - SEPTICEMIA OR SEVERE SEPSIS W/O MV 96+ HOURS W MCC                  319072   \n",
       "470 - MAJOR JOINT REPLACEMENT OR REATTACHMENT OF LOWER EXTREMITY W/O MCC  427207   \n",
       "\n",
       "                                                                          Average Total Payments  \n",
       "DRG Definition                                                                                    \n",
       "871 - SEPTICEMIA OR SEVERE SEPSIS W/O MV 96+ HOURS W MCC                  13238.823385            \n",
       "470 - MAJOR JOINT REPLACEMENT OR REATTACHMENT OF LOWER EXTREMITY W/O MCC  14566.929215            "
      ]
     },
     "execution_count": 65,
     "metadata": {},
     "output_type": "execute_result"
    }
   ],
   "source": [
    "# Examine the common illness\n",
    "f10[f10['Count']>300000]"
   ]
  },
  {
   "cell_type": "markdown",
   "metadata": {},
   "source": [
    "## Insight: there is no obvious correlation between the frequency of the disease and the cost of the disease. However, there is a group of rare disease that is very costly, and there is a group of disease that is very common. Although some illnesses are very similar to one another, the cost of these illness may vary greatly, which may be susceptible to wrong billing (870 & 871)."
   ]
  },
  {
   "cell_type": "markdown",
   "metadata": {},
   "source": [
    "# Groupby State\n",
    "***"
   ]
  },
  {
   "cell_type": "markdown",
   "metadata": {},
   "source": [
    "## F11: it prompts me to see why is there a huge difference between 870 and 871"
   ]
  },
  {
   "cell_type": "code",
   "execution_count": 66,
   "metadata": {},
   "outputs": [],
   "source": [
    "f11a = data.groupby(['Provider State','DRG Definition'])['Total Discharges'].mean().copy()\n",
    "f11a = f11a.reset_index()"
   ]
  },
  {
   "cell_type": "code",
   "execution_count": 67,
   "metadata": {},
   "outputs": [],
   "source": [
    "# calculate national mean average for the number of Total Discharges for each disease\n",
    "f11b = data.groupby('DRG Definition')['Total Discharges'].mean().copy()\n",
    "f11b = f11b.reset_index()"
   ]
  },
  {
   "cell_type": "code",
   "execution_count": 68,
   "metadata": {
    "scrolled": true
   },
   "outputs": [
    {
     "data": {
      "text/html": [
       "<div>\n",
       "<style scoped>\n",
       "    .dataframe tbody tr th:only-of-type {\n",
       "        vertical-align: middle;\n",
       "    }\n",
       "\n",
       "    .dataframe tbody tr th {\n",
       "        vertical-align: top;\n",
       "    }\n",
       "\n",
       "    .dataframe thead th {\n",
       "        text-align: right;\n",
       "    }\n",
       "</style>\n",
       "<table border=\"1\" class=\"dataframe\">\n",
       "  <thead>\n",
       "    <tr style=\"text-align: right;\">\n",
       "      <th></th>\n",
       "      <th>Provider State</th>\n",
       "      <th>DRG Definition</th>\n",
       "      <th>State Average</th>\n",
       "      <th>National Average</th>\n",
       "    </tr>\n",
       "  </thead>\n",
       "  <tbody>\n",
       "    <tr>\n",
       "      <th>0</th>\n",
       "      <td>AK</td>\n",
       "      <td>039 - EXTRACRANIAL PROCEDURES W/O CC/MCC</td>\n",
       "      <td>23.000000</td>\n",
       "      <td>31.145505</td>\n",
       "    </tr>\n",
       "    <tr>\n",
       "      <th>1</th>\n",
       "      <td>AK</td>\n",
       "      <td>057 - DEGENERATIVE NERVOUS SYSTEM DISORDERS W/O MCC</td>\n",
       "      <td>11.000000</td>\n",
       "      <td>25.155704</td>\n",
       "    </tr>\n",
       "    <tr>\n",
       "      <th>2</th>\n",
       "      <td>AK</td>\n",
       "      <td>064 - INTRACRANIAL HEMORRHAGE OR CEREBRAL INFARCTION W MCC</td>\n",
       "      <td>22.500000</td>\n",
       "      <td>37.427969</td>\n",
       "    </tr>\n",
       "    <tr>\n",
       "      <th>3</th>\n",
       "      <td>AK</td>\n",
       "      <td>065 - INTRACRANIAL HEMORRHAGE OR CEREBRAL INFARCTION W CC</td>\n",
       "      <td>25.333333</td>\n",
       "      <td>46.899074</td>\n",
       "    </tr>\n",
       "    <tr>\n",
       "      <th>4</th>\n",
       "      <td>AK</td>\n",
       "      <td>066 - INTRACRANIAL HEMORRHAGE OR CEREBRAL INFARCTION W/O CC/MCC</td>\n",
       "      <td>21.000000</td>\n",
       "      <td>30.924142</td>\n",
       "    </tr>\n",
       "  </tbody>\n",
       "</table>\n",
       "</div>"
      ],
      "text/plain": [
       "  Provider State  \\\n",
       "0  AK              \n",
       "1  AK              \n",
       "2  AK              \n",
       "3  AK              \n",
       "4  AK              \n",
       "\n",
       "                                                    DRG Definition  \\\n",
       "0  039 - EXTRACRANIAL PROCEDURES W/O CC/MCC                          \n",
       "1  057 - DEGENERATIVE NERVOUS SYSTEM DISORDERS W/O MCC               \n",
       "2  064 - INTRACRANIAL HEMORRHAGE OR CEREBRAL INFARCTION W MCC        \n",
       "3  065 - INTRACRANIAL HEMORRHAGE OR CEREBRAL INFARCTION W CC         \n",
       "4  066 - INTRACRANIAL HEMORRHAGE OR CEREBRAL INFARCTION W/O CC/MCC   \n",
       "\n",
       "   State Average  National Average  \n",
       "0  23.000000      31.145505         \n",
       "1  11.000000      25.155704         \n",
       "2  22.500000      37.427969         \n",
       "3  25.333333      46.899074         \n",
       "4  21.000000      30.924142         "
      ]
     },
     "execution_count": 68,
     "metadata": {},
     "output_type": "execute_result"
    }
   ],
   "source": [
    "# combine the two charts\n",
    "f11 = pd.merge(f11a, f11b, on='DRG Definition', how='left')\n",
    "f11.rename(columns={'Total Discharges_x':'State Average','Total Discharges_y':'National Average'},inplace = True)\n",
    "f11.head()"
   ]
  },
  {
   "cell_type": "code",
   "execution_count": 69,
   "metadata": {},
   "outputs": [
    {
     "data": {
      "text/html": [
       "<div>\n",
       "<style scoped>\n",
       "    .dataframe tbody tr th:only-of-type {\n",
       "        vertical-align: middle;\n",
       "    }\n",
       "\n",
       "    .dataframe tbody tr th {\n",
       "        vertical-align: top;\n",
       "    }\n",
       "\n",
       "    .dataframe thead th {\n",
       "        text-align: right;\n",
       "    }\n",
       "</style>\n",
       "<table border=\"1\" class=\"dataframe\">\n",
       "  <thead>\n",
       "    <tr style=\"text-align: right;\">\n",
       "      <th></th>\n",
       "      <th>Provider State</th>\n",
       "      <th>DRG Definition</th>\n",
       "      <th>State Average</th>\n",
       "      <th>National Average</th>\n",
       "      <th>State/National</th>\n",
       "    </tr>\n",
       "  </thead>\n",
       "  <tbody>\n",
       "    <tr>\n",
       "      <th>714</th>\n",
       "      <td>DC</td>\n",
       "      <td>286 - CIRCULATORY DISORDERS EXCEPT AMI, W CARD CATH W MCC</td>\n",
       "      <td>126.000000</td>\n",
       "      <td>23.978022</td>\n",
       "      <td>5.254812</td>\n",
       "    </tr>\n",
       "    <tr>\n",
       "      <th>707</th>\n",
       "      <td>DC</td>\n",
       "      <td>251 - PERC CARDIOVASC PROC W/O CORONARY ARTERY STENT W/O MCC</td>\n",
       "      <td>133.500000</td>\n",
       "      <td>39.316369</td>\n",
       "      <td>3.395532</td>\n",
       "    </tr>\n",
       "    <tr>\n",
       "      <th>4141</th>\n",
       "      <td>SD</td>\n",
       "      <td>885 - PSYCHOSES</td>\n",
       "      <td>497.000000</td>\n",
       "      <td>146.383361</td>\n",
       "      <td>3.395195</td>\n",
       "    </tr>\n",
       "    <tr>\n",
       "      <th>4078</th>\n",
       "      <td>SD</td>\n",
       "      <td>254 - OTHER VASCULAR PROCEDURES W/O CC/MCC</td>\n",
       "      <td>87.666667</td>\n",
       "      <td>28.679348</td>\n",
       "      <td>3.056787</td>\n",
       "    </tr>\n",
       "    <tr>\n",
       "      <th>1656</th>\n",
       "      <td>KS</td>\n",
       "      <td>885 - PSYCHOSES</td>\n",
       "      <td>415.666667</td>\n",
       "      <td>146.383361</td>\n",
       "      <td>2.839576</td>\n",
       "    </tr>\n",
       "  </tbody>\n",
       "</table>\n",
       "</div>"
      ],
      "text/plain": [
       "     Provider State  \\\n",
       "714   DC              \n",
       "707   DC              \n",
       "4141  SD              \n",
       "4078  SD              \n",
       "1656  KS              \n",
       "\n",
       "                                                    DRG Definition  \\\n",
       "714   286 - CIRCULATORY DISORDERS EXCEPT AMI, W CARD CATH W MCC      \n",
       "707   251 - PERC CARDIOVASC PROC W/O CORONARY ARTERY STENT W/O MCC   \n",
       "4141  885 - PSYCHOSES                                                \n",
       "4078  254 - OTHER VASCULAR PROCEDURES W/O CC/MCC                     \n",
       "1656  885 - PSYCHOSES                                                \n",
       "\n",
       "      State Average  National Average  State/National  \n",
       "714   126.000000     23.978022         5.254812        \n",
       "707   133.500000     39.316369         3.395532        \n",
       "4141  497.000000     146.383361        3.395195        \n",
       "4078  87.666667      28.679348         3.056787        \n",
       "1656  415.666667     146.383361        2.839576        "
      ]
     },
     "execution_count": 69,
     "metadata": {},
     "output_type": "execute_result"
    }
   ],
   "source": [
    "f11['State/National'] = (f11['State Average']/f11['National Average'])\n",
    "f11.sort_values(by='State/National',ascending=False).head()"
   ]
  },
  {
   "cell_type": "code",
   "execution_count": 70,
   "metadata": {},
   "outputs": [
    {
     "data": {
      "text/plain": [
       "0.9444752408233614"
      ]
     },
     "execution_count": 70,
     "metadata": {},
     "output_type": "execute_result"
    }
   ],
   "source": [
    "f11['State/National'].mean()"
   ]
  },
  {
   "cell_type": "code",
   "execution_count": 71,
   "metadata": {},
   "outputs": [
    {
     "data": {
      "text/plain": [
       "<matplotlib.axes._subplots.AxesSubplot at 0x7fc903555a90>"
      ]
     },
     "execution_count": 71,
     "metadata": {},
     "output_type": "execute_result"
    },
    {
     "data": {
      "image/png": "[encoded data removed]",
      "text/plain": [
       "<Figure size 432x288 with 1 Axes>"
      ]
     },
     "metadata": {
      "needs_background": "light"
     },
     "output_type": "display_data"
    }
   ],
   "source": [
    "sns.boxplot(x='State/National', data=f11)"
   ]
  },
  {
   "cell_type": "code",
   "execution_count": 72,
   "metadata": {},
   "outputs": [
    {
     "data": {
      "text/html": [
       "<div>\n",
       "<style scoped>\n",
       "    .dataframe tbody tr th:only-of-type {\n",
       "        vertical-align: middle;\n",
       "    }\n",
       "\n",
       "    .dataframe tbody tr th {\n",
       "        vertical-align: top;\n",
       "    }\n",
       "\n",
       "    .dataframe thead th {\n",
       "        text-align: right;\n",
       "    }\n",
       "</style>\n",
       "<table border=\"1\" class=\"dataframe\">\n",
       "  <thead>\n",
       "    <tr style=\"text-align: right;\">\n",
       "      <th></th>\n",
       "      <th>DRG Definition</th>\n",
       "      <th>Provider Id</th>\n",
       "      <th>Provider Name</th>\n",
       "      <th>Provider Street Address</th>\n",
       "      <th>Provider City</th>\n",
       "      <th>Provider State</th>\n",
       "      <th>Provider Zip Code</th>\n",
       "      <th>Hospital Referral Region Description</th>\n",
       "      <th>Total Discharges</th>\n",
       "      <th>Average Covered Charges</th>\n",
       "      <th>Average Total Payments</th>\n",
       "      <th>Average Medicare Payments</th>\n",
       "      <th>Average Copay</th>\n",
       "      <th>Totalvalue</th>\n",
       "    </tr>\n",
       "  </thead>\n",
       "  <tbody>\n",
       "    <tr>\n",
       "      <th>57887</th>\n",
       "      <td>286 - CIRCULATORY DISORDERS EXCEPT AMI, W CARD CATH W MCC</td>\n",
       "      <td>90011</td>\n",
       "      <td>WASHINGTON HOSPITAL CENTER</td>\n",
       "      <td>110 IRVING ST NW</td>\n",
       "      <td>WASHINGTON</td>\n",
       "      <td>DC</td>\n",
       "      <td>20010</td>\n",
       "      <td>DC - Washington</td>\n",
       "      <td>126</td>\n",
       "      <td>59858.69</td>\n",
       "      <td>17268.81</td>\n",
       "      <td>15939.25</td>\n",
       "      <td>1329.56</td>\n",
       "      <td>2175870.06</td>\n",
       "    </tr>\n",
       "  </tbody>\n",
       "</table>\n",
       "</div>"
      ],
      "text/plain": [
       "                                                  DRG Definition  Provider Id  \\\n",
       "57887  286 - CIRCULATORY DISORDERS EXCEPT AMI, W CARD CATH W MCC  90011         \n",
       "\n",
       "                    Provider Name Provider Street Address Provider City  \\\n",
       "57887  WASHINGTON HOSPITAL CENTER  110 IRVING ST NW        WASHINGTON     \n",
       "\n",
       "      Provider State  Provider Zip Code Hospital Referral Region Description  \\\n",
       "57887  DC             20010              DC - Washington                       \n",
       "\n",
       "       Total Discharges  Average Covered Charges  Average Total Payments  \\\n",
       "57887  126               59858.69                 17268.81                 \n",
       "\n",
       "       Average Medicare Payments  Average Copay  Totalvalue  \n",
       "57887  15939.25                   1329.56        2175870.06  "
      ]
     },
     "execution_count": 72,
     "metadata": {},
     "output_type": "execute_result"
    }
   ],
   "source": [
    "data[(data[\"DRG Definition\"]=='286 - CIRCULATORY DISORDERS EXCEPT AMI, W CARD CATH W MCC')&(data['Provider State']=='DC')]"
   ]
  },
  {
   "cell_type": "code",
   "execution_count": 73,
   "metadata": {},
   "outputs": [
    {
     "data": {
      "text/html": [
       "<div>\n",
       "<style scoped>\n",
       "    .dataframe tbody tr th:only-of-type {\n",
       "        vertical-align: middle;\n",
       "    }\n",
       "\n",
       "    .dataframe tbody tr th {\n",
       "        vertical-align: top;\n",
       "    }\n",
       "\n",
       "    .dataframe thead th {\n",
       "        text-align: right;\n",
       "    }\n",
       "</style>\n",
       "<table border=\"1\" class=\"dataframe\">\n",
       "  <thead>\n",
       "    <tr style=\"text-align: right;\">\n",
       "      <th></th>\n",
       "      <th>DRG Definition</th>\n",
       "      <th>Provider Id</th>\n",
       "      <th>Provider Name</th>\n",
       "      <th>Provider Street Address</th>\n",
       "      <th>Provider City</th>\n",
       "      <th>Provider State</th>\n",
       "      <th>Provider Zip Code</th>\n",
       "      <th>Hospital Referral Region Description</th>\n",
       "      <th>Total Discharges</th>\n",
       "      <th>Average Covered Charges</th>\n",
       "      <th>Average Total Payments</th>\n",
       "      <th>Average Medicare Payments</th>\n",
       "      <th>Average Copay</th>\n",
       "      <th>Totalvalue</th>\n",
       "    </tr>\n",
       "  </thead>\n",
       "  <tbody>\n",
       "    <tr>\n",
       "      <th>49303</th>\n",
       "      <td>251 - PERC CARDIOVASC PROC W/O CORONARY ARTERY STENT W/O MCC</td>\n",
       "      <td>90001</td>\n",
       "      <td>GEORGE WASHINGTON UNIV HOSPITAL</td>\n",
       "      <td>900 23RD ST NW</td>\n",
       "      <td>WASHINGTON</td>\n",
       "      <td>DC</td>\n",
       "      <td>20037</td>\n",
       "      <td>DC - Washington</td>\n",
       "      <td>13</td>\n",
       "      <td>71804.00</td>\n",
       "      <td>15860.38</td>\n",
       "      <td>15168.69</td>\n",
       "      <td>691.69</td>\n",
       "      <td>206184.94</td>\n",
       "    </tr>\n",
       "    <tr>\n",
       "      <th>49304</th>\n",
       "      <td>251 - PERC CARDIOVASC PROC W/O CORONARY ARTERY STENT W/O MCC</td>\n",
       "      <td>90011</td>\n",
       "      <td>WASHINGTON HOSPITAL CENTER</td>\n",
       "      <td>110 IRVING ST NW</td>\n",
       "      <td>WASHINGTON</td>\n",
       "      <td>DC</td>\n",
       "      <td>20010</td>\n",
       "      <td>DC - Washington</td>\n",
       "      <td>254</td>\n",
       "      <td>56789.05</td>\n",
       "      <td>14942.24</td>\n",
       "      <td>13956.53</td>\n",
       "      <td>985.71</td>\n",
       "      <td>3795328.96</td>\n",
       "    </tr>\n",
       "  </tbody>\n",
       "</table>\n",
       "</div>"
      ],
      "text/plain": [
       "                                                     DRG Definition  \\\n",
       "49303  251 - PERC CARDIOVASC PROC W/O CORONARY ARTERY STENT W/O MCC   \n",
       "49304  251 - PERC CARDIOVASC PROC W/O CORONARY ARTERY STENT W/O MCC   \n",
       "\n",
       "       Provider Id                    Provider Name Provider Street Address  \\\n",
       "49303  90001        GEORGE WASHINGTON UNIV HOSPITAL  900 23RD ST NW           \n",
       "49304  90011        WASHINGTON HOSPITAL CENTER       110 IRVING ST NW         \n",
       "\n",
       "      Provider City Provider State  Provider Zip Code  \\\n",
       "49303  WASHINGTON    DC             20037               \n",
       "49304  WASHINGTON    DC             20010               \n",
       "\n",
       "      Hospital Referral Region Description  Total Discharges  \\\n",
       "49303  DC - Washington                      13                 \n",
       "49304  DC - Washington                      254                \n",
       "\n",
       "       Average Covered Charges  Average Total Payments  \\\n",
       "49303  71804.00                 15860.38                 \n",
       "49304  56789.05                 14942.24                 \n",
       "\n",
       "       Average Medicare Payments  Average Copay  Totalvalue  \n",
       "49303  15168.69                   691.69         206184.94   \n",
       "49304  13956.53                   985.71         3795328.96  "
      ]
     },
     "execution_count": 73,
     "metadata": {},
     "output_type": "execute_result"
    }
   ],
   "source": [
    "data[(data[\"DRG Definition\"]=='251 - PERC CARDIOVASC PROC W/O CORONARY ARTERY STENT W/O MCC')&(data['Provider State']=='DC')]"
   ]
  },
  {
   "cell_type": "markdown",
   "metadata": {},
   "source": [
    "## Insight: One DC Hospital has five times the number of Total Discharges than national average for the DRG code 286. That same hospital is also above national average for DRG code 251"
   ]
  },
  {
   "cell_type": "markdown",
   "metadata": {},
   "source": [
    "# F12 Total Payments by state"
   ]
  },
  {
   "cell_type": "code",
   "execution_count": 74,
   "metadata": {
    "scrolled": false
   },
   "outputs": [
    {
     "data": {
      "image/png": "[encoded data removed]",
      "text/plain": [
       "<Figure size 432x288 with 1 Axes>"
      ]
     },
     "metadata": {},
     "output_type": "display_data"
    }
   ],
   "source": [
    "f12 = data.groupby('Provider State')['Totalvalue'].sum()\n",
    "f12 = f12.sort_values(ascending=False).reset_index()\n",
    "my_data = f12['Totalvalue']\n",
    "my_labels = f12['Provider State']\n",
    "plt.pie(my_data,labels=my_labels,autopct='%1.1f%%')\n",
    "plt.title('Total Payments By State')\n",
    "plt.show()"
   ]
  },
  {
   "cell_type": "code",
   "execution_count": 75,
   "metadata": {},
   "outputs": [
    {
     "data": {
      "text/html": [
       "<div>\n",
       "<style scoped>\n",
       "    .dataframe tbody tr th:only-of-type {\n",
       "        vertical-align: middle;\n",
       "    }\n",
       "\n",
       "    .dataframe tbody tr th {\n",
       "        vertical-align: top;\n",
       "    }\n",
       "\n",
       "    .dataframe thead th {\n",
       "        text-align: right;\n",
       "    }\n",
       "</style>\n",
       "<table border=\"1\" class=\"dataframe\">\n",
       "  <thead>\n",
       "    <tr style=\"text-align: right;\">\n",
       "      <th></th>\n",
       "      <th>Provider State</th>\n",
       "      <th>Totalvalue</th>\n",
       "      <th>Percentage</th>\n",
       "      <th>Cumsum</th>\n",
       "    </tr>\n",
       "  </thead>\n",
       "  <tbody>\n",
       "    <tr>\n",
       "      <th>0</th>\n",
       "      <td>CA</td>\n",
       "      <td>5.862212e+09</td>\n",
       "      <td>0.087903</td>\n",
       "      <td>0.087903</td>\n",
       "    </tr>\n",
       "    <tr>\n",
       "      <th>1</th>\n",
       "      <td>NY</td>\n",
       "      <td>5.117373e+09</td>\n",
       "      <td>0.076734</td>\n",
       "      <td>0.164637</td>\n",
       "    </tr>\n",
       "    <tr>\n",
       "      <th>2</th>\n",
       "      <td>FL</td>\n",
       "      <td>4.499882e+09</td>\n",
       "      <td>0.067475</td>\n",
       "      <td>0.232113</td>\n",
       "    </tr>\n",
       "    <tr>\n",
       "      <th>3</th>\n",
       "      <td>TX</td>\n",
       "      <td>4.417583e+09</td>\n",
       "      <td>0.066241</td>\n",
       "      <td>0.298354</td>\n",
       "    </tr>\n",
       "    <tr>\n",
       "      <th>4</th>\n",
       "      <td>IL</td>\n",
       "      <td>3.327673e+09</td>\n",
       "      <td>0.049898</td>\n",
       "      <td>0.348252</td>\n",
       "    </tr>\n",
       "    <tr>\n",
       "      <th>5</th>\n",
       "      <td>MI</td>\n",
       "      <td>2.885783e+09</td>\n",
       "      <td>0.043272</td>\n",
       "      <td>0.391524</td>\n",
       "    </tr>\n",
       "    <tr>\n",
       "      <th>6</th>\n",
       "      <td>PA</td>\n",
       "      <td>2.831209e+09</td>\n",
       "      <td>0.042454</td>\n",
       "      <td>0.433977</td>\n",
       "    </tr>\n",
       "    <tr>\n",
       "      <th>7</th>\n",
       "      <td>OH</td>\n",
       "      <td>2.533346e+09</td>\n",
       "      <td>0.037987</td>\n",
       "      <td>0.471964</td>\n",
       "    </tr>\n",
       "    <tr>\n",
       "      <th>8</th>\n",
       "      <td>NJ</td>\n",
       "      <td>2.462088e+09</td>\n",
       "      <td>0.036919</td>\n",
       "      <td>0.508883</td>\n",
       "    </tr>\n",
       "  </tbody>\n",
       "</table>\n",
       "</div>"
      ],
      "text/plain": [
       "  Provider State    Totalvalue  Percentage    Cumsum\n",
       "0  CA             5.862212e+09  0.087903    0.087903\n",
       "1  NY             5.117373e+09  0.076734    0.164637\n",
       "2  FL             4.499882e+09  0.067475    0.232113\n",
       "3  TX             4.417583e+09  0.066241    0.298354\n",
       "4  IL             3.327673e+09  0.049898    0.348252\n",
       "5  MI             2.885783e+09  0.043272    0.391524\n",
       "6  PA             2.831209e+09  0.042454    0.433977\n",
       "7  OH             2.533346e+09  0.037987    0.471964\n",
       "8  NJ             2.462088e+09  0.036919    0.508883"
      ]
     },
     "execution_count": 75,
     "metadata": {},
     "output_type": "execute_result"
    }
   ],
   "source": [
    "f12['Percentage'] = f12['Totalvalue']/f12['Totalvalue'].sum()\n",
    "f12['Cumsum'] = f12['Percentage'].cumsum()\n",
    "f12.head(9)"
   ]
  },
  {
   "cell_type": "markdown",
   "metadata": {},
   "source": [
    "## Insight: Top 9 stats account for over 50% of the medical payments. "
   ]
  },
  {
   "cell_type": "markdown",
   "metadata": {},
   "source": [
    "# Groupby Zipcode"
   ]
  },
  {
   "cell_type": "markdown",
   "metadata": {},
   "source": [
    "# F13\n"
   ]
  },
  {
   "cell_type": "code",
   "execution_count": 76,
   "metadata": {},
   "outputs": [
    {
     "data": {
      "text/html": [
       "<div>\n",
       "<style scoped>\n",
       "    .dataframe tbody tr th:only-of-type {\n",
       "        vertical-align: middle;\n",
       "    }\n",
       "\n",
       "    .dataframe tbody tr th {\n",
       "        vertical-align: top;\n",
       "    }\n",
       "\n",
       "    .dataframe thead th {\n",
       "        text-align: right;\n",
       "    }\n",
       "</style>\n",
       "<table border=\"1\" class=\"dataframe\">\n",
       "  <thead>\n",
       "    <tr style=\"text-align: right;\">\n",
       "      <th></th>\n",
       "      <th>count</th>\n",
       "      <th>mean</th>\n",
       "      <th>std</th>\n",
       "      <th>min</th>\n",
       "      <th>25%</th>\n",
       "      <th>50%</th>\n",
       "      <th>75%</th>\n",
       "      <th>max</th>\n",
       "    </tr>\n",
       "    <tr>\n",
       "      <th>Provider Zip Code</th>\n",
       "      <th></th>\n",
       "      <th></th>\n",
       "      <th></th>\n",
       "      <th></th>\n",
       "      <th></th>\n",
       "      <th></th>\n",
       "      <th></th>\n",
       "      <th></th>\n",
       "    </tr>\n",
       "  </thead>\n",
       "  <tbody>\n",
       "    <tr>\n",
       "      <th>1040</th>\n",
       "      <td>59.0</td>\n",
       "      <td>7842.748814</td>\n",
       "      <td>4420.547293</td>\n",
       "      <td>3655.33</td>\n",
       "      <td>4986.1950</td>\n",
       "      <td>6587.110</td>\n",
       "      <td>9028.5350</td>\n",
       "      <td>30821.81</td>\n",
       "    </tr>\n",
       "    <tr>\n",
       "      <th>1060</th>\n",
       "      <td>62.0</td>\n",
       "      <td>7308.722742</td>\n",
       "      <td>5743.264557</td>\n",
       "      <td>3476.47</td>\n",
       "      <td>4465.6800</td>\n",
       "      <td>5738.990</td>\n",
       "      <td>7322.7475</td>\n",
       "      <td>40336.90</td>\n",
       "    </tr>\n",
       "    <tr>\n",
       "      <th>1069</th>\n",
       "      <td>38.0</td>\n",
       "      <td>5726.230000</td>\n",
       "      <td>2175.517615</td>\n",
       "      <td>3286.18</td>\n",
       "      <td>4304.3400</td>\n",
       "      <td>4902.460</td>\n",
       "      <td>6647.4275</td>\n",
       "      <td>12479.26</td>\n",
       "    </tr>\n",
       "    <tr>\n",
       "      <th>1082</th>\n",
       "      <td>13.0</td>\n",
       "      <td>5657.301538</td>\n",
       "      <td>1718.406255</td>\n",
       "      <td>4014.90</td>\n",
       "      <td>4486.0800</td>\n",
       "      <td>5074.200</td>\n",
       "      <td>6280.5100</td>\n",
       "      <td>10528.50</td>\n",
       "    </tr>\n",
       "    <tr>\n",
       "      <th>1085</th>\n",
       "      <td>36.0</td>\n",
       "      <td>6413.707222</td>\n",
       "      <td>2599.233940</td>\n",
       "      <td>3284.00</td>\n",
       "      <td>4293.1450</td>\n",
       "      <td>5881.920</td>\n",
       "      <td>7383.9300</td>\n",
       "      <td>12849.23</td>\n",
       "    </tr>\n",
       "    <tr>\n",
       "      <th>...</th>\n",
       "      <td>...</td>\n",
       "      <td>...</td>\n",
       "      <td>...</td>\n",
       "      <td>...</td>\n",
       "      <td>...</td>\n",
       "      <td>...</td>\n",
       "      <td>...</td>\n",
       "      <td>...</td>\n",
       "    </tr>\n",
       "    <tr>\n",
       "      <th>99645</th>\n",
       "      <td>32.0</td>\n",
       "      <td>11597.576563</td>\n",
       "      <td>5137.754193</td>\n",
       "      <td>6624.84</td>\n",
       "      <td>7756.4550</td>\n",
       "      <td>10234.815</td>\n",
       "      <td>13104.6175</td>\n",
       "      <td>27026.25</td>\n",
       "    </tr>\n",
       "    <tr>\n",
       "      <th>99669</th>\n",
       "      <td>18.0</td>\n",
       "      <td>11535.552778</td>\n",
       "      <td>5131.618121</td>\n",
       "      <td>6336.18</td>\n",
       "      <td>7674.5350</td>\n",
       "      <td>9917.460</td>\n",
       "      <td>12777.0275</td>\n",
       "      <td>22908.23</td>\n",
       "    </tr>\n",
       "    <tr>\n",
       "      <th>99701</th>\n",
       "      <td>29.0</td>\n",
       "      <td>19966.092759</td>\n",
       "      <td>13714.302916</td>\n",
       "      <td>7776.91</td>\n",
       "      <td>12548.5700</td>\n",
       "      <td>14215.730</td>\n",
       "      <td>25443.0000</td>\n",
       "      <td>77566.38</td>\n",
       "    </tr>\n",
       "    <tr>\n",
       "      <th>99801</th>\n",
       "      <td>10.0</td>\n",
       "      <td>11915.347000</td>\n",
       "      <td>4709.280430</td>\n",
       "      <td>7227.00</td>\n",
       "      <td>8192.7575</td>\n",
       "      <td>10996.560</td>\n",
       "      <td>13188.8650</td>\n",
       "      <td>21555.88</td>\n",
       "    </tr>\n",
       "    <tr>\n",
       "      <th>99835</th>\n",
       "      <td>1.0</td>\n",
       "      <td>7487.000000</td>\n",
       "      <td>NaN</td>\n",
       "      <td>7487.00</td>\n",
       "      <td>7487.0000</td>\n",
       "      <td>7487.000</td>\n",
       "      <td>7487.0000</td>\n",
       "      <td>7487.00</td>\n",
       "    </tr>\n",
       "  </tbody>\n",
       "</table>\n",
       "<p>3053 rows × 8 columns</p>\n",
       "</div>"
      ],
      "text/plain": [
       "                   count          mean           std      min         25%  \\\n",
       "Provider Zip Code                                                           \n",
       "1040               59.0   7842.748814   4420.547293   3655.33  4986.1950    \n",
       "1060               62.0   7308.722742   5743.264557   3476.47  4465.6800    \n",
       "1069               38.0   5726.230000   2175.517615   3286.18  4304.3400    \n",
       "1082               13.0   5657.301538   1718.406255   4014.90  4486.0800    \n",
       "1085               36.0   6413.707222   2599.233940   3284.00  4293.1450    \n",
       "...                 ...           ...           ...       ...        ...    \n",
       "99645              32.0   11597.576563  5137.754193   6624.84  7756.4550    \n",
       "99669              18.0   11535.552778  5131.618121   6336.18  7674.5350    \n",
       "99701              29.0   19966.092759  13714.302916  7776.91  12548.5700   \n",
       "99801              10.0   11915.347000  4709.280430   7227.00  8192.7575    \n",
       "99835              1.0    7487.000000  NaN            7487.00  7487.0000    \n",
       "\n",
       "                         50%         75%       max  \n",
       "Provider Zip Code                                   \n",
       "1040               6587.110   9028.5350   30821.81  \n",
       "1060               5738.990   7322.7475   40336.90  \n",
       "1069               4902.460   6647.4275   12479.26  \n",
       "1082               5074.200   6280.5100   10528.50  \n",
       "1085               5881.920   7383.9300   12849.23  \n",
       "...                     ...         ...        ...  \n",
       "99645              10234.815  13104.6175  27026.25  \n",
       "99669              9917.460   12777.0275  22908.23  \n",
       "99701              14215.730  25443.0000  77566.38  \n",
       "99801              10996.560  13188.8650  21555.88  \n",
       "99835              7487.000   7487.0000   7487.00   \n",
       "\n",
       "[3053 rows x 8 columns]"
      ]
     },
     "execution_count": 76,
     "metadata": {},
     "output_type": "execute_result"
    }
   ],
   "source": [
    "# (average total average payments)* the number of rows/ the number of rows\n",
    "data.groupby(['Provider Zip Code'])['Average Total Payments'].describe()"
   ]
  },
  {
   "cell_type": "code",
   "execution_count": 77,
   "metadata": {},
   "outputs": [
    {
     "data": {
      "text/plain": [
       "Provider Zip Code\n",
       "81657    35063.091250\n",
       "93635    25181.728447\n",
       "83001    23968.121667\n",
       "94305    23122.697493\n",
       "80487    22477.277500\n",
       "             ...     \n",
       "60452    3847.630000 \n",
       "48116    3736.000000 \n",
       "28401    3639.470000 \n",
       "78017    3623.440000 \n",
       "31788    3291.310000 \n",
       "Length: 3053, dtype: float64"
      ]
     },
     "execution_count": 77,
     "metadata": {},
     "output_type": "execute_result"
    }
   ],
   "source": [
    "# for every row, sum((total discharges)*(average total average payments))/sum(total discharges)\n",
    "# this is a more valid average\n",
    "f13 = data.groupby(['Provider Zip Code'])['Totalvalue'].sum()/data.groupby(['Provider Zip Code'])['Total Discharges'].sum()\n",
    "f13.sort_values(ascending = False, inplace=True)\n",
    "f13"
   ]
  },
  {
   "cell_type": "code",
   "execution_count": 78,
   "metadata": {},
   "outputs": [
    {
     "data": {
      "text/plain": [
       "8811.115005090865"
      ]
     },
     "execution_count": 78,
     "metadata": {},
     "output_type": "execute_result"
    }
   ],
   "source": [
    "f13.mean()"
   ]
  },
  {
   "cell_type": "code",
   "execution_count": 79,
   "metadata": {},
   "outputs": [
    {
     "data": {
      "text/plain": [
       "[81657, 93635, 83001, 94305, 80487]"
      ]
     },
     "execution_count": 79,
     "metadata": {},
     "output_type": "execute_result"
    }
   ],
   "source": [
    "f13.iloc[0:5].index.tolist()"
   ]
  },
  {
   "cell_type": "markdown",
   "metadata": {},
   "source": [
    "## The above list contains the top 5 zipcode that have the most expensive average payment"
   ]
  },
  {
   "cell_type": "code",
   "execution_count": null,
   "metadata": {},
   "outputs": [],
   "source": []
  },
  {
   "cell_type": "markdown",
   "metadata": {},
   "source": [
    "# F14 Which zip code has the highest Medicare covererage the most in dollar amount?"
   ]
  },
  {
   "cell_type": "code",
   "execution_count": 80,
   "metadata": {},
   "outputs": [],
   "source": [
    "data['Coverage'] = data['Average Medicare Payments']/data['Average Total Payments']"
   ]
  },
  {
   "cell_type": "code",
   "execution_count": 81,
   "metadata": {},
   "outputs": [
    {
     "data": {
      "text/html": [
       "<div>\n",
       "<style scoped>\n",
       "    .dataframe tbody tr th:only-of-type {\n",
       "        vertical-align: middle;\n",
       "    }\n",
       "\n",
       "    .dataframe tbody tr th {\n",
       "        vertical-align: top;\n",
       "    }\n",
       "\n",
       "    .dataframe thead th {\n",
       "        text-align: right;\n",
       "    }\n",
       "</style>\n",
       "<table border=\"1\" class=\"dataframe\">\n",
       "  <thead>\n",
       "    <tr style=\"text-align: right;\">\n",
       "      <th></th>\n",
       "      <th>count</th>\n",
       "      <th>mean</th>\n",
       "      <th>std</th>\n",
       "      <th>min</th>\n",
       "      <th>25%</th>\n",
       "      <th>50%</th>\n",
       "      <th>75%</th>\n",
       "      <th>max</th>\n",
       "    </tr>\n",
       "    <tr>\n",
       "      <th>Provider Zip Code</th>\n",
       "      <th></th>\n",
       "      <th></th>\n",
       "      <th></th>\n",
       "      <th></th>\n",
       "      <th></th>\n",
       "      <th></th>\n",
       "      <th></th>\n",
       "      <th></th>\n",
       "    </tr>\n",
       "  </thead>\n",
       "  <tbody>\n",
       "    <tr>\n",
       "      <th>60099</th>\n",
       "      <td>2.0</td>\n",
       "      <td>0.374348</td>\n",
       "      <td>0.086351</td>\n",
       "      <td>0.313288</td>\n",
       "      <td>0.343818</td>\n",
       "      <td>0.374348</td>\n",
       "      <td>0.404877</td>\n",
       "      <td>0.435407</td>\n",
       "    </tr>\n",
       "    <tr>\n",
       "      <th>75063</th>\n",
       "      <td>1.0</td>\n",
       "      <td>0.472517</td>\n",
       "      <td>NaN</td>\n",
       "      <td>0.472517</td>\n",
       "      <td>0.472517</td>\n",
       "      <td>0.472517</td>\n",
       "      <td>0.472517</td>\n",
       "      <td>0.472517</td>\n",
       "    </tr>\n",
       "    <tr>\n",
       "      <th>19124</th>\n",
       "      <td>3.0</td>\n",
       "      <td>0.483417</td>\n",
       "      <td>0.167938</td>\n",
       "      <td>0.307033</td>\n",
       "      <td>0.404428</td>\n",
       "      <td>0.501824</td>\n",
       "      <td>0.571609</td>\n",
       "      <td>0.641394</td>\n",
       "    </tr>\n",
       "    <tr>\n",
       "      <th>96819</th>\n",
       "      <td>9.0</td>\n",
       "      <td>0.508343</td>\n",
       "      <td>0.232152</td>\n",
       "      <td>0.195380</td>\n",
       "      <td>0.272098</td>\n",
       "      <td>0.549514</td>\n",
       "      <td>0.656069</td>\n",
       "      <td>0.882069</td>\n",
       "    </tr>\n",
       "    <tr>\n",
       "      <th>77094</th>\n",
       "      <td>1.0</td>\n",
       "      <td>0.641385</td>\n",
       "      <td>NaN</td>\n",
       "      <td>0.641385</td>\n",
       "      <td>0.641385</td>\n",
       "      <td>0.641385</td>\n",
       "      <td>0.641385</td>\n",
       "      <td>0.641385</td>\n",
       "    </tr>\n",
       "  </tbody>\n",
       "</table>\n",
       "</div>"
      ],
      "text/plain": [
       "                   count      mean       std       min       25%       50%  \\\n",
       "Provider Zip Code                                                            \n",
       "60099              2.0    0.374348  0.086351  0.313288  0.343818  0.374348   \n",
       "75063              1.0    0.472517 NaN        0.472517  0.472517  0.472517   \n",
       "19124              3.0    0.483417  0.167938  0.307033  0.404428  0.501824   \n",
       "96819              9.0    0.508343  0.232152  0.195380  0.272098  0.549514   \n",
       "77094              1.0    0.641385 NaN        0.641385  0.641385  0.641385   \n",
       "\n",
       "                        75%       max  \n",
       "Provider Zip Code                      \n",
       "60099              0.404877  0.435407  \n",
       "75063              0.472517  0.472517  \n",
       "19124              0.571609  0.641394  \n",
       "96819              0.656069  0.882069  \n",
       "77094              0.641385  0.641385  "
      ]
     },
     "execution_count": 81,
     "metadata": {},
     "output_type": "execute_result"
    }
   ],
   "source": [
    "# zip 93635 has the highest mean medicare coverage\n",
    "f14 = data.groupby('Provider Zip Code')['Coverage'].describe()\n",
    "f14.sort_values(by='mean').head()"
   ]
  },
  {
   "cell_type": "code",
   "execution_count": 82,
   "metadata": {
    "scrolled": true
   },
   "outputs": [
    {
     "data": {
      "text/html": [
       "<div>\n",
       "<style scoped>\n",
       "    .dataframe tbody tr th:only-of-type {\n",
       "        vertical-align: middle;\n",
       "    }\n",
       "\n",
       "    .dataframe tbody tr th {\n",
       "        vertical-align: top;\n",
       "    }\n",
       "\n",
       "    .dataframe thead th {\n",
       "        text-align: right;\n",
       "    }\n",
       "</style>\n",
       "<table border=\"1\" class=\"dataframe\">\n",
       "  <thead>\n",
       "    <tr style=\"text-align: right;\">\n",
       "      <th></th>\n",
       "      <th>count</th>\n",
       "      <th>mean</th>\n",
       "      <th>std</th>\n",
       "      <th>min</th>\n",
       "      <th>25%</th>\n",
       "      <th>50%</th>\n",
       "      <th>75%</th>\n",
       "      <th>max</th>\n",
       "    </tr>\n",
       "    <tr>\n",
       "      <th>Provider Zip Code</th>\n",
       "      <th></th>\n",
       "      <th></th>\n",
       "      <th></th>\n",
       "      <th></th>\n",
       "      <th></th>\n",
       "      <th></th>\n",
       "      <th></th>\n",
       "      <th></th>\n",
       "    </tr>\n",
       "  </thead>\n",
       "  <tbody>\n",
       "    <tr>\n",
       "      <th>76104</th>\n",
       "      <td>317.0</td>\n",
       "      <td>0.846800</td>\n",
       "      <td>0.084192</td>\n",
       "      <td>0.253007</td>\n",
       "      <td>0.792344</td>\n",
       "      <td>0.861176</td>\n",
       "      <td>0.903593</td>\n",
       "      <td>0.987553</td>\n",
       "    </tr>\n",
       "    <tr>\n",
       "      <th>77030</th>\n",
       "      <td>282.0</td>\n",
       "      <td>0.814772</td>\n",
       "      <td>0.124452</td>\n",
       "      <td>0.325395</td>\n",
       "      <td>0.753423</td>\n",
       "      <td>0.844204</td>\n",
       "      <td>0.913423</td>\n",
       "      <td>0.986185</td>\n",
       "    </tr>\n",
       "    <tr>\n",
       "      <th>72205</th>\n",
       "      <td>268.0</td>\n",
       "      <td>0.840933</td>\n",
       "      <td>0.082534</td>\n",
       "      <td>0.426232</td>\n",
       "      <td>0.799160</td>\n",
       "      <td>0.851092</td>\n",
       "      <td>0.908366</td>\n",
       "      <td>0.978465</td>\n",
       "    </tr>\n",
       "    <tr>\n",
       "      <th>40202</th>\n",
       "      <td>248.0</td>\n",
       "      <td>0.859698</td>\n",
       "      <td>0.072385</td>\n",
       "      <td>0.552566</td>\n",
       "      <td>0.809941</td>\n",
       "      <td>0.869705</td>\n",
       "      <td>0.917370</td>\n",
       "      <td>0.983990</td>\n",
       "    </tr>\n",
       "    <tr>\n",
       "      <th>79902</th>\n",
       "      <td>247.0</td>\n",
       "      <td>0.844648</td>\n",
       "      <td>0.083942</td>\n",
       "      <td>0.573450</td>\n",
       "      <td>0.790405</td>\n",
       "      <td>0.858159</td>\n",
       "      <td>0.913279</td>\n",
       "      <td>0.984743</td>\n",
       "    </tr>\n",
       "  </tbody>\n",
       "</table>\n",
       "</div>"
      ],
      "text/plain": [
       "                   count      mean       std       min       25%       50%  \\\n",
       "Provider Zip Code                                                            \n",
       "76104              317.0  0.846800  0.084192  0.253007  0.792344  0.861176   \n",
       "77030              282.0  0.814772  0.124452  0.325395  0.753423  0.844204   \n",
       "72205              268.0  0.840933  0.082534  0.426232  0.799160  0.851092   \n",
       "40202              248.0  0.859698  0.072385  0.552566  0.809941  0.869705   \n",
       "79902              247.0  0.844648  0.083942  0.573450  0.790405  0.858159   \n",
       "\n",
       "                        75%       max  \n",
       "Provider Zip Code                      \n",
       "76104              0.903593  0.987553  \n",
       "77030              0.913423  0.986185  \n",
       "72205              0.908366  0.978465  \n",
       "40202              0.917370  0.983990  \n",
       "79902              0.913279  0.984743  "
      ]
     },
     "execution_count": 82,
     "metadata": {},
     "output_type": "execute_result"
    }
   ],
   "source": [
    "# zipcodes that has more frequent inpatients are highly covered by medicare\n",
    "f14.sort_values(by='count', ascending=False, inplace = True)\n",
    "f14.head()"
   ]
  },
  {
   "cell_type": "code",
   "execution_count": 83,
   "metadata": {},
   "outputs": [
    {
     "data": {
      "text/plain": [
       "163065.0"
      ]
     },
     "execution_count": 83,
     "metadata": {},
     "output_type": "execute_result"
    }
   ],
   "source": [
    "f14['count'].sum()"
   ]
  },
  {
   "cell_type": "markdown",
   "metadata": {},
   "source": [
    "# F15"
   ]
  },
  {
   "cell_type": "code",
   "execution_count": 84,
   "metadata": {},
   "outputs": [
    {
     "data": {
      "text/plain": [
       "Hospital Referral Region Description\n",
       "ND - Minot           64  \n",
       "ND - Grand Forks     80  \n",
       "WI - Neenah          83  \n",
       "OR - Bend            85  \n",
       "ID - Idaho Falls     85  \n",
       "                     ..  \n",
       "PA - Philadelphia    2554\n",
       "TX - Houston         2577\n",
       "GA - Atlanta         2630\n",
       "MA - Boston          2910\n",
       "CA - Los Angeles     3653\n",
       "Name: Hospital Referral Region Description, Length: 306, dtype: int64"
      ]
     },
     "execution_count": 84,
     "metadata": {},
     "output_type": "execute_result"
    }
   ],
   "source": [
    "f15 = data.groupby('Hospital Referral Region Description')['Hospital Referral Region Description'].count().sort_values()\n",
    "f15"
   ]
  },
  {
   "cell_type": "markdown",
   "metadata": {},
   "source": [
    "## The region of ND-Minot has the least number of referrals"
   ]
  },
  {
   "cell_type": "code",
   "execution_count": 85,
   "metadata": {},
   "outputs": [
    {
     "data": {
      "text/html": [
       "<div>\n",
       "<style scoped>\n",
       "    .dataframe tbody tr th:only-of-type {\n",
       "        vertical-align: middle;\n",
       "    }\n",
       "\n",
       "    .dataframe tbody tr th {\n",
       "        vertical-align: top;\n",
       "    }\n",
       "\n",
       "    .dataframe thead th {\n",
       "        text-align: right;\n",
       "    }\n",
       "</style>\n",
       "<table border=\"1\" class=\"dataframe\">\n",
       "  <thead>\n",
       "    <tr style=\"text-align: right;\">\n",
       "      <th></th>\n",
       "      <th>DRG Definition</th>\n",
       "      <th>Provider Id</th>\n",
       "      <th>Provider Name</th>\n",
       "      <th>Provider Street Address</th>\n",
       "      <th>Provider City</th>\n",
       "      <th>Provider State</th>\n",
       "      <th>Provider Zip Code</th>\n",
       "      <th>Hospital Referral Region Description</th>\n",
       "      <th>Total Discharges</th>\n",
       "      <th>Average Covered Charges</th>\n",
       "      <th>Average Total Payments</th>\n",
       "      <th>Average Medicare Payments</th>\n",
       "      <th>Average Copay</th>\n",
       "      <th>Totalvalue</th>\n",
       "      <th>Coverage</th>\n",
       "    </tr>\n",
       "  </thead>\n",
       "  <tbody>\n",
       "    <tr>\n",
       "      <th>733</th>\n",
       "      <td>039 - EXTRACRANIAL PROCEDURES W/O CC/MCC</td>\n",
       "      <td>350002</td>\n",
       "      <td>ST ALEXIUS MEDICAL CENTER</td>\n",
       "      <td>900 E BROADWAY</td>\n",
       "      <td>BISMARCK</td>\n",
       "      <td>ND</td>\n",
       "      <td>58501</td>\n",
       "      <td>ND - Bismarck</td>\n",
       "      <td>29</td>\n",
       "      <td>12795.10</td>\n",
       "      <td>6032.34</td>\n",
       "      <td>5213.72</td>\n",
       "      <td>818.62</td>\n",
       "      <td>174937.86</td>\n",
       "      <td>0.864295</td>\n",
       "    </tr>\n",
       "    <tr>\n",
       "      <th>734</th>\n",
       "      <td>039 - EXTRACRANIAL PROCEDURES W/O CC/MCC</td>\n",
       "      <td>350006</td>\n",
       "      <td>TRINITY HOSPITALS</td>\n",
       "      <td>407 3RD ST SE</td>\n",
       "      <td>MINOT</td>\n",
       "      <td>ND</td>\n",
       "      <td>58701</td>\n",
       "      <td>ND - Minot</td>\n",
       "      <td>13</td>\n",
       "      <td>16446.38</td>\n",
       "      <td>6356.15</td>\n",
       "      <td>5418.00</td>\n",
       "      <td>938.15</td>\n",
       "      <td>82629.95</td>\n",
       "      <td>0.852403</td>\n",
       "    </tr>\n",
       "    <tr>\n",
       "      <th>735</th>\n",
       "      <td>039 - EXTRACRANIAL PROCEDURES W/O CC/MCC</td>\n",
       "      <td>350011</td>\n",
       "      <td>SANFORD MEDICAL CENTER FARGO</td>\n",
       "      <td>801 BROADWAY NORTH</td>\n",
       "      <td>FARGO</td>\n",
       "      <td>ND</td>\n",
       "      <td>58122</td>\n",
       "      <td>ND - Fargo/Moorhead MN</td>\n",
       "      <td>47</td>\n",
       "      <td>13070.61</td>\n",
       "      <td>6614.57</td>\n",
       "      <td>5611.40</td>\n",
       "      <td>1003.17</td>\n",
       "      <td>310884.79</td>\n",
       "      <td>0.848339</td>\n",
       "    </tr>\n",
       "    <tr>\n",
       "      <th>736</th>\n",
       "      <td>039 - EXTRACRANIAL PROCEDURES W/O CC/MCC</td>\n",
       "      <td>350015</td>\n",
       "      <td>MEDCENTER ONE</td>\n",
       "      <td>300 N 7TH ST</td>\n",
       "      <td>BISMARCK</td>\n",
       "      <td>ND</td>\n",
       "      <td>58506</td>\n",
       "      <td>ND - Bismarck</td>\n",
       "      <td>54</td>\n",
       "      <td>11360.66</td>\n",
       "      <td>6349.31</td>\n",
       "      <td>5306.00</td>\n",
       "      <td>1043.31</td>\n",
       "      <td>342862.74</td>\n",
       "      <td>0.835681</td>\n",
       "    </tr>\n",
       "    <tr>\n",
       "      <th>737</th>\n",
       "      <td>039 - EXTRACRANIAL PROCEDURES W/O CC/MCC</td>\n",
       "      <td>350019</td>\n",
       "      <td>ALTRU HOSPITAL</td>\n",
       "      <td>1200 S COLUMBIA RD</td>\n",
       "      <td>GRAND FORKS</td>\n",
       "      <td>ND</td>\n",
       "      <td>58201</td>\n",
       "      <td>ND - Grand Forks</td>\n",
       "      <td>17</td>\n",
       "      <td>16553.17</td>\n",
       "      <td>6716.05</td>\n",
       "      <td>5920.76</td>\n",
       "      <td>795.29</td>\n",
       "      <td>114172.85</td>\n",
       "      <td>0.881584</td>\n",
       "    </tr>\n",
       "  </tbody>\n",
       "</table>\n",
       "</div>"
      ],
      "text/plain": [
       "                               DRG Definition  Provider Id  \\\n",
       "733  039 - EXTRACRANIAL PROCEDURES W/O CC/MCC  350002        \n",
       "734  039 - EXTRACRANIAL PROCEDURES W/O CC/MCC  350006        \n",
       "735  039 - EXTRACRANIAL PROCEDURES W/O CC/MCC  350011        \n",
       "736  039 - EXTRACRANIAL PROCEDURES W/O CC/MCC  350015        \n",
       "737  039 - EXTRACRANIAL PROCEDURES W/O CC/MCC  350019        \n",
       "\n",
       "                    Provider Name Provider Street Address Provider City  \\\n",
       "733  ST ALEXIUS MEDICAL CENTER     900 E BROADWAY          BISMARCK       \n",
       "734  TRINITY HOSPITALS             407 3RD ST SE           MINOT          \n",
       "735  SANFORD MEDICAL CENTER FARGO  801 BROADWAY NORTH      FARGO          \n",
       "736  MEDCENTER ONE                 300 N 7TH ST            BISMARCK       \n",
       "737  ALTRU HOSPITAL                1200 S COLUMBIA RD      GRAND FORKS    \n",
       "\n",
       "    Provider State  Provider Zip Code Hospital Referral Region Description  \\\n",
       "733  ND             58501              ND - Bismarck                         \n",
       "734  ND             58701              ND - Minot                            \n",
       "735  ND             58122              ND - Fargo/Moorhead MN                \n",
       "736  ND             58506              ND - Bismarck                         \n",
       "737  ND             58201              ND - Grand Forks                      \n",
       "\n",
       "     Total Discharges  Average Covered Charges  Average Total Payments  \\\n",
       "733  29                12795.10                 6032.34                  \n",
       "734  13                16446.38                 6356.15                  \n",
       "735  47                13070.61                 6614.57                  \n",
       "736  54                11360.66                 6349.31                  \n",
       "737  17                16553.17                 6716.05                  \n",
       "\n",
       "     Average Medicare Payments  Average Copay  Totalvalue  Coverage  \n",
       "733  5213.72                    818.62         174937.86   0.864295  \n",
       "734  5418.00                    938.15         82629.95    0.852403  \n",
       "735  5611.40                    1003.17        310884.79   0.848339  \n",
       "736  5306.00                    1043.31        342862.74   0.835681  \n",
       "737  5920.76                    795.29         114172.85   0.881584  "
      ]
     },
     "execution_count": 85,
     "metadata": {},
     "output_type": "execute_result"
    }
   ],
   "source": [
    "data[data['Provider State']=='ND'].head()"
   ]
  },
  {
   "cell_type": "code",
   "execution_count": null,
   "metadata": {},
   "outputs": [],
   "source": []
  },
  {
   "cell_type": "code",
   "execution_count": null,
   "metadata": {},
   "outputs": [],
   "source": []
  },
  {
   "cell_type": "code",
   "execution_count": null,
   "metadata": {},
   "outputs": [],
   "source": []
  },
  {
   "cell_type": "code",
   "execution_count": null,
   "metadata": {},
   "outputs": [],
   "source": []
  },
  {
   "cell_type": "code",
   "execution_count": null,
   "metadata": {},
   "outputs": [],
   "source": []
  }
 ],
 "metadata": {
  "kernelspec": {
   "display_name": "Python 3",
   "language": "python",
   "name": "python3"
  },
  "language_info": {
   "codemirror_mode": {
    "name": "ipython",
    "version": 3
   },
   "file_extension": ".py",
   "mimetype": "text/x-python",
   "name": "python",
   "nbconvert_exporter": "python",
   "pygments_lexer": "ipython3",
   "version": "3.7.6"
  }
 },
 "nbformat": 4,
 "nbformat_minor": 4
}
