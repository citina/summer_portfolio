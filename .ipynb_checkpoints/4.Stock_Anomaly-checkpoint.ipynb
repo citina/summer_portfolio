{
 "cells": [
  {
   "cell_type": "code",
   "execution_count": 1,
   "metadata": {},
   "outputs": [
    {
     "name": "stderr",
     "output_type": "stream",
     "text": [
      "/opt/anaconda3/lib/python3.7/site-packages/mpl_finance.py:22: DeprecationWarning: \n",
      "\n",
      "  =================================================================\n",
      "\n",
      "   WARNING: `mpl_finance` is deprecated:\n",
      "\n",
      "    Please use `mplfinance` instead (no hyphen, no underscore).\n",
      "\n",
      "    To install: `pip install --upgrade mplfinance` \n",
      "\n",
      "   For more information, see: https://pypi.org/project/mplfinance/\n",
      "\n",
      "  =================================================================\n",
      "\n",
      "  category=DeprecationWarning)\n"
     ]
    }
   ],
   "source": [
    "import pandas as pd\n",
    "import yfinance as yf\n",
    "from yahoofinancials import YahooFinancials\n",
    "import seaborn as sns\n",
    "import numpy as np\n",
    "import scipy.stats\n",
    "import datetime as dt\n",
    "import matplotlib.pyplot as plt\n",
    "from matplotlib import style\n",
    "from mpl_finance import candlestick_ohlc\n",
    "import matplotlib.dates as mdates\n",
    "# source https://towardsdatascience.com/a-comprehensive-guide-to-downloading-stock-prices-in-python-2cd93ff821d4"
   ]
  },
  {
   "cell_type": "code",
   "execution_count": 2,
   "metadata": {},
   "outputs": [
    {
     "name": "stdout",
     "output_type": "stream",
     "text": [
      "            Open  High   Low  Close  Adj Close     Volume\n",
      "Date                                                     \n",
      "2020-01-02  4.10  4.10  3.61   3.72       3.72  103740100\n",
      "2020-01-03  3.50  3.90  3.48   3.83       3.83   82892400\n",
      "2020-01-06  4.19  4.24  3.66   3.68       3.68  106619700\n",
      "2020-01-07  3.70  3.73  3.21   3.24       3.24  106336400\n",
      "2020-01-08  3.14  3.49  3.13   3.39       3.39   65118100\n",
      "(122, 6)\n"
     ]
    }
   ],
   "source": [
    "niodf = yf.download('NIO',start='2020-01-01', end='2020-06-26', progress=False)\n",
    "print(niodf.head())\n",
    "print(niodf.shape)"
   ]
  },
  {
   "cell_type": "code",
   "execution_count": 3,
   "metadata": {},
   "outputs": [
    {
     "data": {
      "text/html": [
       "<div>\n",
       "<style scoped>\n",
       "    .dataframe tbody tr th:only-of-type {\n",
       "        vertical-align: middle;\n",
       "    }\n",
       "\n",
       "    .dataframe tbody tr th {\n",
       "        vertical-align: top;\n",
       "    }\n",
       "\n",
       "    .dataframe thead th {\n",
       "        text-align: right;\n",
       "    }\n",
       "</style>\n",
       "<table border=\"1\" class=\"dataframe\">\n",
       "  <thead>\n",
       "    <tr style=\"text-align: right;\">\n",
       "      <th></th>\n",
       "      <th>Date</th>\n",
       "      <th>Open</th>\n",
       "      <th>High</th>\n",
       "      <th>Low</th>\n",
       "      <th>Close</th>\n",
       "      <th>Adj Close</th>\n",
       "      <th>Volume</th>\n",
       "    </tr>\n",
       "  </thead>\n",
       "  <tbody>\n",
       "    <tr>\n",
       "      <th>0</th>\n",
       "      <td>737426.0</td>\n",
       "      <td>4.10</td>\n",
       "      <td>4.10</td>\n",
       "      <td>3.61</td>\n",
       "      <td>3.72</td>\n",
       "      <td>3.72</td>\n",
       "      <td>103740100</td>\n",
       "    </tr>\n",
       "    <tr>\n",
       "      <th>1</th>\n",
       "      <td>737427.0</td>\n",
       "      <td>3.50</td>\n",
       "      <td>3.90</td>\n",
       "      <td>3.48</td>\n",
       "      <td>3.83</td>\n",
       "      <td>3.83</td>\n",
       "      <td>82892400</td>\n",
       "    </tr>\n",
       "    <tr>\n",
       "      <th>2</th>\n",
       "      <td>737430.0</td>\n",
       "      <td>4.19</td>\n",
       "      <td>4.24</td>\n",
       "      <td>3.66</td>\n",
       "      <td>3.68</td>\n",
       "      <td>3.68</td>\n",
       "      <td>106619700</td>\n",
       "    </tr>\n",
       "    <tr>\n",
       "      <th>3</th>\n",
       "      <td>737431.0</td>\n",
       "      <td>3.70</td>\n",
       "      <td>3.73</td>\n",
       "      <td>3.21</td>\n",
       "      <td>3.24</td>\n",
       "      <td>3.24</td>\n",
       "      <td>106336400</td>\n",
       "    </tr>\n",
       "    <tr>\n",
       "      <th>4</th>\n",
       "      <td>737432.0</td>\n",
       "      <td>3.14</td>\n",
       "      <td>3.49</td>\n",
       "      <td>3.13</td>\n",
       "      <td>3.39</td>\n",
       "      <td>3.39</td>\n",
       "      <td>65118100</td>\n",
       "    </tr>\n",
       "  </tbody>\n",
       "</table>\n",
       "</div>"
      ],
      "text/plain": [
       "       Date  Open  High   Low  Close  Adj Close     Volume\n",
       "0  737426.0  4.10  4.10  3.61   3.72       3.72  103740100\n",
       "1  737427.0  3.50  3.90  3.48   3.83       3.83   82892400\n",
       "2  737430.0  4.19  4.24  3.66   3.68       3.68  106619700\n",
       "3  737431.0  3.70  3.73  3.21   3.24       3.24  106336400\n",
       "4  737432.0  3.14  3.49  3.13   3.39       3.39   65118100"
      ]
     },
     "execution_count": 3,
     "metadata": {},
     "output_type": "execute_result"
    }
   ],
   "source": [
    "df_ohlc = niodf.copy()\n",
    "df_ohlc.reset_index(inplace=True)\n",
    "df_ohlc['Date'] = df_ohlc['Date'].map(mdates.date2num)\n",
    "df_ohlc.head()"
   ]
  },
  {
   "cell_type": "code",
   "execution_count": 4,
   "metadata": {},
   "outputs": [
    {
     "data": {
      "image/png": "[encoded data removed]",
      "text/plain": [
       "<Figure size 432x288 with 2 Axes>"
      ]
     },
     "metadata": {
      "needs_background": "light"
     },
     "output_type": "display_data"
    }
   ],
   "source": [
    "#candlestick chart\n",
    "ax1 = plt.subplot2grid((6,1),(0,0),rowspan=5, colspan=1)\n",
    "ax2 = plt.subplot2grid((6,1),(5,0),rowspan=1, colspan=1)\n",
    "ax1.xaxis_date()\n",
    "ax2.bar(df_ohlc.index, df_ohlc['Volume'])\n",
    "candlestick_ohlc(ax1, df_ohlc.values, width=2, colorup='g')\n",
    "plt.show()"
   ]
  },
  {
   "cell_type": "code",
   "execution_count": 5,
   "metadata": {
    "scrolled": true
   },
   "outputs": [
    {
     "data": {
      "text/plain": [
       "<matplotlib.axes._subplots.AxesSubplot at 0x7f8c26d1c190>"
      ]
     },
     "execution_count": 5,
     "metadata": {},
     "output_type": "execute_result"
    },
    {
     "data": {
      "image/png": "[encoded data removed]",
      "text/plain": [
       "<Figure size 432x288 with 1 Axes>"
      ]
     },
     "metadata": {
      "needs_background": "light"
     },
     "output_type": "display_data"
    }
   ],
   "source": [
    "niodf['Adj Close'].plot(title='NIO Stock Price')"
   ]
  },
  {
   "cell_type": "code",
   "execution_count": 6,
   "metadata": {},
   "outputs": [],
   "source": [
    "nio = yf.Ticker(\"NIO\")"
   ]
  },
  {
   "cell_type": "code",
   "execution_count": 7,
   "metadata": {
    "scrolled": true
   },
   "outputs": [
    {
     "data": {
      "text/html": [
       "<div>\n",
       "<style scoped>\n",
       "    .dataframe tbody tr th:only-of-type {\n",
       "        vertical-align: middle;\n",
       "    }\n",
       "\n",
       "    .dataframe tbody tr th {\n",
       "        vertical-align: top;\n",
       "    }\n",
       "\n",
       "    .dataframe thead th {\n",
       "        text-align: right;\n",
       "    }\n",
       "</style>\n",
       "<table border=\"1\" class=\"dataframe\">\n",
       "  <thead>\n",
       "    <tr style=\"text-align: right;\">\n",
       "      <th></th>\n",
       "      <th>Firm</th>\n",
       "      <th>To Grade</th>\n",
       "      <th>From Grade</th>\n",
       "      <th>Action</th>\n",
       "    </tr>\n",
       "    <tr>\n",
       "      <th>Date</th>\n",
       "      <th></th>\n",
       "      <th></th>\n",
       "      <th></th>\n",
       "      <th></th>\n",
       "    </tr>\n",
       "  </thead>\n",
       "  <tbody>\n",
       "    <tr>\n",
       "      <th>2019-03-06 12:37:56</th>\n",
       "      <td>Bank of America</td>\n",
       "      <td>Underperform</td>\n",
       "      <td>Neutral</td>\n",
       "      <td>down</td>\n",
       "    </tr>\n",
       "    <tr>\n",
       "      <th>2019-04-04 11:23:47</th>\n",
       "      <td>Citigroup</td>\n",
       "      <td>Buy</td>\n",
       "      <td>Neutral</td>\n",
       "      <td>up</td>\n",
       "    </tr>\n",
       "    <tr>\n",
       "      <th>2019-04-04 12:54:56</th>\n",
       "      <td>Bank of America</td>\n",
       "      <td>Neutral</td>\n",
       "      <td>Underperform</td>\n",
       "      <td>up</td>\n",
       "    </tr>\n",
       "    <tr>\n",
       "      <th>2019-05-08 13:01:32</th>\n",
       "      <td>UBS</td>\n",
       "      <td>Neutral</td>\n",
       "      <td></td>\n",
       "      <td>main</td>\n",
       "    </tr>\n",
       "    <tr>\n",
       "      <th>2019-05-29 10:45:21</th>\n",
       "      <td>Bank of America</td>\n",
       "      <td>Underperform</td>\n",
       "      <td>Neutral</td>\n",
       "      <td>down</td>\n",
       "    </tr>\n",
       "    <tr>\n",
       "      <th>2019-09-26 10:41:36</th>\n",
       "      <td>Morgan Stanley</td>\n",
       "      <td>Equal-Weight</td>\n",
       "      <td>Overweight</td>\n",
       "      <td>down</td>\n",
       "    </tr>\n",
       "    <tr>\n",
       "      <th>2019-09-26 13:10:54</th>\n",
       "      <td>Wolfe Research</td>\n",
       "      <td>Peer Perform</td>\n",
       "      <td>Outperform</td>\n",
       "      <td>down</td>\n",
       "    </tr>\n",
       "    <tr>\n",
       "      <th>2019-10-04 13:22:04</th>\n",
       "      <td>Goldman Sachs</td>\n",
       "      <td>Neutral</td>\n",
       "      <td>Buy</td>\n",
       "      <td>down</td>\n",
       "    </tr>\n",
       "    <tr>\n",
       "      <th>2020-02-25 12:00:27</th>\n",
       "      <td>Bernstein</td>\n",
       "      <td>Market Perform</td>\n",
       "      <td>Underperform</td>\n",
       "      <td>up</td>\n",
       "    </tr>\n",
       "    <tr>\n",
       "      <th>2020-05-27 10:51:33</th>\n",
       "      <td>JP Morgan</td>\n",
       "      <td>Neutral</td>\n",
       "      <td>Underweight</td>\n",
       "      <td>up</td>\n",
       "    </tr>\n",
       "    <tr>\n",
       "      <th>2020-06-03 15:24:34</th>\n",
       "      <td>Goldman Sachs</td>\n",
       "      <td>Buy</td>\n",
       "      <td>Neutral</td>\n",
       "      <td>up</td>\n",
       "    </tr>\n",
       "    <tr>\n",
       "      <th>2020-06-24 11:13:10</th>\n",
       "      <td>Goldman Sachs</td>\n",
       "      <td>Neutral</td>\n",
       "      <td>Buy</td>\n",
       "      <td>down</td>\n",
       "    </tr>\n",
       "  </tbody>\n",
       "</table>\n",
       "</div>"
      ],
      "text/plain": [
       "                                Firm        To Grade    From Grade Action\n",
       "Date                                                                     \n",
       "2019-03-06 12:37:56  Bank of America    Underperform       Neutral   down\n",
       "2019-04-04 11:23:47        Citigroup             Buy       Neutral     up\n",
       "2019-04-04 12:54:56  Bank of America         Neutral  Underperform     up\n",
       "2019-05-08 13:01:32              UBS         Neutral                 main\n",
       "2019-05-29 10:45:21  Bank of America    Underperform       Neutral   down\n",
       "2019-09-26 10:41:36   Morgan Stanley    Equal-Weight    Overweight   down\n",
       "2019-09-26 13:10:54   Wolfe Research    Peer Perform    Outperform   down\n",
       "2019-10-04 13:22:04    Goldman Sachs         Neutral           Buy   down\n",
       "2020-02-25 12:00:27        Bernstein  Market Perform  Underperform     up\n",
       "2020-05-27 10:51:33        JP Morgan         Neutral   Underweight     up\n",
       "2020-06-03 15:24:34    Goldman Sachs             Buy       Neutral     up\n",
       "2020-06-24 11:13:10    Goldman Sachs         Neutral           Buy   down"
      ]
     },
     "execution_count": 7,
     "metadata": {},
     "output_type": "execute_result"
    }
   ],
   "source": [
    "nio.recommendations"
   ]
  },
  {
   "cell_type": "code",
   "execution_count": 8,
   "metadata": {},
   "outputs": [
    {
     "data": {
      "text/html": [
       "<div>\n",
       "<style scoped>\n",
       "    .dataframe tbody tr th:only-of-type {\n",
       "        vertical-align: middle;\n",
       "    }\n",
       "\n",
       "    .dataframe tbody tr th {\n",
       "        vertical-align: top;\n",
       "    }\n",
       "\n",
       "    .dataframe thead th {\n",
       "        text-align: right;\n",
       "    }\n",
       "</style>\n",
       "<table border=\"1\" class=\"dataframe\">\n",
       "  <thead>\n",
       "    <tr style=\"text-align: right;\">\n",
       "      <th></th>\n",
       "      <th>Value</th>\n",
       "    </tr>\n",
       "  </thead>\n",
       "  <tbody>\n",
       "    <tr>\n",
       "      <th>Earnings Date</th>\n",
       "      <td>2020-05-28 00:00:00</td>\n",
       "    </tr>\n",
       "    <tr>\n",
       "      <th>Earnings Average</th>\n",
       "      <td>-0.26</td>\n",
       "    </tr>\n",
       "    <tr>\n",
       "      <th>Earnings Low</th>\n",
       "      <td>-0.34</td>\n",
       "    </tr>\n",
       "    <tr>\n",
       "      <th>Earnings High</th>\n",
       "      <td>-0.21</td>\n",
       "    </tr>\n",
       "    <tr>\n",
       "      <th>Revenue Average</th>\n",
       "      <td>495370000</td>\n",
       "    </tr>\n",
       "    <tr>\n",
       "      <th>Revenue Low</th>\n",
       "      <td>486570000</td>\n",
       "    </tr>\n",
       "    <tr>\n",
       "      <th>Revenue High</th>\n",
       "      <td>505340000</td>\n",
       "    </tr>\n",
       "  </tbody>\n",
       "</table>\n",
       "</div>"
      ],
      "text/plain": [
       "                                Value\n",
       "Earnings Date     2020-05-28 00:00:00\n",
       "Earnings Average                -0.26\n",
       "Earnings Low                    -0.34\n",
       "Earnings High                   -0.21\n",
       "Revenue Average             495370000\n",
       "Revenue Low                 486570000\n",
       "Revenue High                505340000"
      ]
     },
     "execution_count": 8,
     "metadata": {},
     "output_type": "execute_result"
    }
   ],
   "source": [
    "nio.calendar"
   ]
  },
  {
   "cell_type": "code",
   "execution_count": 9,
   "metadata": {},
   "outputs": [
    {
     "data": {
      "text/html": [
       "<div>\n",
       "<style scoped>\n",
       "    .dataframe tbody tr th:only-of-type {\n",
       "        vertical-align: middle;\n",
       "    }\n",
       "\n",
       "    .dataframe tbody tr th {\n",
       "        vertical-align: top;\n",
       "    }\n",
       "\n",
       "    .dataframe thead th {\n",
       "        text-align: right;\n",
       "    }\n",
       "</style>\n",
       "<table border=\"1\" class=\"dataframe\">\n",
       "  <thead>\n",
       "    <tr style=\"text-align: right;\">\n",
       "      <th></th>\n",
       "      <th>0</th>\n",
       "      <th>1</th>\n",
       "    </tr>\n",
       "  </thead>\n",
       "  <tbody>\n",
       "    <tr>\n",
       "      <th>0</th>\n",
       "      <td>0.72%</td>\n",
       "      <td>% of Shares Held by All Insider</td>\n",
       "    </tr>\n",
       "    <tr>\n",
       "      <th>1</th>\n",
       "      <td>42.29%</td>\n",
       "      <td>% of Shares Held by Institutions</td>\n",
       "    </tr>\n",
       "    <tr>\n",
       "      <th>2</th>\n",
       "      <td>42.59%</td>\n",
       "      <td>% of Float Held by Institutions</td>\n",
       "    </tr>\n",
       "    <tr>\n",
       "      <th>3</th>\n",
       "      <td>310</td>\n",
       "      <td>Number of Institutions Holding Shares</td>\n",
       "    </tr>\n",
       "  </tbody>\n",
       "</table>\n",
       "</div>"
      ],
      "text/plain": [
       "        0                                      1\n",
       "0   0.72%        % of Shares Held by All Insider\n",
       "1  42.29%       % of Shares Held by Institutions\n",
       "2  42.59%        % of Float Held by Institutions\n",
       "3     310  Number of Institutions Holding Shares"
      ]
     },
     "execution_count": 9,
     "metadata": {},
     "output_type": "execute_result"
    }
   ],
   "source": [
    "nio.major_holders"
   ]
  },
  {
   "cell_type": "code",
   "execution_count": 10,
   "metadata": {},
   "outputs": [
    {
     "data": {
      "text/html": [
       "<div>\n",
       "<style scoped>\n",
       "    .dataframe tbody tr th:only-of-type {\n",
       "        vertical-align: middle;\n",
       "    }\n",
       "\n",
       "    .dataframe tbody tr th {\n",
       "        vertical-align: top;\n",
       "    }\n",
       "\n",
       "    .dataframe thead th {\n",
       "        text-align: right;\n",
       "    }\n",
       "</style>\n",
       "<table border=\"1\" class=\"dataframe\">\n",
       "  <thead>\n",
       "    <tr style=\"text-align: right;\">\n",
       "      <th></th>\n",
       "      <th>Holder</th>\n",
       "      <th>Shares</th>\n",
       "      <th>Date Reported</th>\n",
       "      <th>% Out</th>\n",
       "      <th>Value</th>\n",
       "    </tr>\n",
       "  </thead>\n",
       "  <tbody>\n",
       "    <tr>\n",
       "      <th>0</th>\n",
       "      <td>Baillie Gifford and Company</td>\n",
       "      <td>101744131</td>\n",
       "      <td>2020-03-30</td>\n",
       "      <td>0.6359</td>\n",
       "      <td>282848684</td>\n",
       "    </tr>\n",
       "    <tr>\n",
       "      <th>1</th>\n",
       "      <td>Blackrock Inc.</td>\n",
       "      <td>31618922</td>\n",
       "      <td>2020-03-30</td>\n",
       "      <td>0.1976</td>\n",
       "      <td>87900603</td>\n",
       "    </tr>\n",
       "    <tr>\n",
       "      <th>2</th>\n",
       "      <td>Vanguard Group, Inc. (The)</td>\n",
       "      <td>27491643</td>\n",
       "      <td>2020-03-30</td>\n",
       "      <td>0.1718</td>\n",
       "      <td>76426767</td>\n",
       "    </tr>\n",
       "    <tr>\n",
       "      <th>3</th>\n",
       "      <td>Morgan Stanley</td>\n",
       "      <td>15635507</td>\n",
       "      <td>2020-03-30</td>\n",
       "      <td>0.0977</td>\n",
       "      <td>43466709</td>\n",
       "    </tr>\n",
       "    <tr>\n",
       "      <th>4</th>\n",
       "      <td>State Street Corporation</td>\n",
       "      <td>14546410</td>\n",
       "      <td>2020-03-30</td>\n",
       "      <td>0.0909</td>\n",
       "      <td>40439019</td>\n",
       "    </tr>\n",
       "    <tr>\n",
       "      <th>5</th>\n",
       "      <td>Temasek Holdings (Private) Limited</td>\n",
       "      <td>13894117</td>\n",
       "      <td>2020-03-30</td>\n",
       "      <td>0.0868</td>\n",
       "      <td>38625645</td>\n",
       "    </tr>\n",
       "    <tr>\n",
       "      <th>6</th>\n",
       "      <td>Goldman Sachs Group, Inc.</td>\n",
       "      <td>10865494</td>\n",
       "      <td>2020-03-30</td>\n",
       "      <td>0.0679</td>\n",
       "      <td>30206073</td>\n",
       "    </tr>\n",
       "    <tr>\n",
       "      <th>7</th>\n",
       "      <td>Credit Suisse Ag/</td>\n",
       "      <td>9649500</td>\n",
       "      <td>2020-03-30</td>\n",
       "      <td>0.0603</td>\n",
       "      <td>26825610</td>\n",
       "    </tr>\n",
       "    <tr>\n",
       "      <th>8</th>\n",
       "      <td>JP Morgan Chase &amp; Company</td>\n",
       "      <td>6807492</td>\n",
       "      <td>2020-03-30</td>\n",
       "      <td>0.0425</td>\n",
       "      <td>18924827</td>\n",
       "    </tr>\n",
       "    <tr>\n",
       "      <th>9</th>\n",
       "      <td>Primavera Capital Management Ltd</td>\n",
       "      <td>6538507</td>\n",
       "      <td>2020-03-30</td>\n",
       "      <td>0.0409</td>\n",
       "      <td>18177049</td>\n",
       "    </tr>\n",
       "  </tbody>\n",
       "</table>\n",
       "</div>"
      ],
      "text/plain": [
       "                               Holder     Shares Date Reported   % Out  \\\n",
       "0         Baillie Gifford and Company  101744131    2020-03-30  0.6359   \n",
       "1                      Blackrock Inc.   31618922    2020-03-30  0.1976   \n",
       "2          Vanguard Group, Inc. (The)   27491643    2020-03-30  0.1718   \n",
       "3                      Morgan Stanley   15635507    2020-03-30  0.0977   \n",
       "4            State Street Corporation   14546410    2020-03-30  0.0909   \n",
       "5  Temasek Holdings (Private) Limited   13894117    2020-03-30  0.0868   \n",
       "6           Goldman Sachs Group, Inc.   10865494    2020-03-30  0.0679   \n",
       "7                   Credit Suisse Ag/    9649500    2020-03-30  0.0603   \n",
       "8           JP Morgan Chase & Company    6807492    2020-03-30  0.0425   \n",
       "9    Primavera Capital Management Ltd    6538507    2020-03-30  0.0409   \n",
       "\n",
       "       Value  \n",
       "0  282848684  \n",
       "1   87900603  \n",
       "2   76426767  \n",
       "3   43466709  \n",
       "4   40439019  \n",
       "5   38625645  \n",
       "6   30206073  \n",
       "7   26825610  \n",
       "8   18924827  \n",
       "9   18177049  "
      ]
     },
     "execution_count": 10,
     "metadata": {},
     "output_type": "execute_result"
    }
   ],
   "source": [
    "nio.institutional_holders.sort_values(by = '% Out',ascending=False)"
   ]
  },
  {
   "cell_type": "code",
   "execution_count": 11,
   "metadata": {},
   "outputs": [],
   "source": [
    "ticker = 'NIO'\n",
    "yahoo_financials = YahooFinancials(ticker)"
   ]
  },
  {
   "cell_type": "code",
   "execution_count": 12,
   "metadata": {},
   "outputs": [
    {
     "data": {
      "text/plain": [
       "{'balanceSheetHistoryQuarterly': {'NIO': None}}"
      ]
     },
     "execution_count": 12,
     "metadata": {},
     "output_type": "execute_result"
    }
   ],
   "source": [
    "bs = yahoo_financials.get_financial_stmts('quarterly', 'balance')\n",
    "bs"
   ]
  },
  {
   "cell_type": "markdown",
   "metadata": {},
   "source": [
    "# F1 Create a distance variable (observation - mean)^2 , check trading volumn anomalies during earings call dates"
   ]
  },
  {
   "cell_type": "code",
   "execution_count": 13,
   "metadata": {},
   "outputs": [
    {
     "data": {
      "text/plain": [
       "{'Q4': '2020-03-18', 'Q1': '2020-05-28'}"
      ]
     },
     "execution_count": 13,
     "metadata": {},
     "output_type": "execute_result"
    }
   ],
   "source": [
    "earningsdate = {'Q4':\"2020-03-18\",'Q1':'2020-05-28'}\n",
    "earningsdate"
   ]
  },
  {
   "cell_type": "code",
   "execution_count": 14,
   "metadata": {},
   "outputs": [
    {
     "data": {
      "text/html": [
       "<div>\n",
       "<style scoped>\n",
       "    .dataframe tbody tr th:only-of-type {\n",
       "        vertical-align: middle;\n",
       "    }\n",
       "\n",
       "    .dataframe tbody tr th {\n",
       "        vertical-align: top;\n",
       "    }\n",
       "\n",
       "    .dataframe thead th {\n",
       "        text-align: right;\n",
       "    }\n",
       "</style>\n",
       "<table border=\"1\" class=\"dataframe\">\n",
       "  <thead>\n",
       "    <tr style=\"text-align: right;\">\n",
       "      <th></th>\n",
       "      <th>Open</th>\n",
       "      <th>High</th>\n",
       "      <th>Low</th>\n",
       "      <th>Close</th>\n",
       "      <th>Adj Close</th>\n",
       "      <th>Volume</th>\n",
       "      <th>Distance</th>\n",
       "    </tr>\n",
       "    <tr>\n",
       "      <th>Date</th>\n",
       "      <th></th>\n",
       "      <th></th>\n",
       "      <th></th>\n",
       "      <th></th>\n",
       "      <th></th>\n",
       "      <th></th>\n",
       "      <th></th>\n",
       "    </tr>\n",
       "  </thead>\n",
       "  <tbody>\n",
       "    <tr>\n",
       "      <th>2020-01-02</th>\n",
       "      <td>4.10</td>\n",
       "      <td>4.10</td>\n",
       "      <td>3.61</td>\n",
       "      <td>3.72</td>\n",
       "      <td>3.72</td>\n",
       "      <td>103740100</td>\n",
       "      <td>1.561944e+15</td>\n",
       "    </tr>\n",
       "    <tr>\n",
       "      <th>2020-01-03</th>\n",
       "      <td>3.50</td>\n",
       "      <td>3.90</td>\n",
       "      <td>3.48</td>\n",
       "      <td>3.83</td>\n",
       "      <td>3.83</td>\n",
       "      <td>82892400</td>\n",
       "      <td>3.487086e+14</td>\n",
       "    </tr>\n",
       "    <tr>\n",
       "      <th>2020-01-06</th>\n",
       "      <td>4.19</td>\n",
       "      <td>4.24</td>\n",
       "      <td>3.66</td>\n",
       "      <td>3.68</td>\n",
       "      <td>3.68</td>\n",
       "      <td>106619700</td>\n",
       "      <td>1.797848e+15</td>\n",
       "    </tr>\n",
       "    <tr>\n",
       "      <th>2020-01-07</th>\n",
       "      <td>3.70</td>\n",
       "      <td>3.73</td>\n",
       "      <td>3.21</td>\n",
       "      <td>3.24</td>\n",
       "      <td>3.24</td>\n",
       "      <td>106336400</td>\n",
       "      <td>1.773904e+15</td>\n",
       "    </tr>\n",
       "    <tr>\n",
       "      <th>2020-01-08</th>\n",
       "      <td>3.14</td>\n",
       "      <td>3.49</td>\n",
       "      <td>3.13</td>\n",
       "      <td>3.39</td>\n",
       "      <td>3.39</td>\n",
       "      <td>65118100</td>\n",
       "      <td>8.089926e+11</td>\n",
       "    </tr>\n",
       "  </tbody>\n",
       "</table>\n",
       "</div>"
      ],
      "text/plain": [
       "            Open  High   Low  Close  Adj Close     Volume      Distance\n",
       "Date                                                                   \n",
       "2020-01-02  4.10  4.10  3.61   3.72       3.72  103740100  1.561944e+15\n",
       "2020-01-03  3.50  3.90  3.48   3.83       3.83   82892400  3.487086e+14\n",
       "2020-01-06  4.19  4.24  3.66   3.68       3.68  106619700  1.797848e+15\n",
       "2020-01-07  3.70  3.73  3.21   3.24       3.24  106336400  1.773904e+15\n",
       "2020-01-08  3.14  3.49  3.13   3.39       3.39   65118100  8.089926e+11"
      ]
     },
     "execution_count": 14,
     "metadata": {},
     "output_type": "execute_result"
    }
   ],
   "source": [
    "# calculate distance\n",
    "niodf.Volume.mean()\n",
    "niodf['Distance'] = (niodf['Volume'] - 64218659.836065575 )*(niodf['Volume'] - 64218659.836065575 )\n",
    "niodf.head()"
   ]
  },
  {
   "cell_type": "code",
   "execution_count": 15,
   "metadata": {
    "scrolled": true
   },
   "outputs": [
    {
     "data": {
      "text/plain": [
       "<matplotlib.lines.Line2D at 0x7f8c1f114e10>"
      ]
     },
     "execution_count": 15,
     "metadata": {},
     "output_type": "execute_result"
    },
    {
     "data": {
      "image/png": "[encoded data removed]",
      "text/plain": [
       "<Figure size 1008x288 with 1 Axes>"
      ]
     },
     "metadata": {
      "needs_background": "light"
     },
     "output_type": "display_data"
    }
   ],
   "source": [
    "# graph the volume column\n",
    "fig_dims = (14, 4)\n",
    "fig, ax = plt.subplots(figsize=fig_dims)\n",
    "sns.lineplot(x = niodf.index,  y=\"Volume\", ax=ax, data=niodf)\n",
    "plt.axvline(pd.to_datetime(earningsdate['Q4']), color='r')\n",
    "plt.axvline(pd.to_datetime(earningsdate['Q1']), color='g')"
   ]
  },
  {
   "cell_type": "markdown",
   "metadata": {},
   "source": [
    "### The trading volume prior to earnings call dates are similar. There was only a slight increase on the date of the earnings call. The earningscall fraud may be less likely."
   ]
  },
  {
   "cell_type": "code",
   "execution_count": 16,
   "metadata": {},
   "outputs": [
    {
     "data": {
      "text/html": [
       "<div>\n",
       "<style scoped>\n",
       "    .dataframe tbody tr th:only-of-type {\n",
       "        vertical-align: middle;\n",
       "    }\n",
       "\n",
       "    .dataframe tbody tr th {\n",
       "        vertical-align: top;\n",
       "    }\n",
       "\n",
       "    .dataframe thead th {\n",
       "        text-align: right;\n",
       "    }\n",
       "</style>\n",
       "<table border=\"1\" class=\"dataframe\">\n",
       "  <thead>\n",
       "    <tr style=\"text-align: right;\">\n",
       "      <th></th>\n",
       "      <th>Open</th>\n",
       "      <th>High</th>\n",
       "      <th>Low</th>\n",
       "      <th>Close</th>\n",
       "      <th>Adj Close</th>\n",
       "      <th>Volume</th>\n",
       "      <th>Distance</th>\n",
       "    </tr>\n",
       "    <tr>\n",
       "      <th>Date</th>\n",
       "      <th></th>\n",
       "      <th></th>\n",
       "      <th></th>\n",
       "      <th></th>\n",
       "      <th></th>\n",
       "      <th></th>\n",
       "      <th></th>\n",
       "    </tr>\n",
       "  </thead>\n",
       "  <tbody>\n",
       "    <tr>\n",
       "      <th>2020-01-15</th>\n",
       "      <td>4.19</td>\n",
       "      <td>4.48</td>\n",
       "      <td>4.00</td>\n",
       "      <td>4.29</td>\n",
       "      <td>4.29</td>\n",
       "      <td>236357900</td>\n",
       "      <td>2.963192e+16</td>\n",
       "    </tr>\n",
       "    <tr>\n",
       "      <th>2020-01-22</th>\n",
       "      <td>5.42</td>\n",
       "      <td>5.65</td>\n",
       "      <td>4.69</td>\n",
       "      <td>4.79</td>\n",
       "      <td>4.79</td>\n",
       "      <td>207132700</td>\n",
       "      <td>2.042442e+16</td>\n",
       "    </tr>\n",
       "    <tr>\n",
       "      <th>2020-02-25</th>\n",
       "      <td>5.18</td>\n",
       "      <td>5.19</td>\n",
       "      <td>4.24</td>\n",
       "      <td>4.40</td>\n",
       "      <td>4.40</td>\n",
       "      <td>206259400</td>\n",
       "      <td>2.017557e+16</td>\n",
       "    </tr>\n",
       "    <tr>\n",
       "      <th>2020-06-03</th>\n",
       "      <td>5.00</td>\n",
       "      <td>5.70</td>\n",
       "      <td>4.98</td>\n",
       "      <td>5.60</td>\n",
       "      <td>5.60</td>\n",
       "      <td>199210000</td>\n",
       "      <td>1.822266e+16</td>\n",
       "    </tr>\n",
       "  </tbody>\n",
       "</table>\n",
       "</div>"
      ],
      "text/plain": [
       "            Open  High   Low  Close  Adj Close     Volume      Distance\n",
       "Date                                                                   \n",
       "2020-01-15  4.19  4.48  4.00   4.29       4.29  236357900  2.963192e+16\n",
       "2020-01-22  5.42  5.65  4.69   4.79       4.79  207132700  2.042442e+16\n",
       "2020-02-25  5.18  5.19  4.24   4.40       4.40  206259400  2.017557e+16\n",
       "2020-06-03  5.00  5.70  4.98   5.60       5.60  199210000  1.822266e+16"
      ]
     },
     "execution_count": 16,
     "metadata": {},
     "output_type": "execute_result"
    }
   ],
   "source": [
    "niodf[niodf['Volume']>190000000]"
   ]
  },
  {
   "cell_type": "code",
   "execution_count": 17,
   "metadata": {},
   "outputs": [
    {
     "data": {
      "text/plain": [
       "<matplotlib.lines.Line2D at 0x7f8c1f141a50>"
      ]
     },
     "execution_count": 17,
     "metadata": {},
     "output_type": "execute_result"
    },
    {
     "data": {
      "image/png": "[encoded data removed]",
      "text/plain": [
       "<Figure size 432x288 with 1 Axes>"
      ]
     },
     "metadata": {
      "needs_background": "light"
     },
     "output_type": "display_data"
    }
   ],
   "source": [
    "# graph the volume column\n",
    "sns.lineplot(x = niodf.index,  y=\"Distance\", data=niodf)\n",
    "plt.axvline(pd.to_datetime(earningsdate['Q4']), color='r')\n",
    "plt.axvline(pd.to_datetime(earningsdate['Q1']), color='g')"
   ]
  },
  {
   "cell_type": "markdown",
   "metadata": {},
   "source": [
    "### Trading on insider information for the earnings call in March may be likely. As we see in late February, there was a large deviation from a normal trading day volume. "
   ]
  },
  {
   "cell_type": "code",
   "execution_count": 18,
   "metadata": {},
   "outputs": [
    {
     "data": {
      "text/plain": [
       "DatetimeIndex(['2020-01-15', '2020-01-22', '2020-02-25', '2020-06-03'], dtype='datetime64[ns]', name='Date', freq=None)"
      ]
     },
     "execution_count": 18,
     "metadata": {},
     "output_type": "execute_result"
    }
   ],
   "source": [
    "niodf[niodf['Distance']>18000000000000000].index"
   ]
  },
  {
   "cell_type": "markdown",
   "metadata": {},
   "source": [
    "### The distance graph is a smooth-out version of the volume graph, but the peaks (outliers) are more obvious in the distance graph. The following four dates exhibit abnormal behaviors from the mean. '2020-01-15', '2020-01-22', '2020-02-25', '2020-06-03'"
   ]
  },
  {
   "cell_type": "markdown",
   "metadata": {},
   "source": [
    "# F2 99% confidence interval on volume"
   ]
  },
  {
   "cell_type": "code",
   "execution_count": 19,
   "metadata": {},
   "outputs": [],
   "source": [
    "from statistics import stdev\n",
    "import math"
   ]
  },
  {
   "cell_type": "code",
   "execution_count": 20,
   "metadata": {},
   "outputs": [],
   "source": [
    "def mean_confidence_interval(data, confidence=0.95):\n",
    "    a = 1.0 * np.array(data)\n",
    "    n = len(a)\n",
    "    m, se = np.mean(a), scipy.stats.sem(a)\n",
    "    h = se * scipy.stats.t.ppf((1 + confidence) / 2., n-1)\n",
    "    return m, m-h, m+h"
   ]
  },
  {
   "cell_type": "code",
   "execution_count": 21,
   "metadata": {},
   "outputs": [
    {
     "data": {
      "text/plain": [
       "(64218659.836065575, 48711224.72196652, 79726094.95016463)"
      ]
     },
     "execution_count": 21,
     "metadata": {},
     "output_type": "execute_result"
    }
   ],
   "source": [
    "mean_confidence_interval(niodf['Volume'],confidence=0.9999)"
   ]
  },
  {
   "cell_type": "code",
   "execution_count": 22,
   "metadata": {},
   "outputs": [],
   "source": [
    "def confunction(x):\n",
    "    if x < mean_confidence_interval(niodf['Volume'],confidence=0.9999)[1]:\n",
    "        return 1\n",
    "    elif x > mean_confidence_interval(niodf['Volume'],confidence=0.9999)[2]:\n",
    "        return 1\n",
    "    else:\n",
    "        return 0"
   ]
  },
  {
   "cell_type": "code",
   "execution_count": 23,
   "metadata": {},
   "outputs": [],
   "source": [
    "niodf['Confint'] = niodf['Volume'].apply(confunction)"
   ]
  },
  {
   "cell_type": "code",
   "execution_count": 24,
   "metadata": {},
   "outputs": [
    {
     "data": {
      "text/plain": [
       "count    122.000000\n",
       "mean       0.663934\n",
       "std        0.474310\n",
       "min        0.000000\n",
       "25%        0.000000\n",
       "50%        1.000000\n",
       "75%        1.000000\n",
       "max        1.000000\n",
       "Name: Confint, dtype: float64"
      ]
     },
     "execution_count": 24,
     "metadata": {},
     "output_type": "execute_result"
    }
   ],
   "source": [
    "niodf.Confint.describe()"
   ]
  },
  {
   "cell_type": "code",
   "execution_count": 25,
   "metadata": {},
   "outputs": [
    {
     "data": {
      "text/plain": [
       "Text(0.5, 1.0, 'Dates out of the confidence interval')"
      ]
     },
     "execution_count": 25,
     "metadata": {},
     "output_type": "execute_result"
    },
    {
     "data": {
      "image/png": "[encoded data removed]",
      "text/plain": [
       "<Figure size 432x288 with 1 Axes>"
      ]
     },
     "metadata": {
      "needs_background": "light"
     },
     "output_type": "display_data"
    }
   ],
   "source": [
    "fig, ax = plt.subplots()\n",
    "ax.plot_date(x=niodf.index , y=niodf['Confint'])\n",
    "ax.set_title(\"Dates out of the confidence interval\")"
   ]
  },
  {
   "cell_type": "markdown",
   "metadata": {},
   "source": [
    "### 66% fall outside of the 99.99% confidence intervale due to these data not being normally distributed. This feature is less useful than others. "
   ]
  },
  {
   "cell_type": "markdown",
   "metadata": {},
   "source": [
    "# F3 Confidence Interval on Price"
   ]
  },
  {
   "cell_type": "code",
   "execution_count": 26,
   "metadata": {},
   "outputs": [
    {
     "data": {
      "text/plain": [
       "(3.9828688531625467, 3.6932258157321187, 4.272511890592974)"
      ]
     },
     "execution_count": 26,
     "metadata": {},
     "output_type": "execute_result"
    }
   ],
   "source": [
    "mean_confidence_interval(niodf['Adj Close'],confidence=0.99)"
   ]
  },
  {
   "cell_type": "code",
   "execution_count": 27,
   "metadata": {},
   "outputs": [],
   "source": [
    "def confunction(x):\n",
    "    if x < mean_confidence_interval(niodf['Adj Close'],confidence=0.99)[1]:\n",
    "        return 1\n",
    "    elif x > mean_confidence_interval(niodf['Adj Close'],confidence=0.99)[2]:\n",
    "        return 1\n",
    "    else:\n",
    "        return 0"
   ]
  },
  {
   "cell_type": "code",
   "execution_count": 28,
   "metadata": {},
   "outputs": [],
   "source": [
    "niodf['PriceConfint'] = niodf['Adj Close'].apply(confunction)"
   ]
  },
  {
   "cell_type": "code",
   "execution_count": 29,
   "metadata": {},
   "outputs": [
    {
     "data": {
      "text/plain": [
       "count    122.000000\n",
       "mean       0.713115\n",
       "std        0.454173\n",
       "min        0.000000\n",
       "25%        0.000000\n",
       "50%        1.000000\n",
       "75%        1.000000\n",
       "max        1.000000\n",
       "Name: PriceConfint, dtype: float64"
      ]
     },
     "execution_count": 29,
     "metadata": {},
     "output_type": "execute_result"
    }
   ],
   "source": [
    "niodf['PriceConfint'].describe()"
   ]
  },
  {
   "cell_type": "code",
   "execution_count": 30,
   "metadata": {},
   "outputs": [
    {
     "data": {
      "text/plain": [
       "Text(0.5, 1.0, 'Dates out of the confidence interval')"
      ]
     },
     "execution_count": 30,
     "metadata": {},
     "output_type": "execute_result"
    },
    {
     "data": {
      "image/png": "[encoded data removed]",
      "text/plain": [
       "<Figure size 432x288 with 1 Axes>"
      ]
     },
     "metadata": {
      "needs_background": "light"
     },
     "output_type": "display_data"
    }
   ],
   "source": [
    "fig, ax = plt.subplots()\n",
    "ax.plot_date(x=niodf.index , y=niodf['PriceConfint'])\n",
    "ax.set_title(\"Dates out of the confidence interval\")"
   ]
  },
  {
   "cell_type": "markdown",
   "metadata": {},
   "source": [
    "### Similar to the above confidence interval, this may not be a good fraud detection indicator. "
   ]
  },
  {
   "cell_type": "markdown",
   "metadata": {},
   "source": [
    "# F4 Daily percentage chagne of volume: Volume(T)/Volume(T+1)-1"
   ]
  },
  {
   "cell_type": "code",
   "execution_count": 31,
   "metadata": {},
   "outputs": [],
   "source": [
    "niodf['VolumePer'] = niodf['Volume']/niodf['Volume'].shift(1)-1"
   ]
  },
  {
   "cell_type": "code",
   "execution_count": 32,
   "metadata": {
    "scrolled": true
   },
   "outputs": [
    {
     "data": {
      "text/plain": [
       "Open            float64\n",
       "High            float64\n",
       "Low             float64\n",
       "Close           float64\n",
       "Adj Close       float64\n",
       "Volume            int64\n",
       "Distance        float64\n",
       "Confint           int64\n",
       "PriceConfint      int64\n",
       "VolumePer       float64\n",
       "dtype: object"
      ]
     },
     "execution_count": 32,
     "metadata": {},
     "output_type": "execute_result"
    }
   ],
   "source": [
    "niodf.dtypes"
   ]
  },
  {
   "cell_type": "code",
   "execution_count": 33,
   "metadata": {},
   "outputs": [
    {
     "data": {
      "text/html": [
       "<div>\n",
       "<style scoped>\n",
       "    .dataframe tbody tr th:only-of-type {\n",
       "        vertical-align: middle;\n",
       "    }\n",
       "\n",
       "    .dataframe tbody tr th {\n",
       "        vertical-align: top;\n",
       "    }\n",
       "\n",
       "    .dataframe thead th {\n",
       "        text-align: right;\n",
       "    }\n",
       "</style>\n",
       "<table border=\"1\" class=\"dataframe\">\n",
       "  <thead>\n",
       "    <tr style=\"text-align: right;\">\n",
       "      <th></th>\n",
       "      <th>Date</th>\n",
       "      <th>Open</th>\n",
       "      <th>High</th>\n",
       "      <th>Low</th>\n",
       "      <th>Close</th>\n",
       "      <th>Adj Close</th>\n",
       "      <th>Volume</th>\n",
       "      <th>Distance</th>\n",
       "      <th>Confint</th>\n",
       "      <th>PriceConfint</th>\n",
       "      <th>VolumePer</th>\n",
       "    </tr>\n",
       "  </thead>\n",
       "  <tbody>\n",
       "    <tr>\n",
       "      <th>0</th>\n",
       "      <td>2020-01-02</td>\n",
       "      <td>4.10</td>\n",
       "      <td>4.10</td>\n",
       "      <td>3.61</td>\n",
       "      <td>3.72</td>\n",
       "      <td>3.72</td>\n",
       "      <td>103740100</td>\n",
       "      <td>1.561944e+15</td>\n",
       "      <td>1</td>\n",
       "      <td>0</td>\n",
       "      <td>NaN</td>\n",
       "    </tr>\n",
       "    <tr>\n",
       "      <th>1</th>\n",
       "      <td>2020-01-03</td>\n",
       "      <td>3.50</td>\n",
       "      <td>3.90</td>\n",
       "      <td>3.48</td>\n",
       "      <td>3.83</td>\n",
       "      <td>3.83</td>\n",
       "      <td>82892400</td>\n",
       "      <td>3.487086e+14</td>\n",
       "      <td>1</td>\n",
       "      <td>0</td>\n",
       "      <td>-0.200961</td>\n",
       "    </tr>\n",
       "    <tr>\n",
       "      <th>2</th>\n",
       "      <td>2020-01-06</td>\n",
       "      <td>4.19</td>\n",
       "      <td>4.24</td>\n",
       "      <td>3.66</td>\n",
       "      <td>3.68</td>\n",
       "      <td>3.68</td>\n",
       "      <td>106619700</td>\n",
       "      <td>1.797848e+15</td>\n",
       "      <td>1</td>\n",
       "      <td>1</td>\n",
       "      <td>0.286242</td>\n",
       "    </tr>\n",
       "    <tr>\n",
       "      <th>3</th>\n",
       "      <td>2020-01-07</td>\n",
       "      <td>3.70</td>\n",
       "      <td>3.73</td>\n",
       "      <td>3.21</td>\n",
       "      <td>3.24</td>\n",
       "      <td>3.24</td>\n",
       "      <td>106336400</td>\n",
       "      <td>1.773904e+15</td>\n",
       "      <td>1</td>\n",
       "      <td>1</td>\n",
       "      <td>-0.002657</td>\n",
       "    </tr>\n",
       "    <tr>\n",
       "      <th>4</th>\n",
       "      <td>2020-01-08</td>\n",
       "      <td>3.14</td>\n",
       "      <td>3.49</td>\n",
       "      <td>3.13</td>\n",
       "      <td>3.39</td>\n",
       "      <td>3.39</td>\n",
       "      <td>65118100</td>\n",
       "      <td>8.089926e+11</td>\n",
       "      <td>0</td>\n",
       "      <td>1</td>\n",
       "      <td>-0.387622</td>\n",
       "    </tr>\n",
       "  </tbody>\n",
       "</table>\n",
       "</div>"
      ],
      "text/plain": [
       "        Date  Open  High   Low  Close  Adj Close     Volume      Distance  \\\n",
       "0 2020-01-02  4.10  4.10  3.61   3.72       3.72  103740100  1.561944e+15   \n",
       "1 2020-01-03  3.50  3.90  3.48   3.83       3.83   82892400  3.487086e+14   \n",
       "2 2020-01-06  4.19  4.24  3.66   3.68       3.68  106619700  1.797848e+15   \n",
       "3 2020-01-07  3.70  3.73  3.21   3.24       3.24  106336400  1.773904e+15   \n",
       "4 2020-01-08  3.14  3.49  3.13   3.39       3.39   65118100  8.089926e+11   \n",
       "\n",
       "   Confint  PriceConfint  VolumePer  \n",
       "0        1             0        NaN  \n",
       "1        1             0  -0.200961  \n",
       "2        1             1   0.286242  \n",
       "3        1             1  -0.002657  \n",
       "4        0             1  -0.387622  "
      ]
     },
     "execution_count": 33,
     "metadata": {},
     "output_type": "execute_result"
    }
   ],
   "source": [
    "graph=niodf.copy()\n",
    "graph.reset_index(inplace=True)\n",
    "graph.head()"
   ]
  },
  {
   "cell_type": "code",
   "execution_count": 34,
   "metadata": {
    "scrolled": true
   },
   "outputs": [
    {
     "data": {
      "text/plain": [
       "<matplotlib.axes._subplots.AxesSubplot at 0x7f8c08d1ca50>"
      ]
     },
     "execution_count": 34,
     "metadata": {},
     "output_type": "execute_result"
    },
    {
     "data": {
      "image/png": "[encoded data removed]",
      "text/plain": [
       "<Figure size 432x288 with 1 Axes>"
      ]
     },
     "metadata": {
      "needs_background": "light"
     },
     "output_type": "display_data"
    }
   ],
   "source": [
    "# graph of adjusted closing price and percentage change in volume\n",
    "graph.plot(x='Date', y=['VolumePer', \"Adj Close\"], kind=\"line\")"
   ]
  },
  {
   "cell_type": "markdown",
   "metadata": {},
   "source": [
    "### In January, mid March, and April, there was a heavy increase in percentage of trading volume following an increase in adjusted closing price. Then immediately, the price decreased. This could be a fraud."
   ]
  },
  {
   "cell_type": "code",
   "execution_count": 35,
   "metadata": {
    "scrolled": true
   },
   "outputs": [
    {
     "data": {
      "image/png": "[encoded data removed]",
      "text/plain": [
       "<Figure size 432x288 with 2 Axes>"
      ]
     },
     "metadata": {
      "needs_background": "light"
     },
     "output_type": "display_data"
    }
   ],
   "source": [
    "# Graph of percentage change in volume and volume \n",
    "ax1 = plt.subplot2grid((8,1),(0,0),rowspan=5, colspan=1)\n",
    "ax2 = plt.subplot2grid((8,1),(5,0),rowspan=3, colspan=1)\n",
    "ax1.plot(graph.Date, graph.VolumePer, label='%ChangeVolume')\n",
    "ax2.bar(graph.Date, graph.Volume)\n",
    "ax1.axhline(2, color='r',ls='--')\n",
    "plt.title('%ChangeVolume')\n",
    "plt.show()\n"
   ]
  },
  {
   "cell_type": "code",
   "execution_count": 36,
   "metadata": {},
   "outputs": [
    {
     "data": {
      "text/html": [
       "<div>\n",
       "<style scoped>\n",
       "    .dataframe tbody tr th:only-of-type {\n",
       "        vertical-align: middle;\n",
       "    }\n",
       "\n",
       "    .dataframe tbody tr th {\n",
       "        vertical-align: top;\n",
       "    }\n",
       "\n",
       "    .dataframe thead th {\n",
       "        text-align: right;\n",
       "    }\n",
       "</style>\n",
       "<table border=\"1\" class=\"dataframe\">\n",
       "  <thead>\n",
       "    <tr style=\"text-align: right;\">\n",
       "      <th></th>\n",
       "      <th>Open</th>\n",
       "      <th>High</th>\n",
       "      <th>Low</th>\n",
       "      <th>Close</th>\n",
       "      <th>Adj Close</th>\n",
       "      <th>Volume</th>\n",
       "      <th>Distance</th>\n",
       "      <th>Confint</th>\n",
       "      <th>PriceConfint</th>\n",
       "      <th>VolumePer</th>\n",
       "    </tr>\n",
       "    <tr>\n",
       "      <th>Date</th>\n",
       "      <th></th>\n",
       "      <th></th>\n",
       "      <th></th>\n",
       "      <th></th>\n",
       "      <th></th>\n",
       "      <th></th>\n",
       "      <th></th>\n",
       "      <th></th>\n",
       "      <th></th>\n",
       "      <th></th>\n",
       "    </tr>\n",
       "  </thead>\n",
       "  <tbody>\n",
       "    <tr>\n",
       "      <th>2020-01-15</th>\n",
       "      <td>4.19</td>\n",
       "      <td>4.48</td>\n",
       "      <td>4.00</td>\n",
       "      <td>4.29</td>\n",
       "      <td>4.29</td>\n",
       "      <td>236357900</td>\n",
       "      <td>2.963192e+16</td>\n",
       "      <td>1</td>\n",
       "      <td>1</td>\n",
       "      <td>3.282311</td>\n",
       "    </tr>\n",
       "    <tr>\n",
       "      <th>2020-02-25</th>\n",
       "      <td>5.18</td>\n",
       "      <td>5.19</td>\n",
       "      <td>4.24</td>\n",
       "      <td>4.40</td>\n",
       "      <td>4.40</td>\n",
       "      <td>206259400</td>\n",
       "      <td>2.017557e+16</td>\n",
       "      <td>1</td>\n",
       "      <td>1</td>\n",
       "      <td>2.667023</td>\n",
       "    </tr>\n",
       "    <tr>\n",
       "      <th>2020-04-02</th>\n",
       "      <td>2.51</td>\n",
       "      <td>2.59</td>\n",
       "      <td>2.22</td>\n",
       "      <td>2.39</td>\n",
       "      <td>2.39</td>\n",
       "      <td>58942700</td>\n",
       "      <td>2.783575e+13</td>\n",
       "      <td>0</td>\n",
       "      <td>1</td>\n",
       "      <td>2.436131</td>\n",
       "    </tr>\n",
       "  </tbody>\n",
       "</table>\n",
       "</div>"
      ],
      "text/plain": [
       "            Open  High   Low  Close  Adj Close     Volume      Distance  \\\n",
       "Date                                                                      \n",
       "2020-01-15  4.19  4.48  4.00   4.29       4.29  236357900  2.963192e+16   \n",
       "2020-02-25  5.18  5.19  4.24   4.40       4.40  206259400  2.017557e+16   \n",
       "2020-04-02  2.51  2.59  2.22   2.39       2.39   58942700  2.783575e+13   \n",
       "\n",
       "            Confint  PriceConfint  VolumePer  \n",
       "Date                                          \n",
       "2020-01-15        1             1   3.282311  \n",
       "2020-02-25        1             1   2.667023  \n",
       "2020-04-02        0             1   2.436131  "
      ]
     },
     "execution_count": 36,
     "metadata": {},
     "output_type": "execute_result"
    }
   ],
   "source": [
    "niodf[niodf['VolumePer']>2]"
   ]
  },
  {
   "cell_type": "markdown",
   "metadata": {},
   "source": [
    "### There are three trading days that the volume grew over 200% than the previous day. Though the third peak does not stand out in regular volume chart, because the regular volume chart was calculated in absolute volume term."
   ]
  },
  {
   "cell_type": "markdown",
   "metadata": {},
   "source": [
    "# F5 Price: Examine the MACD for price, when the MACD crosses the signal, it may be an opportunity for price manipulation, find those points"
   ]
  },
  {
   "cell_type": "code",
   "execution_count": 37,
   "metadata": {},
   "outputs": [
    {
     "data": {
      "image/png": "[encoded data removed]",
      "text/plain": [
       "<Figure size 432x288 with 1 Axes>"
      ]
     },
     "metadata": {
      "needs_background": "light"
     },
     "output_type": "display_data"
    }
   ],
   "source": [
    "exp1 = niodf.Close.ewm(span=12, adjust=False).mean()\n",
    "exp2 = niodf.Close.ewm(span=26, adjust=False).mean()\n",
    "macd = exp1-exp2\n",
    "exp3 = macd.ewm(span=9, adjust=False).mean()\n",
    "plt.plot( macd, label='NIO MACD', color = '#EBD2BE')\n",
    "plt.plot( exp3, label='Signal Line', color='g')\n",
    "\n",
    "plt.legend(loc='upper left')\n",
    "plt.title('MACD')\n",
    "plt.show()"
   ]
  },
  {
   "cell_type": "code",
   "execution_count": 38,
   "metadata": {},
   "outputs": [
    {
     "data": {
      "text/plain": [
       "6"
      ]
     },
     "execution_count": 38,
     "metadata": {},
     "output_type": "execute_result"
    }
   ],
   "source": [
    "# calculate the Python's bitwise operators and count the number of times it changes\n",
    "niodf['MACD']=macd\n",
    "niodf['Signal']=exp3\n",
    "niodf['Cross']= niodf.MACD < niodf.Signal\n",
    "(niodf.Cross & (niodf.Cross != niodf.Cross.shift(1))).sum()"
   ]
  },
  {
   "cell_type": "markdown",
   "metadata": {},
   "source": [
    "### There are six places where the MACD crosses the signal line, which creates an opportunity for anomalies."
   ]
  },
  {
   "cell_type": "markdown",
   "metadata": {},
   "source": [
    "# F6 fit a straight line to the price, subtract the adjusted price to the straight line, flag the top 10% of the data"
   ]
  },
  {
   "cell_type": "code",
   "execution_count": 39,
   "metadata": {},
   "outputs": [
    {
     "data": {
      "text/html": [
       "<div>\n",
       "<style scoped>\n",
       "    .dataframe tbody tr th:only-of-type {\n",
       "        vertical-align: middle;\n",
       "    }\n",
       "\n",
       "    .dataframe tbody tr th {\n",
       "        vertical-align: top;\n",
       "    }\n",
       "\n",
       "    .dataframe thead th {\n",
       "        text-align: right;\n",
       "    }\n",
       "</style>\n",
       "<table border=\"1\" class=\"dataframe\">\n",
       "  <thead>\n",
       "    <tr style=\"text-align: right;\">\n",
       "      <th></th>\n",
       "      <th>ID</th>\n",
       "      <th>Date</th>\n",
       "      <th>Open</th>\n",
       "      <th>High</th>\n",
       "      <th>Low</th>\n",
       "      <th>Close</th>\n",
       "      <th>Adj Close</th>\n",
       "      <th>Volume</th>\n",
       "      <th>Distance</th>\n",
       "      <th>Confint</th>\n",
       "      <th>PriceConfint</th>\n",
       "      <th>VolumePer</th>\n",
       "      <th>MACD</th>\n",
       "      <th>Signal</th>\n",
       "      <th>Cross</th>\n",
       "    </tr>\n",
       "  </thead>\n",
       "  <tbody>\n",
       "    <tr>\n",
       "      <th>0</th>\n",
       "      <td>1</td>\n",
       "      <td>2020-01-02</td>\n",
       "      <td>4.10</td>\n",
       "      <td>4.10</td>\n",
       "      <td>3.61</td>\n",
       "      <td>3.72</td>\n",
       "      <td>3.72</td>\n",
       "      <td>103740100</td>\n",
       "      <td>1.561944e+15</td>\n",
       "      <td>1</td>\n",
       "      <td>0</td>\n",
       "      <td>NaN</td>\n",
       "      <td>0.000000</td>\n",
       "      <td>0.000000</td>\n",
       "      <td>False</td>\n",
       "    </tr>\n",
       "    <tr>\n",
       "      <th>1</th>\n",
       "      <td>2</td>\n",
       "      <td>2020-01-03</td>\n",
       "      <td>3.50</td>\n",
       "      <td>3.90</td>\n",
       "      <td>3.48</td>\n",
       "      <td>3.83</td>\n",
       "      <td>3.83</td>\n",
       "      <td>82892400</td>\n",
       "      <td>3.487086e+14</td>\n",
       "      <td>1</td>\n",
       "      <td>0</td>\n",
       "      <td>-0.200961</td>\n",
       "      <td>0.008775</td>\n",
       "      <td>0.001755</td>\n",
       "      <td>False</td>\n",
       "    </tr>\n",
       "    <tr>\n",
       "      <th>2</th>\n",
       "      <td>3</td>\n",
       "      <td>2020-01-06</td>\n",
       "      <td>4.19</td>\n",
       "      <td>4.24</td>\n",
       "      <td>3.66</td>\n",
       "      <td>3.68</td>\n",
       "      <td>3.68</td>\n",
       "      <td>106619700</td>\n",
       "      <td>1.797848e+15</td>\n",
       "      <td>1</td>\n",
       "      <td>1</td>\n",
       "      <td>0.286242</td>\n",
       "      <td>0.003584</td>\n",
       "      <td>0.002121</td>\n",
       "      <td>False</td>\n",
       "    </tr>\n",
       "    <tr>\n",
       "      <th>3</th>\n",
       "      <td>4</td>\n",
       "      <td>2020-01-07</td>\n",
       "      <td>3.70</td>\n",
       "      <td>3.73</td>\n",
       "      <td>3.21</td>\n",
       "      <td>3.24</td>\n",
       "      <td>3.24</td>\n",
       "      <td>106336400</td>\n",
       "      <td>1.773904e+15</td>\n",
       "      <td>1</td>\n",
       "      <td>1</td>\n",
       "      <td>-0.002657</td>\n",
       "      <td>-0.035623</td>\n",
       "      <td>-0.005428</td>\n",
       "      <td>True</td>\n",
       "    </tr>\n",
       "    <tr>\n",
       "      <th>4</th>\n",
       "      <td>5</td>\n",
       "      <td>2020-01-08</td>\n",
       "      <td>3.14</td>\n",
       "      <td>3.49</td>\n",
       "      <td>3.13</td>\n",
       "      <td>3.39</td>\n",
       "      <td>3.39</td>\n",
       "      <td>65118100</td>\n",
       "      <td>8.089926e+11</td>\n",
       "      <td>0</td>\n",
       "      <td>1</td>\n",
       "      <td>-0.387622</td>\n",
       "      <td>-0.053970</td>\n",
       "      <td>-0.015136</td>\n",
       "      <td>True</td>\n",
       "    </tr>\n",
       "  </tbody>\n",
       "</table>\n",
       "</div>"
      ],
      "text/plain": [
       "   ID       Date  Open  High   Low  Close  Adj Close     Volume      Distance  \\\n",
       "0   1 2020-01-02  4.10  4.10  3.61   3.72       3.72  103740100  1.561944e+15   \n",
       "1   2 2020-01-03  3.50  3.90  3.48   3.83       3.83   82892400  3.487086e+14   \n",
       "2   3 2020-01-06  4.19  4.24  3.66   3.68       3.68  106619700  1.797848e+15   \n",
       "3   4 2020-01-07  3.70  3.73  3.21   3.24       3.24  106336400  1.773904e+15   \n",
       "4   5 2020-01-08  3.14  3.49  3.13   3.39       3.39   65118100  8.089926e+11   \n",
       "\n",
       "   Confint  PriceConfint  VolumePer      MACD    Signal  Cross  \n",
       "0        1             0        NaN  0.000000  0.000000  False  \n",
       "1        1             0  -0.200961  0.008775  0.001755  False  \n",
       "2        1             1   0.286242  0.003584  0.002121  False  \n",
       "3        1             1  -0.002657 -0.035623 -0.005428   True  \n",
       "4        0             1  -0.387622 -0.053970 -0.015136   True  "
      ]
     },
     "execution_count": 39,
     "metadata": {},
     "output_type": "execute_result"
    }
   ],
   "source": [
    "# add ID to the dataframe\n",
    "df4=niodf.copy()\n",
    "df4.reset_index(inplace=True)\n",
    "df4.insert(0, 'ID', range(1, 1 + len(df4)))\n",
    "df4.head()"
   ]
  },
  {
   "cell_type": "code",
   "execution_count": 40,
   "metadata": {},
   "outputs": [
    {
     "data": {
      "text/plain": [
       "array([0.01307619, 3.17868314])"
      ]
     },
     "execution_count": 40,
     "metadata": {},
     "output_type": "execute_result"
    }
   ],
   "source": [
    "#fit a line to the data, get the intercept and slope\n",
    "from scipy.optimize import curve_fit\n",
    "\n",
    "def f(x, A, B): # this is your 'straight line' y=f(x)\n",
    "    return A*x + B\n",
    "\n",
    "popt, pcov = curve_fit(f, df4.ID, df4.Close) # your data x, y to fit\n",
    "popt"
   ]
  },
  {
   "cell_type": "code",
   "execution_count": 41,
   "metadata": {},
   "outputs": [
    {
     "name": "stdout",
     "output_type": "stream",
     "text": [
      "0.013076190484508383 3.1786831383652814\n"
     ]
    }
   ],
   "source": [
    "#double check the intercept and slope using a different method\n",
    "from scipy import stats\n",
    "slope, intercept, r_value, p_value, std_err = stats.linregress(df4.ID,df4.Close)\n",
    "print(slope, intercept)"
   ]
  },
  {
   "cell_type": "code",
   "execution_count": 42,
   "metadata": {},
   "outputs": [],
   "source": [
    "#function that draws a line\n",
    "def abline(slope, intercept):\n",
    "    \"\"\"Plot a line from slope and intercept\"\"\"\n",
    "    axes = plt.gca()\n",
    "    x_vals = np.array(axes.get_xlim())\n",
    "    y_vals = intercept + slope * x_vals\n",
    "    plt.plot(x_vals, y_vals, '--')"
   ]
  },
  {
   "cell_type": "code",
   "execution_count": 43,
   "metadata": {},
   "outputs": [
    {
     "data": {
      "image/png": "[encoded data removed]",
      "text/plain": [
       "<Figure size 432x288 with 1 Axes>"
      ]
     },
     "metadata": {
      "needs_background": "light"
     },
     "output_type": "display_data"
    }
   ],
   "source": [
    "#draw a line\n",
    "plt.plot(df4.Close)\n",
    "abline(0.01307619, 3.17868314)"
   ]
  },
  {
   "cell_type": "code",
   "execution_count": 44,
   "metadata": {},
   "outputs": [
    {
     "data": {
      "text/html": [
       "<div>\n",
       "<style scoped>\n",
       "    .dataframe tbody tr th:only-of-type {\n",
       "        vertical-align: middle;\n",
       "    }\n",
       "\n",
       "    .dataframe tbody tr th {\n",
       "        vertical-align: top;\n",
       "    }\n",
       "\n",
       "    .dataframe thead th {\n",
       "        text-align: right;\n",
       "    }\n",
       "</style>\n",
       "<table border=\"1\" class=\"dataframe\">\n",
       "  <thead>\n",
       "    <tr style=\"text-align: right;\">\n",
       "      <th></th>\n",
       "      <th>ID</th>\n",
       "      <th>Date</th>\n",
       "      <th>Open</th>\n",
       "      <th>High</th>\n",
       "      <th>Low</th>\n",
       "      <th>Close</th>\n",
       "      <th>Adj Close</th>\n",
       "      <th>Volume</th>\n",
       "      <th>Distance</th>\n",
       "      <th>Confint</th>\n",
       "      <th>PriceConfint</th>\n",
       "      <th>VolumePer</th>\n",
       "      <th>MACD</th>\n",
       "      <th>Signal</th>\n",
       "      <th>Cross</th>\n",
       "      <th>Price</th>\n",
       "    </tr>\n",
       "  </thead>\n",
       "  <tbody>\n",
       "    <tr>\n",
       "      <th>0</th>\n",
       "      <td>1</td>\n",
       "      <td>2020-01-02</td>\n",
       "      <td>4.10</td>\n",
       "      <td>4.10</td>\n",
       "      <td>3.61</td>\n",
       "      <td>3.72</td>\n",
       "      <td>3.72</td>\n",
       "      <td>103740100</td>\n",
       "      <td>1.561944e+15</td>\n",
       "      <td>1</td>\n",
       "      <td>0</td>\n",
       "      <td>NaN</td>\n",
       "      <td>0.000000</td>\n",
       "      <td>0.000000</td>\n",
       "      <td>False</td>\n",
       "      <td>3.191759</td>\n",
       "    </tr>\n",
       "    <tr>\n",
       "      <th>1</th>\n",
       "      <td>2</td>\n",
       "      <td>2020-01-03</td>\n",
       "      <td>3.50</td>\n",
       "      <td>3.90</td>\n",
       "      <td>3.48</td>\n",
       "      <td>3.83</td>\n",
       "      <td>3.83</td>\n",
       "      <td>82892400</td>\n",
       "      <td>3.487086e+14</td>\n",
       "      <td>1</td>\n",
       "      <td>0</td>\n",
       "      <td>-0.200961</td>\n",
       "      <td>0.008775</td>\n",
       "      <td>0.001755</td>\n",
       "      <td>False</td>\n",
       "      <td>3.204836</td>\n",
       "    </tr>\n",
       "    <tr>\n",
       "      <th>2</th>\n",
       "      <td>3</td>\n",
       "      <td>2020-01-06</td>\n",
       "      <td>4.19</td>\n",
       "      <td>4.24</td>\n",
       "      <td>3.66</td>\n",
       "      <td>3.68</td>\n",
       "      <td>3.68</td>\n",
       "      <td>106619700</td>\n",
       "      <td>1.797848e+15</td>\n",
       "      <td>1</td>\n",
       "      <td>1</td>\n",
       "      <td>0.286242</td>\n",
       "      <td>0.003584</td>\n",
       "      <td>0.002121</td>\n",
       "      <td>False</td>\n",
       "      <td>3.217912</td>\n",
       "    </tr>\n",
       "    <tr>\n",
       "      <th>3</th>\n",
       "      <td>4</td>\n",
       "      <td>2020-01-07</td>\n",
       "      <td>3.70</td>\n",
       "      <td>3.73</td>\n",
       "      <td>3.21</td>\n",
       "      <td>3.24</td>\n",
       "      <td>3.24</td>\n",
       "      <td>106336400</td>\n",
       "      <td>1.773904e+15</td>\n",
       "      <td>1</td>\n",
       "      <td>1</td>\n",
       "      <td>-0.002657</td>\n",
       "      <td>-0.035623</td>\n",
       "      <td>-0.005428</td>\n",
       "      <td>True</td>\n",
       "      <td>3.230988</td>\n",
       "    </tr>\n",
       "    <tr>\n",
       "      <th>4</th>\n",
       "      <td>5</td>\n",
       "      <td>2020-01-08</td>\n",
       "      <td>3.14</td>\n",
       "      <td>3.49</td>\n",
       "      <td>3.13</td>\n",
       "      <td>3.39</td>\n",
       "      <td>3.39</td>\n",
       "      <td>65118100</td>\n",
       "      <td>8.089926e+11</td>\n",
       "      <td>0</td>\n",
       "      <td>1</td>\n",
       "      <td>-0.387622</td>\n",
       "      <td>-0.053970</td>\n",
       "      <td>-0.015136</td>\n",
       "      <td>True</td>\n",
       "      <td>3.244064</td>\n",
       "    </tr>\n",
       "  </tbody>\n",
       "</table>\n",
       "</div>"
      ],
      "text/plain": [
       "   ID       Date  Open  High   Low  Close  Adj Close     Volume      Distance  \\\n",
       "0   1 2020-01-02  4.10  4.10  3.61   3.72       3.72  103740100  1.561944e+15   \n",
       "1   2 2020-01-03  3.50  3.90  3.48   3.83       3.83   82892400  3.487086e+14   \n",
       "2   3 2020-01-06  4.19  4.24  3.66   3.68       3.68  106619700  1.797848e+15   \n",
       "3   4 2020-01-07  3.70  3.73  3.21   3.24       3.24  106336400  1.773904e+15   \n",
       "4   5 2020-01-08  3.14  3.49  3.13   3.39       3.39   65118100  8.089926e+11   \n",
       "\n",
       "   Confint  PriceConfint  VolumePer      MACD    Signal  Cross     Price  \n",
       "0        1             0        NaN  0.000000  0.000000  False  3.191759  \n",
       "1        1             0  -0.200961  0.008775  0.001755  False  3.204836  \n",
       "2        1             1   0.286242  0.003584  0.002121  False  3.217912  \n",
       "3        1             1  -0.002657 -0.035623 -0.005428   True  3.230988  \n",
       "4        0             1  -0.387622 -0.053970 -0.015136   True  3.244064  "
      ]
     },
     "execution_count": 44,
     "metadata": {},
     "output_type": "execute_result"
    }
   ],
   "source": [
    "#create a new column\n",
    "df4['Price'] = df4['ID']*popt[0]+popt[1]\n",
    "df4.head()"
   ]
  },
  {
   "cell_type": "code",
   "execution_count": 45,
   "metadata": {},
   "outputs": [
    {
     "data": {
      "text/html": [
       "<div>\n",
       "<style scoped>\n",
       "    .dataframe tbody tr th:only-of-type {\n",
       "        vertical-align: middle;\n",
       "    }\n",
       "\n",
       "    .dataframe tbody tr th {\n",
       "        vertical-align: top;\n",
       "    }\n",
       "\n",
       "    .dataframe thead th {\n",
       "        text-align: right;\n",
       "    }\n",
       "</style>\n",
       "<table border=\"1\" class=\"dataframe\">\n",
       "  <thead>\n",
       "    <tr style=\"text-align: right;\">\n",
       "      <th></th>\n",
       "      <th>ID</th>\n",
       "      <th>Date</th>\n",
       "      <th>Open</th>\n",
       "      <th>High</th>\n",
       "      <th>Low</th>\n",
       "      <th>Close</th>\n",
       "      <th>Adj Close</th>\n",
       "      <th>Volume</th>\n",
       "      <th>Distance</th>\n",
       "      <th>Confint</th>\n",
       "      <th>PriceConfint</th>\n",
       "      <th>VolumePer</th>\n",
       "      <th>MACD</th>\n",
       "      <th>Signal</th>\n",
       "      <th>Cross</th>\n",
       "      <th>Price</th>\n",
       "      <th>PriceDistance</th>\n",
       "    </tr>\n",
       "  </thead>\n",
       "  <tbody>\n",
       "    <tr>\n",
       "      <th>0</th>\n",
       "      <td>1</td>\n",
       "      <td>2020-01-02</td>\n",
       "      <td>4.10</td>\n",
       "      <td>4.10</td>\n",
       "      <td>3.61</td>\n",
       "      <td>3.72</td>\n",
       "      <td>3.72</td>\n",
       "      <td>103740100</td>\n",
       "      <td>1.561944e+15</td>\n",
       "      <td>1</td>\n",
       "      <td>0</td>\n",
       "      <td>NaN</td>\n",
       "      <td>0.000000</td>\n",
       "      <td>0.000000</td>\n",
       "      <td>False</td>\n",
       "      <td>3.191759</td>\n",
       "      <td>0.279038</td>\n",
       "    </tr>\n",
       "    <tr>\n",
       "      <th>1</th>\n",
       "      <td>2</td>\n",
       "      <td>2020-01-03</td>\n",
       "      <td>3.50</td>\n",
       "      <td>3.90</td>\n",
       "      <td>3.48</td>\n",
       "      <td>3.83</td>\n",
       "      <td>3.83</td>\n",
       "      <td>82892400</td>\n",
       "      <td>3.487086e+14</td>\n",
       "      <td>1</td>\n",
       "      <td>0</td>\n",
       "      <td>-0.200961</td>\n",
       "      <td>0.008775</td>\n",
       "      <td>0.001755</td>\n",
       "      <td>False</td>\n",
       "      <td>3.204836</td>\n",
       "      <td>0.390831</td>\n",
       "    </tr>\n",
       "    <tr>\n",
       "      <th>2</th>\n",
       "      <td>3</td>\n",
       "      <td>2020-01-06</td>\n",
       "      <td>4.19</td>\n",
       "      <td>4.24</td>\n",
       "      <td>3.66</td>\n",
       "      <td>3.68</td>\n",
       "      <td>3.68</td>\n",
       "      <td>106619700</td>\n",
       "      <td>1.797848e+15</td>\n",
       "      <td>1</td>\n",
       "      <td>1</td>\n",
       "      <td>0.286242</td>\n",
       "      <td>0.003584</td>\n",
       "      <td>0.002121</td>\n",
       "      <td>False</td>\n",
       "      <td>3.217912</td>\n",
       "      <td>0.213526</td>\n",
       "    </tr>\n",
       "    <tr>\n",
       "      <th>3</th>\n",
       "      <td>4</td>\n",
       "      <td>2020-01-07</td>\n",
       "      <td>3.70</td>\n",
       "      <td>3.73</td>\n",
       "      <td>3.21</td>\n",
       "      <td>3.24</td>\n",
       "      <td>3.24</td>\n",
       "      <td>106336400</td>\n",
       "      <td>1.773904e+15</td>\n",
       "      <td>1</td>\n",
       "      <td>1</td>\n",
       "      <td>-0.002657</td>\n",
       "      <td>-0.035623</td>\n",
       "      <td>-0.005428</td>\n",
       "      <td>True</td>\n",
       "      <td>3.230988</td>\n",
       "      <td>0.000081</td>\n",
       "    </tr>\n",
       "    <tr>\n",
       "      <th>4</th>\n",
       "      <td>5</td>\n",
       "      <td>2020-01-08</td>\n",
       "      <td>3.14</td>\n",
       "      <td>3.49</td>\n",
       "      <td>3.13</td>\n",
       "      <td>3.39</td>\n",
       "      <td>3.39</td>\n",
       "      <td>65118100</td>\n",
       "      <td>8.089926e+11</td>\n",
       "      <td>0</td>\n",
       "      <td>1</td>\n",
       "      <td>-0.387622</td>\n",
       "      <td>-0.053970</td>\n",
       "      <td>-0.015136</td>\n",
       "      <td>True</td>\n",
       "      <td>3.244064</td>\n",
       "      <td>0.021297</td>\n",
       "    </tr>\n",
       "  </tbody>\n",
       "</table>\n",
       "</div>"
      ],
      "text/plain": [
       "   ID       Date  Open  High   Low  Close  Adj Close     Volume      Distance  \\\n",
       "0   1 2020-01-02  4.10  4.10  3.61   3.72       3.72  103740100  1.561944e+15   \n",
       "1   2 2020-01-03  3.50  3.90  3.48   3.83       3.83   82892400  3.487086e+14   \n",
       "2   3 2020-01-06  4.19  4.24  3.66   3.68       3.68  106619700  1.797848e+15   \n",
       "3   4 2020-01-07  3.70  3.73  3.21   3.24       3.24  106336400  1.773904e+15   \n",
       "4   5 2020-01-08  3.14  3.49  3.13   3.39       3.39   65118100  8.089926e+11   \n",
       "\n",
       "   Confint  PriceConfint  VolumePer      MACD    Signal  Cross     Price  \\\n",
       "0        1             0        NaN  0.000000  0.000000  False  3.191759   \n",
       "1        1             0  -0.200961  0.008775  0.001755  False  3.204836   \n",
       "2        1             1   0.286242  0.003584  0.002121  False  3.217912   \n",
       "3        1             1  -0.002657 -0.035623 -0.005428   True  3.230988   \n",
       "4        0             1  -0.387622 -0.053970 -0.015136   True  3.244064   \n",
       "\n",
       "   PriceDistance  \n",
       "0       0.279038  \n",
       "1       0.390831  \n",
       "2       0.213526  \n",
       "3       0.000081  \n",
       "4       0.021297  "
      ]
     },
     "execution_count": 45,
     "metadata": {},
     "output_type": "execute_result"
    }
   ],
   "source": [
    "#calculate the difference between Adj Close and the line\n",
    "df4['PriceDistance']= (df4['Adj Close']-df4['Price'])**2\n",
    "df4.head()"
   ]
  },
  {
   "cell_type": "code",
   "execution_count": 46,
   "metadata": {},
   "outputs": [
    {
     "data": {
      "text/plain": [
       "<matplotlib.axes._subplots.AxesSubplot at 0x7f8c266a1d50>"
      ]
     },
     "execution_count": 46,
     "metadata": {},
     "output_type": "execute_result"
    },
    {
     "data": {
      "image/png": "[encoded data removed]",
      "text/plain": [
       "<Figure size 432x288 with 1 Axes>"
      ]
     },
     "metadata": {
      "needs_background": "light"
     },
     "output_type": "display_data"
    }
   ],
   "source": [
    "#graph the differences\n",
    "sns.scatterplot(x=df4['ID'], y =df4['PriceDistance'])"
   ]
  },
  {
   "cell_type": "markdown",
   "metadata": {},
   "source": [
    "### As the dataset is closer to the end of the period, it behaves abnormally. The beginning (day17)  and the middle (day60) also display little deviation."
   ]
  },
  {
   "cell_type": "code",
   "execution_count": 47,
   "metadata": {},
   "outputs": [
    {
     "data": {
      "text/html": [
       "<div>\n",
       "<style scoped>\n",
       "    .dataframe tbody tr th:only-of-type {\n",
       "        vertical-align: middle;\n",
       "    }\n",
       "\n",
       "    .dataframe tbody tr th {\n",
       "        vertical-align: top;\n",
       "    }\n",
       "\n",
       "    .dataframe thead th {\n",
       "        text-align: right;\n",
       "    }\n",
       "</style>\n",
       "<table border=\"1\" class=\"dataframe\">\n",
       "  <thead>\n",
       "    <tr style=\"text-align: right;\">\n",
       "      <th></th>\n",
       "      <th>ID</th>\n",
       "      <th>Date</th>\n",
       "      <th>Open</th>\n",
       "      <th>High</th>\n",
       "      <th>Low</th>\n",
       "      <th>Close</th>\n",
       "      <th>Adj Close</th>\n",
       "      <th>Volume</th>\n",
       "      <th>Distance</th>\n",
       "      <th>Confint</th>\n",
       "      <th>PriceConfint</th>\n",
       "      <th>VolumePer</th>\n",
       "      <th>MACD</th>\n",
       "      <th>Signal</th>\n",
       "      <th>Cross</th>\n",
       "      <th>Price</th>\n",
       "      <th>PriceDistance</th>\n",
       "    </tr>\n",
       "  </thead>\n",
       "  <tbody>\n",
       "    <tr>\n",
       "      <th>12</th>\n",
       "      <td>13</td>\n",
       "      <td>2020-01-21</td>\n",
       "      <td>4.60</td>\n",
       "      <td>5.29</td>\n",
       "      <td>4.52</td>\n",
       "      <td>5.17</td>\n",
       "      <td>5.17</td>\n",
       "      <td>181423600</td>\n",
       "      <td>1.373700e+16</td>\n",
       "      <td>1</td>\n",
       "      <td>1</td>\n",
       "      <td>0.655305</td>\n",
       "      <td>0.222164</td>\n",
       "      <td>0.063386</td>\n",
       "      <td>False</td>\n",
       "      <td>3.348674</td>\n",
       "      <td>3.317230</td>\n",
       "    </tr>\n",
       "    <tr>\n",
       "      <th>64</th>\n",
       "      <td>65</td>\n",
       "      <td>2020-04-03</td>\n",
       "      <td>2.45</td>\n",
       "      <td>2.49</td>\n",
       "      <td>2.33</td>\n",
       "      <td>2.40</td>\n",
       "      <td>2.40</td>\n",
       "      <td>19519500</td>\n",
       "      <td>1.998015e+15</td>\n",
       "      <td>1</td>\n",
       "      <td>1</td>\n",
       "      <td>-0.668839</td>\n",
       "      <td>-0.303597</td>\n",
       "      <td>-0.313371</td>\n",
       "      <td>False</td>\n",
       "      <td>4.028636</td>\n",
       "      <td>2.652453</td>\n",
       "    </tr>\n",
       "    <tr>\n",
       "      <th>109</th>\n",
       "      <td>110</td>\n",
       "      <td>2020-06-09</td>\n",
       "      <td>5.84</td>\n",
       "      <td>6.83</td>\n",
       "      <td>5.76</td>\n",
       "      <td>6.68</td>\n",
       "      <td>6.68</td>\n",
       "      <td>136907900</td>\n",
       "      <td>5.283726e+15</td>\n",
       "      <td>1</td>\n",
       "      <td>1</td>\n",
       "      <td>0.592849</td>\n",
       "      <td>0.710967</td>\n",
       "      <td>0.444635</td>\n",
       "      <td>False</td>\n",
       "      <td>4.617064</td>\n",
       "      <td>4.255704</td>\n",
       "    </tr>\n",
       "    <tr>\n",
       "      <th>110</th>\n",
       "      <td>111</td>\n",
       "      <td>2020-06-10</td>\n",
       "      <td>6.72</td>\n",
       "      <td>6.95</td>\n",
       "      <td>6.16</td>\n",
       "      <td>6.30</td>\n",
       "      <td>6.30</td>\n",
       "      <td>100170700</td>\n",
       "      <td>1.292549e+15</td>\n",
       "      <td>1</td>\n",
       "      <td>1</td>\n",
       "      <td>-0.268335</td>\n",
       "      <td>0.752435</td>\n",
       "      <td>0.506195</td>\n",
       "      <td>False</td>\n",
       "      <td>4.630140</td>\n",
       "      <td>2.788432</td>\n",
       "    </tr>\n",
       "    <tr>\n",
       "      <th>113</th>\n",
       "      <td>114</td>\n",
       "      <td>2020-06-15</td>\n",
       "      <td>5.97</td>\n",
       "      <td>6.99</td>\n",
       "      <td>5.92</td>\n",
       "      <td>6.83</td>\n",
       "      <td>6.83</td>\n",
       "      <td>113694400</td>\n",
       "      <td>2.447849e+15</td>\n",
       "      <td>1</td>\n",
       "      <td>1</td>\n",
       "      <td>0.904821</td>\n",
       "      <td>0.796795</td>\n",
       "      <td>0.633323</td>\n",
       "      <td>False</td>\n",
       "      <td>4.669369</td>\n",
       "      <td>4.668327</td>\n",
       "    </tr>\n",
       "  </tbody>\n",
       "</table>\n",
       "</div>"
      ],
      "text/plain": [
       "      ID       Date  Open  High   Low  Close  Adj Close     Volume  \\\n",
       "12    13 2020-01-21  4.60  5.29  4.52   5.17       5.17  181423600   \n",
       "64    65 2020-04-03  2.45  2.49  2.33   2.40       2.40   19519500   \n",
       "109  110 2020-06-09  5.84  6.83  5.76   6.68       6.68  136907900   \n",
       "110  111 2020-06-10  6.72  6.95  6.16   6.30       6.30  100170700   \n",
       "113  114 2020-06-15  5.97  6.99  5.92   6.83       6.83  113694400   \n",
       "\n",
       "         Distance  Confint  PriceConfint  VolumePer      MACD    Signal  \\\n",
       "12   1.373700e+16        1             1   0.655305  0.222164  0.063386   \n",
       "64   1.998015e+15        1             1  -0.668839 -0.303597 -0.313371   \n",
       "109  5.283726e+15        1             1   0.592849  0.710967  0.444635   \n",
       "110  1.292549e+15        1             1  -0.268335  0.752435  0.506195   \n",
       "113  2.447849e+15        1             1   0.904821  0.796795  0.633323   \n",
       "\n",
       "     Cross     Price  PriceDistance  \n",
       "12   False  3.348674       3.317230  \n",
       "64   False  4.028636       2.652453  \n",
       "109  False  4.617064       4.255704  \n",
       "110  False  4.630140       2.788432  \n",
       "113  False  4.669369       4.668327  "
      ]
     },
     "execution_count": 47,
     "metadata": {},
     "output_type": "execute_result"
    }
   ],
   "source": [
    "df4[df4['PriceDistance']> np.percentile(df4['PriceDistance'], 90)].head()"
   ]
  },
  {
   "cell_type": "markdown",
   "metadata": {},
   "source": [
    "# F7  Close/Open gives the daily change in price, examine that with the earnings call dates"
   ]
  },
  {
   "cell_type": "code",
   "execution_count": 48,
   "metadata": {},
   "outputs": [
    {
     "data": {
      "text/html": [
       "<div>\n",
       "<style scoped>\n",
       "    .dataframe tbody tr th:only-of-type {\n",
       "        vertical-align: middle;\n",
       "    }\n",
       "\n",
       "    .dataframe tbody tr th {\n",
       "        vertical-align: top;\n",
       "    }\n",
       "\n",
       "    .dataframe thead th {\n",
       "        text-align: right;\n",
       "    }\n",
       "</style>\n",
       "<table border=\"1\" class=\"dataframe\">\n",
       "  <thead>\n",
       "    <tr style=\"text-align: right;\">\n",
       "      <th></th>\n",
       "      <th>Open</th>\n",
       "      <th>High</th>\n",
       "      <th>Low</th>\n",
       "      <th>Close</th>\n",
       "      <th>Adj Close</th>\n",
       "      <th>Volume</th>\n",
       "      <th>Distance</th>\n",
       "      <th>Confint</th>\n",
       "      <th>PriceConfint</th>\n",
       "      <th>VolumePer</th>\n",
       "      <th>MACD</th>\n",
       "      <th>Signal</th>\n",
       "      <th>Cross</th>\n",
       "      <th>PricePer</th>\n",
       "    </tr>\n",
       "    <tr>\n",
       "      <th>Date</th>\n",
       "      <th></th>\n",
       "      <th></th>\n",
       "      <th></th>\n",
       "      <th></th>\n",
       "      <th></th>\n",
       "      <th></th>\n",
       "      <th></th>\n",
       "      <th></th>\n",
       "      <th></th>\n",
       "      <th></th>\n",
       "      <th></th>\n",
       "      <th></th>\n",
       "      <th></th>\n",
       "      <th></th>\n",
       "    </tr>\n",
       "  </thead>\n",
       "  <tbody>\n",
       "    <tr>\n",
       "      <th>2020-01-02</th>\n",
       "      <td>4.10</td>\n",
       "      <td>4.10</td>\n",
       "      <td>3.61</td>\n",
       "      <td>3.72</td>\n",
       "      <td>3.72</td>\n",
       "      <td>103740100</td>\n",
       "      <td>1.561944e+15</td>\n",
       "      <td>1</td>\n",
       "      <td>0</td>\n",
       "      <td>NaN</td>\n",
       "      <td>0.000000</td>\n",
       "      <td>0.000000</td>\n",
       "      <td>False</td>\n",
       "      <td>-0.092683</td>\n",
       "    </tr>\n",
       "    <tr>\n",
       "      <th>2020-01-03</th>\n",
       "      <td>3.50</td>\n",
       "      <td>3.90</td>\n",
       "      <td>3.48</td>\n",
       "      <td>3.83</td>\n",
       "      <td>3.83</td>\n",
       "      <td>82892400</td>\n",
       "      <td>3.487086e+14</td>\n",
       "      <td>1</td>\n",
       "      <td>0</td>\n",
       "      <td>-0.200961</td>\n",
       "      <td>0.008775</td>\n",
       "      <td>0.001755</td>\n",
       "      <td>False</td>\n",
       "      <td>0.094286</td>\n",
       "    </tr>\n",
       "    <tr>\n",
       "      <th>2020-01-06</th>\n",
       "      <td>4.19</td>\n",
       "      <td>4.24</td>\n",
       "      <td>3.66</td>\n",
       "      <td>3.68</td>\n",
       "      <td>3.68</td>\n",
       "      <td>106619700</td>\n",
       "      <td>1.797848e+15</td>\n",
       "      <td>1</td>\n",
       "      <td>1</td>\n",
       "      <td>0.286242</td>\n",
       "      <td>0.003584</td>\n",
       "      <td>0.002121</td>\n",
       "      <td>False</td>\n",
       "      <td>-0.121718</td>\n",
       "    </tr>\n",
       "    <tr>\n",
       "      <th>2020-01-07</th>\n",
       "      <td>3.70</td>\n",
       "      <td>3.73</td>\n",
       "      <td>3.21</td>\n",
       "      <td>3.24</td>\n",
       "      <td>3.24</td>\n",
       "      <td>106336400</td>\n",
       "      <td>1.773904e+15</td>\n",
       "      <td>1</td>\n",
       "      <td>1</td>\n",
       "      <td>-0.002657</td>\n",
       "      <td>-0.035623</td>\n",
       "      <td>-0.005428</td>\n",
       "      <td>True</td>\n",
       "      <td>-0.124324</td>\n",
       "    </tr>\n",
       "    <tr>\n",
       "      <th>2020-01-08</th>\n",
       "      <td>3.14</td>\n",
       "      <td>3.49</td>\n",
       "      <td>3.13</td>\n",
       "      <td>3.39</td>\n",
       "      <td>3.39</td>\n",
       "      <td>65118100</td>\n",
       "      <td>8.089926e+11</td>\n",
       "      <td>0</td>\n",
       "      <td>1</td>\n",
       "      <td>-0.387622</td>\n",
       "      <td>-0.053970</td>\n",
       "      <td>-0.015136</td>\n",
       "      <td>True</td>\n",
       "      <td>0.079618</td>\n",
       "    </tr>\n",
       "  </tbody>\n",
       "</table>\n",
       "</div>"
      ],
      "text/plain": [
       "            Open  High   Low  Close  Adj Close     Volume      Distance  \\\n",
       "Date                                                                      \n",
       "2020-01-02  4.10  4.10  3.61   3.72       3.72  103740100  1.561944e+15   \n",
       "2020-01-03  3.50  3.90  3.48   3.83       3.83   82892400  3.487086e+14   \n",
       "2020-01-06  4.19  4.24  3.66   3.68       3.68  106619700  1.797848e+15   \n",
       "2020-01-07  3.70  3.73  3.21   3.24       3.24  106336400  1.773904e+15   \n",
       "2020-01-08  3.14  3.49  3.13   3.39       3.39   65118100  8.089926e+11   \n",
       "\n",
       "            Confint  PriceConfint  VolumePer      MACD    Signal  Cross  \\\n",
       "Date                                                                      \n",
       "2020-01-02        1             0        NaN  0.000000  0.000000  False   \n",
       "2020-01-03        1             0  -0.200961  0.008775  0.001755  False   \n",
       "2020-01-06        1             1   0.286242  0.003584  0.002121  False   \n",
       "2020-01-07        1             1  -0.002657 -0.035623 -0.005428   True   \n",
       "2020-01-08        0             1  -0.387622 -0.053970 -0.015136   True   \n",
       "\n",
       "            PricePer  \n",
       "Date                  \n",
       "2020-01-02 -0.092683  \n",
       "2020-01-03  0.094286  \n",
       "2020-01-06 -0.121718  \n",
       "2020-01-07 -0.124324  \n",
       "2020-01-08  0.079618  "
      ]
     },
     "execution_count": 48,
     "metadata": {},
     "output_type": "execute_result"
    }
   ],
   "source": [
    "niodf['PricePer'] = niodf['Adj Close']/niodf['Open'] - 1\n",
    "niodf.head()"
   ]
  },
  {
   "cell_type": "code",
   "execution_count": 49,
   "metadata": {},
   "outputs": [
    {
     "data": {
      "text/plain": [
       "<matplotlib.lines.Line2D at 0x7f8c2674e810>"
      ]
     },
     "execution_count": 49,
     "metadata": {},
     "output_type": "execute_result"
    },
    {
     "data": {
      "image/png": "[encoded data removed]",
      "text/plain": [
       "<Figure size 432x288 with 2 Axes>"
      ]
     },
     "metadata": {
      "needs_background": "light"
     },
     "output_type": "display_data"
    }
   ],
   "source": [
    "ax1 = plt.subplot2grid((7,1),(0,0),rowspan=5, colspan=1)\n",
    "ax2 = plt.subplot2grid((7,1),(5,0),rowspan=2, colspan=1)\n",
    "ax1.plot(niodf.index, niodf['PricePer'])\n",
    "ax2.bar(niodf.index , niodf['Volume'], color='g')\n",
    "ax1.axvline(pd.to_datetime('2020-01-15'), color='grey')\n",
    "ax2.axvline(pd.to_datetime('2020-01-15'), color='grey')\n",
    "ax1.axvline(pd.to_datetime('2020-05-25'), color='y')\n",
    "ax2.axvline(pd.to_datetime('2020-05-25'), color='y')"
   ]
  },
  {
   "cell_type": "markdown",
   "metadata": {},
   "source": [
    "### Close(T) = Open(T+1), this chart shows the daily changes of stock price. For the period in March to April, the stock price experieced slightly fewer changes, or fewer volatility. the month of January expereicned seemingly the largest volatility. However though, everytime there is a spike in the upper chart, there is also a spike in the lower chart. There is no preceeding trading prior to the large volume trading. If you look at the yellow vertical line, there is an anomaly where there wasn't too much volume, but the price moves up and down drastically. "
   ]
  },
  {
   "cell_type": "markdown",
   "metadata": {},
   "source": [
    "# F8 Bollinger Bands"
   ]
  },
  {
   "cell_type": "code",
   "execution_count": 50,
   "metadata": {},
   "outputs": [
    {
     "name": "stderr",
     "output_type": "stream",
     "text": [
      "/opt/anaconda3/lib/python3.7/site-packages/pandas_datareader/compat/__init__.py:7: FutureWarning: pandas.util.testing is deprecated. Use the functions in the public API at pandas.testing instead.\n",
      "  from pandas.util.testing import assert_frame_equal\n"
     ]
    },
    {
     "data": {
      "image/png": "[encoded data removed]",
      "text/plain": [
       "<Figure size 864x432 with 1 Axes>"
      ]
     },
     "metadata": {
      "needs_background": "light"
     },
     "output_type": "display_data"
    }
   ],
   "source": [
    "# import needed libraries\n",
    "from pandas_datareader import data as web\n",
    "\n",
    "# Make function for calls to Yahoo Finance\n",
    "def get_adj_close(ticker, start, end):\n",
    "    '''\n",
    "    A function that takes ticker symbols, starting period, ending period\n",
    "    as arguments and returns with a Pandas DataFrame of the Adjusted Close Prices\n",
    "    for the tickers from Yahoo Finance\n",
    "    '''\n",
    "    start = start\n",
    "    end = end\n",
    "    info = web.DataReader(ticker, data_source='yahoo', start=start, end=end)['Adj Close']\n",
    "    return pd.DataFrame(info)\n",
    "\n",
    "# Get Adjusted Closing Prices for Facebook, Tesla and Amazon between 2016-2017\n",
    "nio = get_adj_close('NIO', '01/01/2020', '06/26/2020')\n",
    "tsla = get_adj_close('NIO', '01/01/2020', '26/06/2020')\n",
    "amazon = get_adj_close('NIO', '01/01/2020', '26/06/2020')\n",
    "\n",
    "\n",
    "# Calculate 30 Day Moving Average, Std Deviation, Upper Band and Lower Band\n",
    "for item in (nio, tsla, amazon):\n",
    "    item['30 Day MA'] = item['Adj Close'].rolling(window=20).mean()\n",
    "    \n",
    "    # set .std(ddof=0) for population std instead of sample\n",
    "    item['30 Day STD'] = item['Adj Close'].rolling(window=20).std() \n",
    "    \n",
    "    item['Upper Band'] = item['30 Day MA'] + (item['30 Day STD'] * 2)\n",
    "    item['Lower Band'] = item['30 Day MA'] - (item['30 Day STD'] * 2)\n",
    "\n",
    "# Simple 30 Day Bollinger Band for NIO\n",
    "nio[['Adj Close', '30 Day MA', 'Upper Band', 'Lower Band']].plot(figsize=(12,6))\n",
    "plt.title('30 Day Bollinger Band for NIO')\n",
    "plt.ylabel('Price (USD)')\n",
    "plt.show();"
   ]
  },
  {
   "cell_type": "markdown",
   "metadata": {},
   "source": [
    "### Starting on the month of June, the adjusted close price is way above the 30 day MA. It could be seen as heavy buying action prior to the \"pump and dump\". On March, it could be seen as a large player who sells more than a normal volume of stock, causing the price to decrease. "
   ]
  },
  {
   "cell_type": "code",
   "execution_count": 51,
   "metadata": {},
   "outputs": [
    {
     "name": "stderr",
     "output_type": "stream",
     "text": [
      "No handles with labels found to put in legend.\n"
     ]
    },
    {
     "data": {
      "image/png": "[encoded data removed]",
      "text/plain": [
       "<Figure size 864x432 with 1 Axes>"
      ]
     },
     "metadata": {},
     "output_type": "display_data"
    }
   ],
   "source": [
    "# set style, empty figure and axes\n",
    "plt.style.use('fivethirtyeight')\n",
    "fig = plt.figure(figsize=(12,6))\n",
    "ax = fig.add_subplot(111)\n",
    "\n",
    "# Get index values for the X axis for facebook DataFrame\n",
    "x_axis = nio.index.get_level_values(0)\n",
    "\n",
    "# Plot shaded 21 Day Bollinger Band for Facebook\n",
    "ax.fill_between(x_axis, nio['Upper Band'], nio['Lower Band'], color='grey')\n",
    "\n",
    "# Plot Adjust Closing Price and Moving Averages\n",
    "ax.plot(x_axis, nio['Adj Close'], color='blue', lw=2)\n",
    "ax.plot(x_axis, nio['30 Day MA'], color='black', lw=2)\n",
    "\n",
    "# Set Title & Show the Image\n",
    "ax.set_title('30 Day Bollinger Band For NIO')\n",
    "ax.set_xlabel('Date (Year/Month)')\n",
    "ax.set_ylabel('Price(USD)')\n",
    "ax.legend()\n",
    "plt.show();"
   ]
  },
  {
   "cell_type": "markdown",
   "metadata": {},
   "source": [
    "# F9 Google search: % change in volume/% change in search"
   ]
  },
  {
   "cell_type": "code",
   "execution_count": 52,
   "metadata": {},
   "outputs": [
    {
     "data": {
      "text/html": [
       "<div>\n",
       "<style scoped>\n",
       "    .dataframe tbody tr th:only-of-type {\n",
       "        vertical-align: middle;\n",
       "    }\n",
       "\n",
       "    .dataframe tbody tr th {\n",
       "        vertical-align: top;\n",
       "    }\n",
       "\n",
       "    .dataframe thead th {\n",
       "        text-align: right;\n",
       "    }\n",
       "</style>\n",
       "<table border=\"1\" class=\"dataframe\">\n",
       "  <thead>\n",
       "    <tr style=\"text-align: right;\">\n",
       "      <th></th>\n",
       "      <th>Date</th>\n",
       "      <th>Day</th>\n",
       "      <th>NIO electric</th>\n",
       "      <th>nio</th>\n",
       "      <th>nio stock</th>\n",
       "      <th>sum</th>\n",
       "    </tr>\n",
       "  </thead>\n",
       "  <tbody>\n",
       "    <tr>\n",
       "      <th>0</th>\n",
       "      <td>2020-01-01</td>\n",
       "      <td>1/1/20</td>\n",
       "      <td>2</td>\n",
       "      <td>36</td>\n",
       "      <td>22</td>\n",
       "      <td>60</td>\n",
       "    </tr>\n",
       "    <tr>\n",
       "      <th>1</th>\n",
       "      <td>2020-01-02</td>\n",
       "      <td>1/2/20</td>\n",
       "      <td>1</td>\n",
       "      <td>65</td>\n",
       "      <td>51</td>\n",
       "      <td>117</td>\n",
       "    </tr>\n",
       "    <tr>\n",
       "      <th>2</th>\n",
       "      <td>2020-01-03</td>\n",
       "      <td>1/3/20</td>\n",
       "      <td>1</td>\n",
       "      <td>49</td>\n",
       "      <td>30</td>\n",
       "      <td>80</td>\n",
       "    </tr>\n",
       "    <tr>\n",
       "      <th>3</th>\n",
       "      <td>2020-01-04</td>\n",
       "      <td>1/4/20</td>\n",
       "      <td>0</td>\n",
       "      <td>16</td>\n",
       "      <td>11</td>\n",
       "      <td>27</td>\n",
       "    </tr>\n",
       "    <tr>\n",
       "      <th>4</th>\n",
       "      <td>2020-01-05</td>\n",
       "      <td>1/5/20</td>\n",
       "      <td>1</td>\n",
       "      <td>19</td>\n",
       "      <td>11</td>\n",
       "      <td>31</td>\n",
       "    </tr>\n",
       "  </tbody>\n",
       "</table>\n",
       "</div>"
      ],
      "text/plain": [
       "        Date     Day  NIO electric  nio  nio stock  sum\n",
       "0 2020-01-01  1/1/20             2   36         22   60\n",
       "1 2020-01-02  1/2/20             1   65         51  117\n",
       "2 2020-01-03  1/3/20             1   49         30   80\n",
       "3 2020-01-04  1/4/20             0   16         11   27\n",
       "4 2020-01-05  1/5/20             1   19         11   31"
      ]
     },
     "execution_count": 52,
     "metadata": {},
     "output_type": "execute_result"
    }
   ],
   "source": [
    "#get the google search data on the keywords NIO, and NIO electric, and NIO stock\n",
    "news1 = pd.read_csv(\"/Users/aston/Desktop/CU2020Summer/M4/hw/multiTimeline.csv\")\n",
    "col_list = list(news1)\n",
    "news1['sum'] = news1[col_list].sum(axis=1)\n",
    "news1.insert(0, 'Date', pd.to_datetime(news1[\"Day\"]))\n",
    "news1.head()"
   ]
  },
  {
   "cell_type": "code",
   "execution_count": 53,
   "metadata": {
    "scrolled": true
   },
   "outputs": [
    {
     "data": {
      "text/html": [
       "<div>\n",
       "<style scoped>\n",
       "    .dataframe tbody tr th:only-of-type {\n",
       "        vertical-align: middle;\n",
       "    }\n",
       "\n",
       "    .dataframe tbody tr th {\n",
       "        vertical-align: top;\n",
       "    }\n",
       "\n",
       "    .dataframe thead th {\n",
       "        text-align: right;\n",
       "    }\n",
       "</style>\n",
       "<table border=\"1\" class=\"dataframe\">\n",
       "  <thead>\n",
       "    <tr style=\"text-align: right;\">\n",
       "      <th></th>\n",
       "      <th>Date</th>\n",
       "      <th>Open</th>\n",
       "      <th>High</th>\n",
       "      <th>Low</th>\n",
       "      <th>Close</th>\n",
       "      <th>Adj Close</th>\n",
       "      <th>Volume</th>\n",
       "      <th>Distance</th>\n",
       "      <th>Confint</th>\n",
       "      <th>PriceConfint</th>\n",
       "      <th>VolumePer</th>\n",
       "      <th>MACD</th>\n",
       "      <th>Signal</th>\n",
       "      <th>Cross</th>\n",
       "      <th>PricePer</th>\n",
       "      <th>Day</th>\n",
       "      <th>NIO electric</th>\n",
       "      <th>nio</th>\n",
       "      <th>nio stock</th>\n",
       "      <th>sum</th>\n",
       "    </tr>\n",
       "  </thead>\n",
       "  <tbody>\n",
       "    <tr>\n",
       "      <th>0</th>\n",
       "      <td>2020-01-02</td>\n",
       "      <td>4.10</td>\n",
       "      <td>4.10</td>\n",
       "      <td>3.61</td>\n",
       "      <td>3.72</td>\n",
       "      <td>3.72</td>\n",
       "      <td>103740100</td>\n",
       "      <td>1.561944e+15</td>\n",
       "      <td>1</td>\n",
       "      <td>0</td>\n",
       "      <td>NaN</td>\n",
       "      <td>0.000000</td>\n",
       "      <td>0.000000</td>\n",
       "      <td>False</td>\n",
       "      <td>-0.092683</td>\n",
       "      <td>1/2/20</td>\n",
       "      <td>1</td>\n",
       "      <td>65</td>\n",
       "      <td>51</td>\n",
       "      <td>117</td>\n",
       "    </tr>\n",
       "    <tr>\n",
       "      <th>1</th>\n",
       "      <td>2020-01-03</td>\n",
       "      <td>3.50</td>\n",
       "      <td>3.90</td>\n",
       "      <td>3.48</td>\n",
       "      <td>3.83</td>\n",
       "      <td>3.83</td>\n",
       "      <td>82892400</td>\n",
       "      <td>3.487086e+14</td>\n",
       "      <td>1</td>\n",
       "      <td>0</td>\n",
       "      <td>-0.200961</td>\n",
       "      <td>0.008775</td>\n",
       "      <td>0.001755</td>\n",
       "      <td>False</td>\n",
       "      <td>0.094286</td>\n",
       "      <td>1/3/20</td>\n",
       "      <td>1</td>\n",
       "      <td>49</td>\n",
       "      <td>30</td>\n",
       "      <td>80</td>\n",
       "    </tr>\n",
       "    <tr>\n",
       "      <th>2</th>\n",
       "      <td>2020-01-06</td>\n",
       "      <td>4.19</td>\n",
       "      <td>4.24</td>\n",
       "      <td>3.66</td>\n",
       "      <td>3.68</td>\n",
       "      <td>3.68</td>\n",
       "      <td>106619700</td>\n",
       "      <td>1.797848e+15</td>\n",
       "      <td>1</td>\n",
       "      <td>1</td>\n",
       "      <td>0.286242</td>\n",
       "      <td>0.003584</td>\n",
       "      <td>0.002121</td>\n",
       "      <td>False</td>\n",
       "      <td>-0.121718</td>\n",
       "      <td>1/6/20</td>\n",
       "      <td>1</td>\n",
       "      <td>48</td>\n",
       "      <td>41</td>\n",
       "      <td>90</td>\n",
       "    </tr>\n",
       "    <tr>\n",
       "      <th>3</th>\n",
       "      <td>2020-01-07</td>\n",
       "      <td>3.70</td>\n",
       "      <td>3.73</td>\n",
       "      <td>3.21</td>\n",
       "      <td>3.24</td>\n",
       "      <td>3.24</td>\n",
       "      <td>106336400</td>\n",
       "      <td>1.773904e+15</td>\n",
       "      <td>1</td>\n",
       "      <td>1</td>\n",
       "      <td>-0.002657</td>\n",
       "      <td>-0.035623</td>\n",
       "      <td>-0.005428</td>\n",
       "      <td>True</td>\n",
       "      <td>-0.124324</td>\n",
       "      <td>1/7/20</td>\n",
       "      <td>1</td>\n",
       "      <td>47</td>\n",
       "      <td>38</td>\n",
       "      <td>86</td>\n",
       "    </tr>\n",
       "    <tr>\n",
       "      <th>4</th>\n",
       "      <td>2020-01-08</td>\n",
       "      <td>3.14</td>\n",
       "      <td>3.49</td>\n",
       "      <td>3.13</td>\n",
       "      <td>3.39</td>\n",
       "      <td>3.39</td>\n",
       "      <td>65118100</td>\n",
       "      <td>8.089926e+11</td>\n",
       "      <td>0</td>\n",
       "      <td>1</td>\n",
       "      <td>-0.387622</td>\n",
       "      <td>-0.053970</td>\n",
       "      <td>-0.015136</td>\n",
       "      <td>True</td>\n",
       "      <td>0.079618</td>\n",
       "      <td>1/8/20</td>\n",
       "      <td>1</td>\n",
       "      <td>49</td>\n",
       "      <td>41</td>\n",
       "      <td>91</td>\n",
       "    </tr>\n",
       "  </tbody>\n",
       "</table>\n",
       "</div>"
      ],
      "text/plain": [
       "        Date  Open  High   Low  Close  Adj Close     Volume      Distance  \\\n",
       "0 2020-01-02  4.10  4.10  3.61   3.72       3.72  103740100  1.561944e+15   \n",
       "1 2020-01-03  3.50  3.90  3.48   3.83       3.83   82892400  3.487086e+14   \n",
       "2 2020-01-06  4.19  4.24  3.66   3.68       3.68  106619700  1.797848e+15   \n",
       "3 2020-01-07  3.70  3.73  3.21   3.24       3.24  106336400  1.773904e+15   \n",
       "4 2020-01-08  3.14  3.49  3.13   3.39       3.39   65118100  8.089926e+11   \n",
       "\n",
       "   Confint  PriceConfint  VolumePer      MACD    Signal  Cross  PricePer  \\\n",
       "0        1             0        NaN  0.000000  0.000000  False -0.092683   \n",
       "1        1             0  -0.200961  0.008775  0.001755  False  0.094286   \n",
       "2        1             1   0.286242  0.003584  0.002121  False -0.121718   \n",
       "3        1             1  -0.002657 -0.035623 -0.005428   True -0.124324   \n",
       "4        0             1  -0.387622 -0.053970 -0.015136   True  0.079618   \n",
       "\n",
       "      Day  NIO electric  nio  nio stock  sum  \n",
       "0  1/2/20             1   65         51  117  \n",
       "1  1/3/20             1   49         30   80  \n",
       "2  1/6/20             1   48         41   90  \n",
       "3  1/7/20             1   47         38   86  \n",
       "4  1/8/20             1   49         41   91  "
      ]
     },
     "execution_count": 53,
     "metadata": {},
     "output_type": "execute_result"
    }
   ],
   "source": [
    "niodf = pd.merge(niodf,news1,on='Date')\n",
    "niodf.head()"
   ]
  },
  {
   "cell_type": "code",
   "execution_count": 54,
   "metadata": {},
   "outputs": [
    {
     "data": {
      "text/html": [
       "<div>\n",
       "<style scoped>\n",
       "    .dataframe tbody tr th:only-of-type {\n",
       "        vertical-align: middle;\n",
       "    }\n",
       "\n",
       "    .dataframe tbody tr th {\n",
       "        vertical-align: top;\n",
       "    }\n",
       "\n",
       "    .dataframe thead th {\n",
       "        text-align: right;\n",
       "    }\n",
       "</style>\n",
       "<table border=\"1\" class=\"dataframe\">\n",
       "  <thead>\n",
       "    <tr style=\"text-align: right;\">\n",
       "      <th></th>\n",
       "      <th>Date</th>\n",
       "      <th>Open</th>\n",
       "      <th>High</th>\n",
       "      <th>Low</th>\n",
       "      <th>Close</th>\n",
       "      <th>Adj Close</th>\n",
       "      <th>Volume</th>\n",
       "      <th>Distance</th>\n",
       "      <th>Confint</th>\n",
       "      <th>PriceConfint</th>\n",
       "      <th>VolumePer</th>\n",
       "      <th>MACD</th>\n",
       "      <th>Signal</th>\n",
       "      <th>Cross</th>\n",
       "      <th>PricePer</th>\n",
       "      <th>sum</th>\n",
       "      <th>SumPer</th>\n",
       "      <th>searchratio</th>\n",
       "    </tr>\n",
       "  </thead>\n",
       "  <tbody>\n",
       "    <tr>\n",
       "      <th>0</th>\n",
       "      <td>2020-01-02</td>\n",
       "      <td>4.10</td>\n",
       "      <td>4.10</td>\n",
       "      <td>3.61</td>\n",
       "      <td>3.72</td>\n",
       "      <td>3.72</td>\n",
       "      <td>103740100</td>\n",
       "      <td>1.561944e+15</td>\n",
       "      <td>1</td>\n",
       "      <td>0</td>\n",
       "      <td>NaN</td>\n",
       "      <td>0.000000</td>\n",
       "      <td>0.000000</td>\n",
       "      <td>False</td>\n",
       "      <td>-0.092683</td>\n",
       "      <td>117</td>\n",
       "      <td>NaN</td>\n",
       "      <td>NaN</td>\n",
       "    </tr>\n",
       "    <tr>\n",
       "      <th>1</th>\n",
       "      <td>2020-01-03</td>\n",
       "      <td>3.50</td>\n",
       "      <td>3.90</td>\n",
       "      <td>3.48</td>\n",
       "      <td>3.83</td>\n",
       "      <td>3.83</td>\n",
       "      <td>82892400</td>\n",
       "      <td>3.487086e+14</td>\n",
       "      <td>1</td>\n",
       "      <td>0</td>\n",
       "      <td>-0.200961</td>\n",
       "      <td>0.008775</td>\n",
       "      <td>0.001755</td>\n",
       "      <td>False</td>\n",
       "      <td>0.094286</td>\n",
       "      <td>80</td>\n",
       "      <td>-0.316239</td>\n",
       "      <td>0.635471</td>\n",
       "    </tr>\n",
       "    <tr>\n",
       "      <th>2</th>\n",
       "      <td>2020-01-06</td>\n",
       "      <td>4.19</td>\n",
       "      <td>4.24</td>\n",
       "      <td>3.66</td>\n",
       "      <td>3.68</td>\n",
       "      <td>3.68</td>\n",
       "      <td>106619700</td>\n",
       "      <td>1.797848e+15</td>\n",
       "      <td>1</td>\n",
       "      <td>1</td>\n",
       "      <td>0.286242</td>\n",
       "      <td>0.003584</td>\n",
       "      <td>0.002121</td>\n",
       "      <td>False</td>\n",
       "      <td>-0.121718</td>\n",
       "      <td>90</td>\n",
       "      <td>0.125000</td>\n",
       "      <td>2.289937</td>\n",
       "    </tr>\n",
       "    <tr>\n",
       "      <th>3</th>\n",
       "      <td>2020-01-07</td>\n",
       "      <td>3.70</td>\n",
       "      <td>3.73</td>\n",
       "      <td>3.21</td>\n",
       "      <td>3.24</td>\n",
       "      <td>3.24</td>\n",
       "      <td>106336400</td>\n",
       "      <td>1.773904e+15</td>\n",
       "      <td>1</td>\n",
       "      <td>1</td>\n",
       "      <td>-0.002657</td>\n",
       "      <td>-0.035623</td>\n",
       "      <td>-0.005428</td>\n",
       "      <td>True</td>\n",
       "      <td>-0.124324</td>\n",
       "      <td>86</td>\n",
       "      <td>-0.044444</td>\n",
       "      <td>0.059785</td>\n",
       "    </tr>\n",
       "    <tr>\n",
       "      <th>4</th>\n",
       "      <td>2020-01-08</td>\n",
       "      <td>3.14</td>\n",
       "      <td>3.49</td>\n",
       "      <td>3.13</td>\n",
       "      <td>3.39</td>\n",
       "      <td>3.39</td>\n",
       "      <td>65118100</td>\n",
       "      <td>8.089926e+11</td>\n",
       "      <td>0</td>\n",
       "      <td>1</td>\n",
       "      <td>-0.387622</td>\n",
       "      <td>-0.053970</td>\n",
       "      <td>-0.015136</td>\n",
       "      <td>True</td>\n",
       "      <td>0.079618</td>\n",
       "      <td>91</td>\n",
       "      <td>0.058140</td>\n",
       "      <td>-6.667094</td>\n",
       "    </tr>\n",
       "  </tbody>\n",
       "</table>\n",
       "</div>"
      ],
      "text/plain": [
       "        Date  Open  High   Low  Close  Adj Close     Volume      Distance  \\\n",
       "0 2020-01-02  4.10  4.10  3.61   3.72       3.72  103740100  1.561944e+15   \n",
       "1 2020-01-03  3.50  3.90  3.48   3.83       3.83   82892400  3.487086e+14   \n",
       "2 2020-01-06  4.19  4.24  3.66   3.68       3.68  106619700  1.797848e+15   \n",
       "3 2020-01-07  3.70  3.73  3.21   3.24       3.24  106336400  1.773904e+15   \n",
       "4 2020-01-08  3.14  3.49  3.13   3.39       3.39   65118100  8.089926e+11   \n",
       "\n",
       "   Confint  PriceConfint  VolumePer      MACD    Signal  Cross  PricePer  sum  \\\n",
       "0        1             0        NaN  0.000000  0.000000  False -0.092683  117   \n",
       "1        1             0  -0.200961  0.008775  0.001755  False  0.094286   80   \n",
       "2        1             1   0.286242  0.003584  0.002121  False -0.121718   90   \n",
       "3        1             1  -0.002657 -0.035623 -0.005428   True -0.124324   86   \n",
       "4        0             1  -0.387622 -0.053970 -0.015136   True  0.079618   91   \n",
       "\n",
       "     SumPer  searchratio  \n",
       "0       NaN          NaN  \n",
       "1 -0.316239     0.635471  \n",
       "2  0.125000     2.289937  \n",
       "3 -0.044444     0.059785  \n",
       "4  0.058140    -6.667094  "
      ]
     },
     "execution_count": 54,
     "metadata": {},
     "output_type": "execute_result"
    }
   ],
   "source": [
    "# calculate daily fluctuation in the search rate\n",
    "niodf['SumPer'] = niodf['sum']/niodf['sum'].shift(1)-1\n",
    "niodf.drop(['NIO electric','nio','nio stock','Day'], axis=1, inplace=True)\n",
    "niodf['searchratio'] = niodf['VolumePer']/niodf['SumPer']\n",
    "niodf.head()"
   ]
  },
  {
   "cell_type": "code",
   "execution_count": 55,
   "metadata": {
    "scrolled": true
   },
   "outputs": [
    {
     "data": {
      "text/plain": [
       "<matplotlib.axes._subplots.AxesSubplot at 0x7f8c2695aa90>"
      ]
     },
     "execution_count": 55,
     "metadata": {},
     "output_type": "execute_result"
    },
    {
     "data": {
      "image/png": "[encoded data removed]",
      "text/plain": [
       "<Figure size 432x288 with 1 Axes>"
      ]
     },
     "metadata": {},
     "output_type": "display_data"
    }
   ],
   "source": [
    "niodf['searchratio'].plot()"
   ]
  },
  {
   "cell_type": "markdown",
   "metadata": {},
   "source": [
    "### Search rate and trading volume are not positively correlated. For example, for those negative troughs in the graph, they may be the result of decrease in searches (-0.01), but increase of trading volume(0.1). The ratio ended up being -10. This could be a sign of insider trading where a large volume of stock being traded by a few people, given that the search rate is a good proxy for the number of people who would trade NIO stock. "
   ]
  },
  {
   "cell_type": "code",
   "execution_count": 56,
   "metadata": {},
   "outputs": [
    {
     "data": {
      "text/plain": [
       "63     37.760027\n",
       "91     19.284787\n",
       "116    19.216173\n",
       "52     15.378470\n",
       "33     14.870748\n",
       "         ...    \n",
       "30    -24.089509\n",
       "7     -25.055983\n",
       "87    -28.450491\n",
       "6           -inf\n",
       "0            NaN\n",
       "Name: searchratio, Length: 122, dtype: float64"
      ]
     },
     "execution_count": 56,
     "metadata": {},
     "output_type": "execute_result"
    }
   ],
   "source": [
    "niodf['searchratio'].sort_values(ascending=False)"
   ]
  },
  {
   "cell_type": "code",
   "execution_count": 57,
   "metadata": {
    "scrolled": true
   },
   "outputs": [
    {
     "data": {
      "text/html": [
       "<div>\n",
       "<style scoped>\n",
       "    .dataframe tbody tr th:only-of-type {\n",
       "        vertical-align: middle;\n",
       "    }\n",
       "\n",
       "    .dataframe tbody tr th {\n",
       "        vertical-align: top;\n",
       "    }\n",
       "\n",
       "    .dataframe thead th {\n",
       "        text-align: right;\n",
       "    }\n",
       "</style>\n",
       "<table border=\"1\" class=\"dataframe\">\n",
       "  <thead>\n",
       "    <tr style=\"text-align: right;\">\n",
       "      <th></th>\n",
       "      <th>Date</th>\n",
       "      <th>Open</th>\n",
       "      <th>High</th>\n",
       "      <th>Low</th>\n",
       "      <th>Close</th>\n",
       "      <th>Adj Close</th>\n",
       "      <th>Volume</th>\n",
       "      <th>Distance</th>\n",
       "      <th>Confint</th>\n",
       "      <th>PriceConfint</th>\n",
       "      <th>VolumePer</th>\n",
       "      <th>MACD</th>\n",
       "      <th>Signal</th>\n",
       "      <th>Cross</th>\n",
       "      <th>PricePer</th>\n",
       "      <th>sum</th>\n",
       "      <th>SumPer</th>\n",
       "      <th>searchratio</th>\n",
       "    </tr>\n",
       "  </thead>\n",
       "  <tbody>\n",
       "    <tr>\n",
       "      <th>63</th>\n",
       "      <td>2020-04-02</td>\n",
       "      <td>2.51</td>\n",
       "      <td>2.59</td>\n",
       "      <td>2.22</td>\n",
       "      <td>2.39</td>\n",
       "      <td>2.39</td>\n",
       "      <td>58942700</td>\n",
       "      <td>2.783575e+13</td>\n",
       "      <td>0</td>\n",
       "      <td>1</td>\n",
       "      <td>2.436131</td>\n",
       "      <td>-0.299332</td>\n",
       "      <td>-0.315815</td>\n",
       "      <td>False</td>\n",
       "      <td>-0.047809</td>\n",
       "      <td>33</td>\n",
       "      <td>0.064516</td>\n",
       "      <td>37.760027</td>\n",
       "    </tr>\n",
       "    <tr>\n",
       "      <th>91</th>\n",
       "      <td>2020-05-13</td>\n",
       "      <td>3.64</td>\n",
       "      <td>3.68</td>\n",
       "      <td>3.32</td>\n",
       "      <td>3.44</td>\n",
       "      <td>3.44</td>\n",
       "      <td>34034700</td>\n",
       "      <td>9.110714e+14</td>\n",
       "      <td>1</td>\n",
       "      <td>1</td>\n",
       "      <td>0.550994</td>\n",
       "      <td>0.155607</td>\n",
       "      <td>0.129035</td>\n",
       "      <td>False</td>\n",
       "      <td>-0.054945</td>\n",
       "      <td>36</td>\n",
       "      <td>0.028571</td>\n",
       "      <td>19.284787</td>\n",
       "    </tr>\n",
       "    <tr>\n",
       "      <th>116</th>\n",
       "      <td>2020-06-18</td>\n",
       "      <td>6.80</td>\n",
       "      <td>7.36</td>\n",
       "      <td>6.78</td>\n",
       "      <td>7.18</td>\n",
       "      <td>7.18</td>\n",
       "      <td>78846400</td>\n",
       "      <td>2.139708e+14</td>\n",
       "      <td>0</td>\n",
       "      <td>1</td>\n",
       "      <td>0.340109</td>\n",
       "      <td>0.879530</td>\n",
       "      <td>0.744086</td>\n",
       "      <td>False</td>\n",
       "      <td>0.055882</td>\n",
       "      <td>115</td>\n",
       "      <td>0.017699</td>\n",
       "      <td>19.216173</td>\n",
       "    </tr>\n",
       "  </tbody>\n",
       "</table>\n",
       "</div>"
      ],
      "text/plain": [
       "          Date  Open  High   Low  Close  Adj Close    Volume      Distance  \\\n",
       "63  2020-04-02  2.51  2.59  2.22   2.39       2.39  58942700  2.783575e+13   \n",
       "91  2020-05-13  3.64  3.68  3.32   3.44       3.44  34034700  9.110714e+14   \n",
       "116 2020-06-18  6.80  7.36  6.78   7.18       7.18  78846400  2.139708e+14   \n",
       "\n",
       "     Confint  PriceConfint  VolumePer      MACD    Signal  Cross  PricePer  \\\n",
       "63         0             1   2.436131 -0.299332 -0.315815  False -0.047809   \n",
       "91         1             1   0.550994  0.155607  0.129035  False -0.054945   \n",
       "116        0             1   0.340109  0.879530  0.744086  False  0.055882   \n",
       "\n",
       "     sum    SumPer  searchratio  \n",
       "63    33  0.064516    37.760027  \n",
       "91    36  0.028571    19.284787  \n",
       "116  115  0.017699    19.216173  "
      ]
     },
     "execution_count": 57,
     "metadata": {},
     "output_type": "execute_result"
    }
   ],
   "source": [
    "niodf[niodf['searchratio']>18]"
   ]
  },
  {
   "cell_type": "markdown",
   "metadata": {},
   "source": [
    "### This searchratio is quite useful because it also takesinto consideration of the anomalies in trading volume changes. On 2020-04-02, the VolumePer was 243%, but the search was only increased by 6%, which led to a 37 in search ratio."
   ]
  },
  {
   "cell_type": "markdown",
   "metadata": {},
   "source": [
    "# F10: % change in price/ % change in search"
   ]
  },
  {
   "cell_type": "code",
   "execution_count": 58,
   "metadata": {},
   "outputs": [
    {
     "data": {
      "text/html": [
       "<div>\n",
       "<style scoped>\n",
       "    .dataframe tbody tr th:only-of-type {\n",
       "        vertical-align: middle;\n",
       "    }\n",
       "\n",
       "    .dataframe tbody tr th {\n",
       "        vertical-align: top;\n",
       "    }\n",
       "\n",
       "    .dataframe thead th {\n",
       "        text-align: right;\n",
       "    }\n",
       "</style>\n",
       "<table border=\"1\" class=\"dataframe\">\n",
       "  <thead>\n",
       "    <tr style=\"text-align: right;\">\n",
       "      <th></th>\n",
       "      <th>Date</th>\n",
       "      <th>Open</th>\n",
       "      <th>High</th>\n",
       "      <th>Low</th>\n",
       "      <th>Close</th>\n",
       "      <th>Adj Close</th>\n",
       "      <th>Volume</th>\n",
       "      <th>Distance</th>\n",
       "      <th>Confint</th>\n",
       "      <th>PriceConfint</th>\n",
       "      <th>VolumePer</th>\n",
       "      <th>MACD</th>\n",
       "      <th>Signal</th>\n",
       "      <th>Cross</th>\n",
       "      <th>PricePer</th>\n",
       "      <th>sum</th>\n",
       "      <th>SumPer</th>\n",
       "      <th>searchratio</th>\n",
       "      <th>psearchratio</th>\n",
       "    </tr>\n",
       "  </thead>\n",
       "  <tbody>\n",
       "    <tr>\n",
       "      <th>0</th>\n",
       "      <td>2020-01-02</td>\n",
       "      <td>4.10</td>\n",
       "      <td>4.10</td>\n",
       "      <td>3.61</td>\n",
       "      <td>3.72</td>\n",
       "      <td>3.72</td>\n",
       "      <td>103740100</td>\n",
       "      <td>1.561944e+15</td>\n",
       "      <td>1</td>\n",
       "      <td>0</td>\n",
       "      <td>NaN</td>\n",
       "      <td>0.000000</td>\n",
       "      <td>0.000000</td>\n",
       "      <td>False</td>\n",
       "      <td>-0.092683</td>\n",
       "      <td>117</td>\n",
       "      <td>NaN</td>\n",
       "      <td>NaN</td>\n",
       "      <td>NaN</td>\n",
       "    </tr>\n",
       "    <tr>\n",
       "      <th>1</th>\n",
       "      <td>2020-01-03</td>\n",
       "      <td>3.50</td>\n",
       "      <td>3.90</td>\n",
       "      <td>3.48</td>\n",
       "      <td>3.83</td>\n",
       "      <td>3.83</td>\n",
       "      <td>82892400</td>\n",
       "      <td>3.487086e+14</td>\n",
       "      <td>1</td>\n",
       "      <td>0</td>\n",
       "      <td>-0.200961</td>\n",
       "      <td>0.008775</td>\n",
       "      <td>0.001755</td>\n",
       "      <td>False</td>\n",
       "      <td>0.094286</td>\n",
       "      <td>80</td>\n",
       "      <td>-0.316239</td>\n",
       "      <td>0.635471</td>\n",
       "      <td>-1.298147</td>\n",
       "    </tr>\n",
       "    <tr>\n",
       "      <th>2</th>\n",
       "      <td>2020-01-06</td>\n",
       "      <td>4.19</td>\n",
       "      <td>4.24</td>\n",
       "      <td>3.66</td>\n",
       "      <td>3.68</td>\n",
       "      <td>3.68</td>\n",
       "      <td>106619700</td>\n",
       "      <td>1.797848e+15</td>\n",
       "      <td>1</td>\n",
       "      <td>1</td>\n",
       "      <td>0.286242</td>\n",
       "      <td>0.003584</td>\n",
       "      <td>0.002121</td>\n",
       "      <td>False</td>\n",
       "      <td>-0.121718</td>\n",
       "      <td>90</td>\n",
       "      <td>0.125000</td>\n",
       "      <td>2.289937</td>\n",
       "      <td>-1.973747</td>\n",
       "    </tr>\n",
       "    <tr>\n",
       "      <th>3</th>\n",
       "      <td>2020-01-07</td>\n",
       "      <td>3.70</td>\n",
       "      <td>3.73</td>\n",
       "      <td>3.21</td>\n",
       "      <td>3.24</td>\n",
       "      <td>3.24</td>\n",
       "      <td>106336400</td>\n",
       "      <td>1.773904e+15</td>\n",
       "      <td>1</td>\n",
       "      <td>1</td>\n",
       "      <td>-0.002657</td>\n",
       "      <td>-0.035623</td>\n",
       "      <td>-0.005428</td>\n",
       "      <td>True</td>\n",
       "      <td>-0.124324</td>\n",
       "      <td>86</td>\n",
       "      <td>-0.044444</td>\n",
       "      <td>0.059785</td>\n",
       "      <td>1.797297</td>\n",
       "    </tr>\n",
       "    <tr>\n",
       "      <th>4</th>\n",
       "      <td>2020-01-08</td>\n",
       "      <td>3.14</td>\n",
       "      <td>3.49</td>\n",
       "      <td>3.13</td>\n",
       "      <td>3.39</td>\n",
       "      <td>3.39</td>\n",
       "      <td>65118100</td>\n",
       "      <td>8.089926e+11</td>\n",
       "      <td>0</td>\n",
       "      <td>1</td>\n",
       "      <td>-0.387622</td>\n",
       "      <td>-0.053970</td>\n",
       "      <td>-0.015136</td>\n",
       "      <td>True</td>\n",
       "      <td>0.079618</td>\n",
       "      <td>91</td>\n",
       "      <td>0.058140</td>\n",
       "      <td>-6.667094</td>\n",
       "      <td>0.369427</td>\n",
       "    </tr>\n",
       "  </tbody>\n",
       "</table>\n",
       "</div>"
      ],
      "text/plain": [
       "        Date  Open  High   Low  Close  Adj Close     Volume      Distance  \\\n",
       "0 2020-01-02  4.10  4.10  3.61   3.72       3.72  103740100  1.561944e+15   \n",
       "1 2020-01-03  3.50  3.90  3.48   3.83       3.83   82892400  3.487086e+14   \n",
       "2 2020-01-06  4.19  4.24  3.66   3.68       3.68  106619700  1.797848e+15   \n",
       "3 2020-01-07  3.70  3.73  3.21   3.24       3.24  106336400  1.773904e+15   \n",
       "4 2020-01-08  3.14  3.49  3.13   3.39       3.39   65118100  8.089926e+11   \n",
       "\n",
       "   Confint  PriceConfint  VolumePer      MACD    Signal  Cross  PricePer  sum  \\\n",
       "0        1             0        NaN  0.000000  0.000000  False -0.092683  117   \n",
       "1        1             0  -0.200961  0.008775  0.001755  False  0.094286   80   \n",
       "2        1             1   0.286242  0.003584  0.002121  False -0.121718   90   \n",
       "3        1             1  -0.002657 -0.035623 -0.005428   True -0.124324   86   \n",
       "4        0             1  -0.387622 -0.053970 -0.015136   True  0.079618   91   \n",
       "\n",
       "     SumPer  searchratio  psearchratio  \n",
       "0       NaN          NaN           NaN  \n",
       "1 -0.316239     0.635471     -1.298147  \n",
       "2  0.125000     2.289937     -1.973747  \n",
       "3 -0.044444     0.059785      1.797297  \n",
       "4  0.058140    -6.667094      0.369427  "
      ]
     },
     "execution_count": 58,
     "metadata": {},
     "output_type": "execute_result"
    }
   ],
   "source": [
    "#calculate the ratio\n",
    "niodf['psearchratio'] = niodf['PricePer']/niodf['SumPer']-1\n",
    "niodf.head()"
   ]
  },
  {
   "cell_type": "code",
   "execution_count": 59,
   "metadata": {},
   "outputs": [
    {
     "data": {
      "text/plain": [
       "<matplotlib.axes._subplots.AxesSubplot at 0x7f8c266a3550>"
      ]
     },
     "execution_count": 59,
     "metadata": {},
     "output_type": "execute_result"
    },
    {
     "data": {
      "image/png": "[encoded data removed]",
      "text/plain": [
       "<Figure size 432x288 with 1 Axes>"
      ]
     },
     "metadata": {},
     "output_type": "display_data"
    }
   ],
   "source": [
    "niodf['psearchratio'].plot()"
   ]
  },
  {
   "cell_type": "code",
   "execution_count": 60,
   "metadata": {},
   "outputs": [
    {
     "data": {
      "text/html": [
       "<div>\n",
       "<style scoped>\n",
       "    .dataframe tbody tr th:only-of-type {\n",
       "        vertical-align: middle;\n",
       "    }\n",
       "\n",
       "    .dataframe tbody tr th {\n",
       "        vertical-align: top;\n",
       "    }\n",
       "\n",
       "    .dataframe thead th {\n",
       "        text-align: right;\n",
       "    }\n",
       "</style>\n",
       "<table border=\"1\" class=\"dataframe\">\n",
       "  <thead>\n",
       "    <tr style=\"text-align: right;\">\n",
       "      <th></th>\n",
       "      <th>Date</th>\n",
       "      <th>Open</th>\n",
       "      <th>High</th>\n",
       "      <th>Low</th>\n",
       "      <th>Close</th>\n",
       "      <th>Adj Close</th>\n",
       "      <th>Volume</th>\n",
       "      <th>Distance</th>\n",
       "      <th>Confint</th>\n",
       "      <th>PriceConfint</th>\n",
       "      <th>VolumePer</th>\n",
       "      <th>MACD</th>\n",
       "      <th>Signal</th>\n",
       "      <th>Cross</th>\n",
       "      <th>PricePer</th>\n",
       "      <th>sum</th>\n",
       "      <th>SumPer</th>\n",
       "      <th>searchratio</th>\n",
       "      <th>psearchratio</th>\n",
       "    </tr>\n",
       "  </thead>\n",
       "  <tbody>\n",
       "    <tr>\n",
       "      <th>6</th>\n",
       "      <td>2020-01-10</td>\n",
       "      <td>3.49</td>\n",
       "      <td>3.58</td>\n",
       "      <td>3.40</td>\n",
       "      <td>3.51</td>\n",
       "      <td>3.51</td>\n",
       "      <td>35626700</td>\n",
       "      <td>8.175002e+14</td>\n",
       "      <td>1</td>\n",
       "      <td>1</td>\n",
       "      <td>-0.348024</td>\n",
       "      <td>-0.063853</td>\n",
       "      <td>-0.032401</td>\n",
       "      <td>True</td>\n",
       "      <td>0.005731</td>\n",
       "      <td>74</td>\n",
       "      <td>0.000000</td>\n",
       "      <td>-inf</td>\n",
       "      <td>inf</td>\n",
       "    </tr>\n",
       "    <tr>\n",
       "      <th>21</th>\n",
       "      <td>2020-02-03</td>\n",
       "      <td>3.54</td>\n",
       "      <td>4.11</td>\n",
       "      <td>3.52</td>\n",
       "      <td>4.06</td>\n",
       "      <td>4.06</td>\n",
       "      <td>74051600</td>\n",
       "      <td>9.668671e+13</td>\n",
       "      <td>0</td>\n",
       "      <td>0</td>\n",
       "      <td>-0.049685</td>\n",
       "      <td>0.092535</td>\n",
       "      <td>0.155908</td>\n",
       "      <td>True</td>\n",
       "      <td>0.146893</td>\n",
       "      <td>80</td>\n",
       "      <td>0.012658</td>\n",
       "      <td>-3.925101</td>\n",
       "      <td>10.604519</td>\n",
       "    </tr>\n",
       "  </tbody>\n",
       "</table>\n",
       "</div>"
      ],
      "text/plain": [
       "         Date  Open  High   Low  Close  Adj Close    Volume      Distance  \\\n",
       "6  2020-01-10  3.49  3.58  3.40   3.51       3.51  35626700  8.175002e+14   \n",
       "21 2020-02-03  3.54  4.11  3.52   4.06       4.06  74051600  9.668671e+13   \n",
       "\n",
       "    Confint  PriceConfint  VolumePer      MACD    Signal  Cross  PricePer  \\\n",
       "6         1             1  -0.348024 -0.063853 -0.032401   True  0.005731   \n",
       "21        0             0  -0.049685  0.092535  0.155908   True  0.146893   \n",
       "\n",
       "    sum    SumPer  searchratio  psearchratio  \n",
       "6    74  0.000000         -inf           inf  \n",
       "21   80  0.012658    -3.925101     10.604519  "
      ]
     },
     "execution_count": 60,
     "metadata": {},
     "output_type": "execute_result"
    }
   ],
   "source": [
    "niodf[niodf['psearchratio']>10]"
   ]
  },
  {
   "cell_type": "markdown",
   "metadata": {},
   "source": [
    "### This graph displays that the price jumped by 14% on day 20, but the search result only increased by 1%. As a result, the psearchratio is very large. This would mean that the price should not be driven up by those who had to use google search to look up the company. There is a flaw in this metric where if the searchrate is the same for two days, the ratio could not be calculated. "
   ]
  }
 ],
 "metadata": {
  "kernelspec": {
   "display_name": "Python 3",
   "language": "python",
   "name": "python3"
  },
  "language_info": {
   "codemirror_mode": {
    "name": "ipython",
    "version": 3
   },
   "file_extension": ".py",
   "mimetype": "text/x-python",
   "name": "python",
   "nbconvert_exporter": "python",
   "pygments_lexer": "ipython3",
   "version": "3.7.6"
  }
 },
 "nbformat": 4,
 "nbformat_minor": 4
}
